{
  "nbformat": 4,
  "nbformat_minor": 0,
  "metadata": {
    "colab": {
      "provenance": []
    },
    "kernelspec": {
      "name": "python3",
      "display_name": "Python 3"
    },
    "language_info": {
      "name": "python"
    }
  },
  "cells": [
    {
      "cell_type": "code",
      "source": [
        "pip install pyspark\n"
      ],
      "metadata": {
        "colab": {
          "base_uri": "https://localhost:8080/"
        },
        "id": "qGTwcGvg8PIc",
        "outputId": "3d3e6dc8-5619-443e-cfcc-b1067167483a"
      },
      "execution_count": 2,
      "outputs": [
        {
          "output_type": "stream",
          "name": "stdout",
          "text": [
            "Collecting pyspark\n",
            "  Downloading pyspark-3.5.2.tar.gz (317.3 MB)\n",
            "\u001b[2K     \u001b[90m━━━━━━━━━━━━━━━━━━━━━━━━━━━━━━━━━━━━━━━━\u001b[0m \u001b[32m317.3/317.3 MB\u001b[0m \u001b[31m4.0 MB/s\u001b[0m eta \u001b[36m0:00:00\u001b[0m\n",
            "\u001b[?25h  Preparing metadata (setup.py) ... \u001b[?25l\u001b[?25hdone\n",
            "Requirement already satisfied: py4j==0.10.9.7 in /usr/local/lib/python3.10/dist-packages (from pyspark) (0.10.9.7)\n",
            "Building wheels for collected packages: pyspark\n",
            "  Building wheel for pyspark (setup.py) ... \u001b[?25l\u001b[?25hdone\n",
            "  Created wheel for pyspark: filename=pyspark-3.5.2-py2.py3-none-any.whl size=317812365 sha256=5d7ed7a839e627a2895d5bcdd7143316f6f469bf9d1f36c5b994c05d8b6b6c17\n",
            "  Stored in directory: /root/.cache/pip/wheels/34/34/bd/03944534c44b677cd5859f248090daa9fb27b3c8f8e5f49574\n",
            "Successfully built pyspark\n",
            "Installing collected packages: pyspark\n",
            "Successfully installed pyspark-3.5.2\n"
          ]
        }
      ]
    },
    {
      "cell_type": "code",
      "source": [
        "from pyspark.sql import SparkSession\n",
        "\n",
        "spark = SparkSession.builder.appName(\"RDD Transformation Example\").getOrCreate()\n",
        "\n",
        "#Get the SparkContext from the SparkSession\n",
        "sc = spark.sparkContext\n",
        "print(\"spark session created\")\n",
        "\n",
        "data = [1,2,3,4,5,6,7,8,9,10]\n",
        "rdd = sc.parallelize(data)\n",
        "\n"
      ],
      "metadata": {
        "colab": {
          "base_uri": "https://localhost:8080/"
        },
        "id": "XXZjLLa7NWMa",
        "outputId": "67425c10-dcd6-4caf-e5c8-a79340b3b4c5"
      },
      "execution_count": 3,
      "outputs": [
        {
          "output_type": "stream",
          "name": "stdout",
          "text": [
            "spark session created\n"
          ]
        }
      ]
    },
    {
      "cell_type": "code",
      "source": [
        "rdd2 = rdd.map(lambda x: x*2)\n",
        "\n",
        "# print the transformed RDD\n",
        "print(\"RDD after map transformation (x2):\",rdd2.collect())\n",
        "\n"
      ],
      "metadata": {
        "colab": {
          "base_uri": "https://localhost:8080/"
        },
        "id": "qc61H5OsPLbR",
        "outputId": "1bd53575-529d-4178-b9ec-0b532547ee94"
      },
      "execution_count": 5,
      "outputs": [
        {
          "output_type": "stream",
          "name": "stdout",
          "text": [
            "RDD after map transformation (x2): [2, 4, 6, 8, 10, 12, 14, 16, 18, 20]\n"
          ]
        }
      ]
    },
    {
      "cell_type": "code",
      "source": [
        "rdd3 = rdd2.filter(lambda x: x%2 == 0)\n",
        "\n",
        "# print the filtered RDD\n",
        "print(\"RDD after filter transformation (even numbers):\",rdd3.collect())"
      ],
      "metadata": {
        "colab": {
          "base_uri": "https://localhost:8080/"
        },
        "id": "4iJ2pcjBP5B8",
        "outputId": "1982af0d-f747-4218-b436-83b42efb680c"
      },
      "execution_count": 6,
      "outputs": [
        {
          "output_type": "stream",
          "name": "stdout",
          "text": [
            "RDD after filter transformation (even numbers): [2, 4, 6, 8, 10, 12, 14, 16, 18, 20]\n"
          ]
        }
      ]
    },
    {
      "cell_type": "code",
      "source": [
        "sentences = [\"Hello World\",\"Pyspark is great\",\"RDD transformations\"]\n",
        "rdd4 = sc.parallelize(sentences)\n",
        "\n",
        "words_rdd = rdd4.flatMap(lambda sentence : sentence.split(\" \"))\n",
        "\n",
        "# print the flatmapped RDD\n",
        "print(\"RDD after flatMap transformation(split into words):\",words_rdd.collect())"
      ],
      "metadata": {
        "colab": {
          "base_uri": "https://localhost:8080/"
        },
        "id": "ahouHBTvQKh8",
        "outputId": "a35b57ae-39ee-4cdd-9911-e642128daa53"
      },
      "execution_count": 7,
      "outputs": [
        {
          "output_type": "stream",
          "name": "stdout",
          "text": [
            "RDD after flatMap transformation(split into words): ['Hello', 'World', 'Pyspark', 'is', 'great', 'RDD', 'transformations']\n"
          ]
        }
      ]
    },
    {
      "cell_type": "code",
      "source": [
        "results = rdd3.collect()\n",
        "print(results)"
      ],
      "metadata": {
        "colab": {
          "base_uri": "https://localhost:8080/"
        },
        "id": "qGnmwAdiSGlS",
        "outputId": "7702281d-6793-4d29-964c-fbea93d8672b"
      },
      "execution_count": 8,
      "outputs": [
        {
          "output_type": "stream",
          "name": "stdout",
          "text": [
            "[2, 4, 6, 8, 10, 12, 14, 16, 18, 20]\n"
          ]
        }
      ]
    },
    {
      "cell_type": "code",
      "source": [
        "count = rdd3.count()\n",
        "print(f\"Number of elements in RDD: {count}\")"
      ],
      "metadata": {
        "colab": {
          "base_uri": "https://localhost:8080/"
        },
        "id": "OUO7uF8KSQoU",
        "outputId": "fbbd5898-530a-411c-bc8d-9d460280fc08"
      },
      "execution_count": 9,
      "outputs": [
        {
          "output_type": "stream",
          "name": "stdout",
          "text": [
            "Number of elements in RDD: 10\n"
          ]
        }
      ]
    },
    {
      "cell_type": "code",
      "source": [
        "total_sum = rdd.reduce(lambda x,y: x+y)\n",
        "print(f\"Total sum of elements in RDD: {total_sum}\")"
      ],
      "metadata": {
        "colab": {
          "base_uri": "https://localhost:8080/"
        },
        "id": "5FDNL2z-Speg",
        "outputId": "e084c065-bf45-4c30-f8c3-be9e4d07454c"
      },
      "execution_count": 11,
      "outputs": [
        {
          "output_type": "stream",
          "name": "stdout",
          "text": [
            "Total sum of elements in RDD: 55\n"
          ]
        }
      ]
    }
  ]
}