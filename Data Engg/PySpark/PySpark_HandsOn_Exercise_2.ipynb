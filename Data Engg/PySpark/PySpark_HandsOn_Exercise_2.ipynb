{
  "nbformat": 4,
  "nbformat_minor": 0,
  "metadata": {
    "colab": {
      "provenance": []
    },
    "kernelspec": {
      "name": "python3",
      "display_name": "Python 3"
    },
    "language_info": {
      "name": "python"
    }
  },
  "cells": [
    {
      "cell_type": "code",
      "source": [
        "pip install pyspark\n"
      ],
      "metadata": {
        "colab": {
          "base_uri": "https://localhost:8080/"
        },
        "id": "qGTwcGvg8PIc",
        "outputId": "3ef6c5db-16fa-45ae-bdd0-a3a010399917"
      },
      "execution_count": 4,
      "outputs": [
        {
          "output_type": "stream",
          "name": "stdout",
          "text": [
            "Collecting pyspark\n",
            "  Downloading pyspark-3.5.2.tar.gz (317.3 MB)\n",
            "\u001b[2K     \u001b[90m━━━━━━━━━━━━━━━━━━━━━━━━━━━━━━━━━━━━━━━━\u001b[0m \u001b[32m317.3/317.3 MB\u001b[0m \u001b[31m1.5 MB/s\u001b[0m eta \u001b[36m0:00:00\u001b[0m\n",
            "\u001b[?25h  Preparing metadata (setup.py) ... \u001b[?25l\u001b[?25hdone\n",
            "Requirement already satisfied: py4j==0.10.9.7 in /usr/local/lib/python3.10/dist-packages (from pyspark) (0.10.9.7)\n",
            "Building wheels for collected packages: pyspark\n",
            "  Building wheel for pyspark (setup.py) ... \u001b[?25l\u001b[?25hdone\n",
            "  Created wheel for pyspark: filename=pyspark-3.5.2-py2.py3-none-any.whl size=317812365 sha256=9e66783d05780aafca4cc5e679e1720a14aac011baebe273b9295be6bbe782d9\n",
            "  Stored in directory: /root/.cache/pip/wheels/34/34/bd/03944534c44b677cd5859f248090daa9fb27b3c8f8e5f49574\n",
            "Successfully built pyspark\n",
            "Installing collected packages: pyspark\n",
            "Successfully installed pyspark-3.5.2\n"
          ]
        }
      ]
    },
    {
      "cell_type": "code",
      "source": [
        " import pandas as pd\n",
        " from datetime import datetime\n",
        "\n",
        "   # Sample sales data\n",
        "\n",
        "data = {\n",
        "       \"TransactionID\": [1, 2, 3, 4, 5, 6, 7, 8, 9, 10],\n",
        "       \"CustomerID\": [101, 102, 103, 101, 104, 102, 103, 104, 101, 105],\n",
        "       \"ProductID\": [501, 502, 501, 503, 504, 502, 503, 504, 501, 505],\n",
        "       \"Quantity\": [2, 1, 4, 3, 1, 2, 5, 1, 2, 1],\n",
        "       \"Price\": [150.0, 250.0, 150.0, 300.0, 450.0, 250.0, 300.0, 450.0, 150.0, 550.0],\n",
        "       \"Date\": [\n",
        "           datetime(2024, 9, 1),\n",
        "           datetime(2024, 9, 1),\n",
        "           datetime(2024, 9, 2),\n",
        "           datetime(2024, 9, 2),\n",
        "           datetime(2024, 9, 3),\n",
        "           datetime(2024, 9, 3),\n",
        "           datetime(2024, 9, 4),\n",
        "           datetime(2024, 9, 4),\n",
        "           datetime(2024, 9, 5),\n",
        "           datetime(2024, 9, 5)\n",
        "       ]\n",
        "   }\n",
        "\n",
        "     # Create a DataFrame\n",
        "df = pd.DataFrame(data)\n",
        "\n",
        "   # Save the DataFrame to a CSV file\n",
        "df.to_csv('sales_data.csv', index=False)\n",
        "\n",
        "print(\"Sample sales dataset has been created and saved as 'sales_data.csv'.\")\n"
      ],
      "metadata": {
        "colab": {
          "base_uri": "https://localhost:8080/"
        },
        "id": "o1ojKpdIngSW",
        "outputId": "48fa5c25-1cff-4e46-8927-525e05e5e43a"
      },
      "execution_count": 44,
      "outputs": [
        {
          "output_type": "stream",
          "name": "stdout",
          "text": [
            "Sample sales dataset has been created and saved as 'sales_data.csv'.\n"
          ]
        }
      ]
    },
    {
      "cell_type": "code",
      "source": [
        "from pyspark.sql import SparkSession\n",
        "from pyspark.sql.functions import col\n",
        "# Initialize SparkSession\n",
        "spark = SparkSession.builder \\\n",
        "    .appName(\"Sales Dataset Analysis\") \\\n",
        "    .getOrCreate()\n",
        "\n",
        "# Load the CSV file into a PySpark DataFrame\n",
        "df = spark.read.csv('sales_data.csv', header=True)\n",
        "\n",
        "# Display the first few rows\n",
        "df.show()\n"
      ],
      "metadata": {
        "colab": {
          "base_uri": "https://localhost:8080/"
        },
        "id": "A0JTcnoxre-p",
        "outputId": "369250d8-5b1e-489b-ed1c-56ab46b50bce"
      },
      "execution_count": 49,
      "outputs": [
        {
          "output_type": "stream",
          "name": "stdout",
          "text": [
            "+-------------+----------+---------+--------+-----+----------+\n",
            "|TransactionID|CustomerID|ProductID|Quantity|Price|      Date|\n",
            "+-------------+----------+---------+--------+-----+----------+\n",
            "|            1|       101|      501|       2|150.0|2024-09-01|\n",
            "|            2|       102|      502|       1|250.0|2024-09-01|\n",
            "|            3|       103|      501|       4|150.0|2024-09-02|\n",
            "|            4|       101|      503|       3|300.0|2024-09-02|\n",
            "|            5|       104|      504|       1|450.0|2024-09-03|\n",
            "|            6|       102|      502|       2|250.0|2024-09-03|\n",
            "|            7|       103|      503|       5|300.0|2024-09-04|\n",
            "|            8|       104|      504|       1|450.0|2024-09-04|\n",
            "|            9|       101|      501|       2|150.0|2024-09-05|\n",
            "|           10|       105|      505|       1|550.0|2024-09-05|\n",
            "+-------------+----------+---------+--------+-----+----------+\n",
            "\n"
          ]
        }
      ]
    },
    {
      "cell_type": "code",
      "source": [
        "# 1. printing schema\n",
        "df.printSchema()\n",
        "\n",
        "# 2.First 5 rows\n",
        "df.show(5)\n",
        "\n",
        "# 3.Summary statics\n",
        "df.describe([\"Quantity\",\"Price\"]).show()\n",
        "\n"
      ],
      "metadata": {
        "colab": {
          "base_uri": "https://localhost:8080/"
        },
        "id": "8ISynjZwsOs_",
        "outputId": "9a65891b-13aa-4ba3-a40c-200951e09089"
      },
      "execution_count": 57,
      "outputs": [
        {
          "output_type": "stream",
          "name": "stdout",
          "text": [
            "root\n",
            " |-- TransactionID: string (nullable = true)\n",
            " |-- CustomerID: string (nullable = true)\n",
            " |-- ProductID: string (nullable = true)\n",
            " |-- Quantity: string (nullable = true)\n",
            " |-- Price: string (nullable = true)\n",
            " |-- Date: string (nullable = true)\n",
            "\n",
            "+-------------+----------+---------+--------+-----+----------+\n",
            "|TransactionID|CustomerID|ProductID|Quantity|Price|      Date|\n",
            "+-------------+----------+---------+--------+-----+----------+\n",
            "|            1|       101|      501|       2|150.0|2024-09-01|\n",
            "|            2|       102|      502|       1|250.0|2024-09-01|\n",
            "|            3|       103|      501|       4|150.0|2024-09-02|\n",
            "|            4|       101|      503|       3|300.0|2024-09-02|\n",
            "|            5|       104|      504|       1|450.0|2024-09-03|\n",
            "+-------------+----------+---------+--------+-----+----------+\n",
            "only showing top 5 rows\n",
            "\n",
            "+-------+-----------------+-----------------+\n",
            "|summary|         Quantity|            Price|\n",
            "+-------+-----------------+-----------------+\n",
            "|  count|               10|               10|\n",
            "|   mean|              2.2|            300.0|\n",
            "| stddev|1.398411797560202|141.4213562373095|\n",
            "|    min|                1|            150.0|\n",
            "|    max|                5|            550.0|\n",
            "+-------+-----------------+-----------------+\n",
            "\n"
          ]
        }
      ]
    },
    {
      "cell_type": "code",
      "source": [
        "# DATA TRANSFORMATION\n",
        "\n",
        "# 1 .new column TotalSales\n",
        "df = df.withColumn('TotalSales', col('Quantity') * col('Price'))\n",
        "print(\"Data after adding TotalSales column:\")\n",
        "df.show()\n",
        "\n",
        "# 2. group by productId and total sales\n",
        "total_sales_df = df.groupBy('ProductID').sum('TotalSales').withColumnRenamed('sum(TotalSales)', 'TotalSales')\n",
        "print(\"Total Sales by Product ID:\")\n",
        "total_sales_df.show()\n",
        "\n",
        "# 3. Top selling product\n",
        "top_selling_product = total_sales_df.orderBy(col('TotalSales').desc()).limit(1)\n",
        "print(\"Top Selling Product:\")\n",
        "top_selling_product.show()\n",
        "\n",
        "# 4. Total sales by date\n",
        "total_sales_by_date = df.groupBy('Date').sum('TotalSales').withColumnRenamed('sum(TotalSales)', 'TotalSales')\n",
        "print(\"Total Sales by Date:\")\n",
        "total_sales_by_date.show()\n",
        "\n",
        "# Filtering total sales above 500\n",
        "filtered_total_sales = total_sales_df.filter(col('TotalSales') > 500)\n",
        "print(\"Total Sales Above 500:\")\n",
        "filtered_total_sales.show()"
      ],
      "metadata": {
        "colab": {
          "base_uri": "https://localhost:8080/"
        },
        "id": "5cExtx0nt9Bv",
        "outputId": "cad2b0e3-fcdb-46cf-9a77-6e7f232a2f9a"
      },
      "execution_count": 63,
      "outputs": [
        {
          "output_type": "stream",
          "name": "stdout",
          "text": [
            "Data after adding TotalSales column:\n",
            "+-------------+----------+---------+--------+-----+----------+----------+\n",
            "|TransactionID|CustomerID|ProductID|Quantity|Price|      Date|TotalSales|\n",
            "+-------------+----------+---------+--------+-----+----------+----------+\n",
            "|            1|       101|      501|       2|150.0|2024-09-01|     300.0|\n",
            "|            2|       102|      502|       1|250.0|2024-09-01|     250.0|\n",
            "|            3|       103|      501|       4|150.0|2024-09-02|     600.0|\n",
            "|            4|       101|      503|       3|300.0|2024-09-02|     900.0|\n",
            "|            5|       104|      504|       1|450.0|2024-09-03|     450.0|\n",
            "|            6|       102|      502|       2|250.0|2024-09-03|     500.0|\n",
            "|            7|       103|      503|       5|300.0|2024-09-04|    1500.0|\n",
            "|            8|       104|      504|       1|450.0|2024-09-04|     450.0|\n",
            "|            9|       101|      501|       2|150.0|2024-09-05|     300.0|\n",
            "|           10|       105|      505|       1|550.0|2024-09-05|     550.0|\n",
            "+-------------+----------+---------+--------+-----+----------+----------+\n",
            "\n",
            "Total Sales by Product ID:\n",
            "+---------+----------+\n",
            "|ProductID|TotalSales|\n",
            "+---------+----------+\n",
            "|      503|    2400.0|\n",
            "|      502|     750.0|\n",
            "|      505|     550.0|\n",
            "|      501|    1200.0|\n",
            "|      504|     900.0|\n",
            "+---------+----------+\n",
            "\n",
            "Top Selling Product:\n",
            "+---------+----------+\n",
            "|ProductID|TotalSales|\n",
            "+---------+----------+\n",
            "|      503|    2400.0|\n",
            "+---------+----------+\n",
            "\n",
            "Total Sales by Date:\n",
            "+----------+----------+\n",
            "|      Date|TotalSales|\n",
            "+----------+----------+\n",
            "|2024-09-05|     850.0|\n",
            "|2024-09-04|    1950.0|\n",
            "|2024-09-02|    1500.0|\n",
            "|2024-09-03|     950.0|\n",
            "|2024-09-01|     550.0|\n",
            "+----------+----------+\n",
            "\n",
            "Total Sales Above 500:\n",
            "+---------+----------+\n",
            "|ProductID|TotalSales|\n",
            "+---------+----------+\n",
            "|      503|    2400.0|\n",
            "|      502|     750.0|\n",
            "|      505|     550.0|\n",
            "|      501|    1200.0|\n",
            "|      504|     900.0|\n",
            "+---------+----------+\n",
            "\n"
          ]
        }
      ]
    },
    {
      "cell_type": "code",
      "source": [
        "# Additional Challenge\n",
        "\n",
        "# Identifying repeat customers\n",
        "repeat_customers = df.groupBy('CustomerID').count().withColumnRenamed('count',\"Total_Count\").filter(col('Total_count') > 1)\n",
        "print(\"Repeat Customers:\")\n",
        "repeat_customers.show()\n",
        "\n",
        "# Average sale price per product\n",
        "avg_sale_price_per_product = df.groupBy('ProductID').avg('Price').withColumnRenamed('avg(Price)', 'AvgPrice')\n",
        "print(\"Average Sale Price per Product:\")\n",
        "avg_sale_price_per_product.show"
      ],
      "metadata": {
        "colab": {
          "base_uri": "https://localhost:8080/",
          "height": 530
        },
        "id": "KupUw5Dowyq1",
        "outputId": "875895c5-528a-48f7-e62d-dd60e5efd8f5"
      },
      "execution_count": 65,
      "outputs": [
        {
          "output_type": "stream",
          "name": "stdout",
          "text": [
            "Repeat Customers:\n",
            "+----------+-----------+\n",
            "|CustomerID|Total_Count|\n",
            "+----------+-----------+\n",
            "|       101|          3|\n",
            "|       104|          2|\n",
            "|       102|          2|\n",
            "|       103|          2|\n",
            "+----------+-----------+\n",
            "\n"
          ]
        },
        {
          "output_type": "error",
          "ename": "AnalysisException",
          "evalue": "\"Price\" is not a numeric column. Aggregation function can only be applied on a numeric column.",
          "traceback": [
            "\u001b[0;31m---------------------------------------------------------------------------\u001b[0m",
            "\u001b[0;31mAnalysisException\u001b[0m                         Traceback (most recent call last)",
            "\u001b[0;32m<ipython-input-65-43f1a79fbe32>\u001b[0m in \u001b[0;36m<cell line: 9>\u001b[0;34m()\u001b[0m\n\u001b[1;32m      7\u001b[0m \u001b[0;34m\u001b[0m\u001b[0m\n\u001b[1;32m      8\u001b[0m \u001b[0;31m# Average sale price per product\u001b[0m\u001b[0;34m\u001b[0m\u001b[0;34m\u001b[0m\u001b[0m\n\u001b[0;32m----> 9\u001b[0;31m \u001b[0mavg_sale_price_per_product\u001b[0m \u001b[0;34m=\u001b[0m \u001b[0mdf\u001b[0m\u001b[0;34m.\u001b[0m\u001b[0mgroupBy\u001b[0m\u001b[0;34m(\u001b[0m\u001b[0;34m'ProductID'\u001b[0m\u001b[0;34m)\u001b[0m\u001b[0;34m.\u001b[0m\u001b[0mavg\u001b[0m\u001b[0;34m(\u001b[0m\u001b[0;34m'Price'\u001b[0m\u001b[0;34m)\u001b[0m\u001b[0;34m.\u001b[0m\u001b[0mwithColumnRenamed\u001b[0m\u001b[0;34m(\u001b[0m\u001b[0;34m'avg(Price)'\u001b[0m\u001b[0;34m,\u001b[0m \u001b[0;34m'AvgPrice'\u001b[0m\u001b[0;34m)\u001b[0m\u001b[0;34m\u001b[0m\u001b[0;34m\u001b[0m\u001b[0m\n\u001b[0m\u001b[1;32m     10\u001b[0m \u001b[0mprint\u001b[0m\u001b[0;34m(\u001b[0m\u001b[0;34m\"Average Sale Price per Product:\"\u001b[0m\u001b[0;34m)\u001b[0m\u001b[0;34m\u001b[0m\u001b[0;34m\u001b[0m\u001b[0m\n\u001b[1;32m     11\u001b[0m \u001b[0mavg_sale_price_per_product\u001b[0m\u001b[0;34m.\u001b[0m\u001b[0mshow\u001b[0m\u001b[0;34m\u001b[0m\u001b[0;34m\u001b[0m\u001b[0m\n",
            "\u001b[0;32m/usr/local/lib/python3.10/dist-packages/pyspark/sql/group.py\u001b[0m in \u001b[0;36m_api\u001b[0;34m(self, *cols)\u001b[0m\n\u001b[1;32m     47\u001b[0m     \u001b[0;32mdef\u001b[0m \u001b[0m_api\u001b[0m\u001b[0;34m(\u001b[0m\u001b[0mself\u001b[0m\u001b[0;34m:\u001b[0m \u001b[0;34m\"GroupedData\"\u001b[0m\u001b[0;34m,\u001b[0m \u001b[0;34m*\u001b[0m\u001b[0mcols\u001b[0m\u001b[0;34m:\u001b[0m \u001b[0mstr\u001b[0m\u001b[0;34m)\u001b[0m \u001b[0;34m->\u001b[0m \u001b[0mDataFrame\u001b[0m\u001b[0;34m:\u001b[0m\u001b[0;34m\u001b[0m\u001b[0;34m\u001b[0m\u001b[0m\n\u001b[1;32m     48\u001b[0m         \u001b[0mname\u001b[0m \u001b[0;34m=\u001b[0m \u001b[0mf\u001b[0m\u001b[0;34m.\u001b[0m\u001b[0m__name__\u001b[0m\u001b[0;34m\u001b[0m\u001b[0;34m\u001b[0m\u001b[0m\n\u001b[0;32m---> 49\u001b[0;31m         \u001b[0mjdf\u001b[0m \u001b[0;34m=\u001b[0m \u001b[0mgetattr\u001b[0m\u001b[0;34m(\u001b[0m\u001b[0mself\u001b[0m\u001b[0;34m.\u001b[0m\u001b[0m_jgd\u001b[0m\u001b[0;34m,\u001b[0m \u001b[0mname\u001b[0m\u001b[0;34m)\u001b[0m\u001b[0;34m(\u001b[0m\u001b[0m_to_seq\u001b[0m\u001b[0;34m(\u001b[0m\u001b[0mself\u001b[0m\u001b[0;34m.\u001b[0m\u001b[0msession\u001b[0m\u001b[0;34m.\u001b[0m\u001b[0m_sc\u001b[0m\u001b[0;34m,\u001b[0m \u001b[0mcols\u001b[0m\u001b[0;34m)\u001b[0m\u001b[0;34m)\u001b[0m\u001b[0;34m\u001b[0m\u001b[0;34m\u001b[0m\u001b[0m\n\u001b[0m\u001b[1;32m     50\u001b[0m         \u001b[0;32mreturn\u001b[0m \u001b[0mDataFrame\u001b[0m\u001b[0;34m(\u001b[0m\u001b[0mjdf\u001b[0m\u001b[0;34m,\u001b[0m \u001b[0mself\u001b[0m\u001b[0;34m.\u001b[0m\u001b[0msession\u001b[0m\u001b[0;34m)\u001b[0m\u001b[0;34m\u001b[0m\u001b[0;34m\u001b[0m\u001b[0m\n\u001b[1;32m     51\u001b[0m \u001b[0;34m\u001b[0m\u001b[0m\n",
            "\u001b[0;32m/usr/local/lib/python3.10/dist-packages/py4j/java_gateway.py\u001b[0m in \u001b[0;36m__call__\u001b[0;34m(self, *args)\u001b[0m\n\u001b[1;32m   1320\u001b[0m \u001b[0;34m\u001b[0m\u001b[0m\n\u001b[1;32m   1321\u001b[0m         \u001b[0manswer\u001b[0m \u001b[0;34m=\u001b[0m \u001b[0mself\u001b[0m\u001b[0;34m.\u001b[0m\u001b[0mgateway_client\u001b[0m\u001b[0;34m.\u001b[0m\u001b[0msend_command\u001b[0m\u001b[0;34m(\u001b[0m\u001b[0mcommand\u001b[0m\u001b[0;34m)\u001b[0m\u001b[0;34m\u001b[0m\u001b[0;34m\u001b[0m\u001b[0m\n\u001b[0;32m-> 1322\u001b[0;31m         return_value = get_return_value(\n\u001b[0m\u001b[1;32m   1323\u001b[0m             answer, self.gateway_client, self.target_id, self.name)\n\u001b[1;32m   1324\u001b[0m \u001b[0;34m\u001b[0m\u001b[0m\n",
            "\u001b[0;32m/usr/local/lib/python3.10/dist-packages/pyspark/errors/exceptions/captured.py\u001b[0m in \u001b[0;36mdeco\u001b[0;34m(*a, **kw)\u001b[0m\n\u001b[1;32m    183\u001b[0m                 \u001b[0;31m# Hide where the exception came from that shows a non-Pythonic\u001b[0m\u001b[0;34m\u001b[0m\u001b[0;34m\u001b[0m\u001b[0m\n\u001b[1;32m    184\u001b[0m                 \u001b[0;31m# JVM exception message.\u001b[0m\u001b[0;34m\u001b[0m\u001b[0;34m\u001b[0m\u001b[0m\n\u001b[0;32m--> 185\u001b[0;31m                 \u001b[0;32mraise\u001b[0m \u001b[0mconverted\u001b[0m \u001b[0;32mfrom\u001b[0m \u001b[0;32mNone\u001b[0m\u001b[0;34m\u001b[0m\u001b[0;34m\u001b[0m\u001b[0m\n\u001b[0m\u001b[1;32m    186\u001b[0m             \u001b[0;32melse\u001b[0m\u001b[0;34m:\u001b[0m\u001b[0;34m\u001b[0m\u001b[0;34m\u001b[0m\u001b[0m\n\u001b[1;32m    187\u001b[0m                 \u001b[0;32mraise\u001b[0m\u001b[0;34m\u001b[0m\u001b[0;34m\u001b[0m\u001b[0m\n",
            "\u001b[0;31mAnalysisException\u001b[0m: \"Price\" is not a numeric column. Aggregation function can only be applied on a numeric column."
          ]
        }
      ]
    }
  ]
}