{
  "nbformat": 4,
  "nbformat_minor": 0,
  "metadata": {
    "colab": {
      "provenance": []
    },
    "kernelspec": {
      "name": "python3",
      "display_name": "Python 3"
    },
    "language_info": {
      "name": "python"
    }
  },
  "cells": [
    {
      "cell_type": "code",
      "source": [
        "pip install pyspark"
      ],
      "metadata": {
        "colab": {
          "base_uri": "https://localhost:8080/"
        },
        "id": "X7WjvOBSbl_3",
        "outputId": "8eb4ec23-461f-4c8c-83e0-42d5355d0360"
      },
      "execution_count": 1,
      "outputs": [
        {
          "output_type": "stream",
          "name": "stdout",
          "text": [
            "Collecting pyspark\n",
            "  Downloading pyspark-3.5.2.tar.gz (317.3 MB)\n",
            "\u001b[2K     \u001b[90m━━━━━━━━━━━━━━━━━━━━━━━━━━━━━━━━━━━━━━━━\u001b[0m \u001b[32m317.3/317.3 MB\u001b[0m \u001b[31m4.3 MB/s\u001b[0m eta \u001b[36m0:00:00\u001b[0m\n",
            "\u001b[?25h  Preparing metadata (setup.py) ... \u001b[?25l\u001b[?25hdone\n",
            "Requirement already satisfied: py4j==0.10.9.7 in /usr/local/lib/python3.10/dist-packages (from pyspark) (0.10.9.7)\n",
            "Building wheels for collected packages: pyspark\n",
            "  Building wheel for pyspark (setup.py) ... \u001b[?25l\u001b[?25hdone\n",
            "  Created wheel for pyspark: filename=pyspark-3.5.2-py2.py3-none-any.whl size=317812365 sha256=38c7c58d632a07825f810d5dd4e914867bbacf3a4916d4ea5092f004f7881162\n",
            "  Stored in directory: /root/.cache/pip/wheels/34/34/bd/03944534c44b677cd5859f248090daa9fb27b3c8f8e5f49574\n",
            "Successfully built pyspark\n",
            "Installing collected packages: pyspark\n",
            "Successfully installed pyspark-3.5.2\n"
          ]
        }
      ]
    },
    {
      "cell_type": "markdown",
      "source": [
        "# **ETL EXERCISE**"
      ],
      "metadata": {
        "id": "KfDOAtnPi7VU"
      }
    },
    {
      "cell_type": "code",
      "source": [
        "from pyspark.sql import SparkSession\n",
        "from pyspark.sql.functions import col, round, mean\n",
        "\n",
        "# Initialize Spark session\n",
        "spark = SparkSession.builder \\\n",
        "    .appName(\"EmployeeSalaryETL\") \\\n",
        "    .getOrCreate()\n",
        "\n",
        "# Load the employee data from a CSV file\n",
        "input_path = \"/content/sample_data/people.txt\"\n",
        "df = spark.read.csv(input_path, header=True, inferSchema=True)\n",
        "\n",
        "# Filter employees aged 30 and above\n",
        "filtered_df = df.filter(col(\"age\") >= 30)\n",
        "\n",
        "# Calculate the salary with a 10% bonus\n",
        "transformed_df = filtered_df.withColumn(\n",
        "    \"salary_with_bonus\", round(col(\"salary\") * 1.10, 2)\n",
        ")\n",
        "\n",
        "# Show the transformed dataframe\n",
        "transformed_df.show()\n",
        "\n",
        "# Calculate average salary by gender\n",
        "average_salary_by_gender = transformed_df.groupBy(\"gender\").agg(\n",
        "    round(mean(\"salary\"), 2).alias(\"average_salary\")\n",
        ")\n",
        "\n",
        "# Show average salary by gender\n",
        "average_salary_by_gender.show()\n",
        "\n",
        "# Define output path for the Parquet file\n",
        "output_path = \"path/to/transformed_employee_data.parquet\"\n",
        "\n",
        "# Save the transformed DataFrame to a Parquet file\n",
        "transformed_df.write.parquet(output_path, mode=\"overwrite\")\n",
        "\n",
        "# Convert average salary by gender to Pandas DataFrame for reporting\n",
        "summary_report = average_salary_by_gender.toPandas()\n",
        "\n",
        "# Display summary report\n",
        "print(\"Average Salary by Gender:\")\n",
        "print(summary_report)\n",
        "\n",
        "# save the summary report to a CSV file\n",
        "summary_report.to_csv(\"path/to/average_salary_by_gender.csv\", index=False)\n"
      ],
      "metadata": {
        "colab": {
          "base_uri": "https://localhost:8080/"
        },
        "id": "rDYLi0kNb448",
        "outputId": "aae341f5-72ba-433a-e6c1-f3efdf546eef"
      },
      "execution_count": 6,
      "outputs": [
        {
          "output_type": "stream",
          "name": "stdout",
          "text": [
            "+-----+---+------+--------+-----------------+\n",
            "| name|age|gender|  salary|salary_with_bonus|\n",
            "+-----+---+------+--------+-----------------+\n",
            "| Jane| 32| Femal|72000   |          79200.0|\n",
            "| Mike| 45|  Male|84000   |          92400.0|\n",
            "| Alex| 36|  Male|  67000 |          73700.0|\n",
            "+-----+---+------+--------+-----------------+\n",
            "\n",
            "+------+--------------+\n",
            "|gender|average_salary|\n",
            "+------+--------------+\n",
            "| Femal|       72000.0|\n",
            "|  Male|       75500.0|\n",
            "+------+--------------+\n",
            "\n",
            "Average Salary by Gender:\n",
            "  gender  average_salary\n",
            "0  Femal         72000.0\n",
            "1   Male         75500.0\n"
          ]
        }
      ]
    }
  ]
}