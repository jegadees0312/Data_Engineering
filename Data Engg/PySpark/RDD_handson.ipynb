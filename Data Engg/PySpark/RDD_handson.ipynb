{
  "nbformat": 4,
  "nbformat_minor": 0,
  "metadata": {
    "colab": {
      "provenance": []
    },
    "kernelspec": {
      "name": "python3",
      "display_name": "Python 3"
    },
    "language_info": {
      "name": "python"
    }
  },
  "cells": [
    {
      "cell_type": "markdown",
      "source": [
        "pip install pyspark\n"
      ],
      "metadata": {
        "id": "qGTwcGvg8PIc"
      }
    },
    {
      "cell_type": "code",
      "source": [
        "from pyspark.sql import SparkSession\n",
        "\n",
        "# Initialize SparkSession\n",
        "spark = SparkSession.builder \\\n",
        "    .appName(\"Key-Value Pair RDDs Exercise\") \\\n",
        "    .getOrCreate()\n",
        "\n",
        "# Access SparkContext from SparkSession\n",
        "sc = spark.sparkContext\n"
      ],
      "metadata": {
        "id": "D3ZPx5WuWUiP"
      },
      "execution_count": 12,
      "outputs": []
    },
    {
      "cell_type": "code",
      "source": [
        "sales_data = [\n",
        "    (\"ProductA\", 100),\n",
        "    (\"ProductB\", 150),\n",
        "    (\"ProductA\", 200),\n",
        "    (\"ProductC\", 300),\n",
        "    (\"ProductB\", 250),\n",
        "    (\"ProductC\", 100)\n",
        "]\n",
        "\n",
        "sales_rdd = sc.parallelize(sales_data)\n",
        "\n",
        "# printing first few elements\n",
        "print(\"Sales Data RDD:\",sales_rdd.take(3))\n"
      ],
      "metadata": {
        "colab": {
          "base_uri": "https://localhost:8080/"
        },
        "id": "4S19y5HLYZ-P",
        "outputId": "32724156-4fb0-4582-fcb4-ab02316a3051"
      },
      "execution_count": 15,
      "outputs": [
        {
          "output_type": "stream",
          "name": "stdout",
          "text": [
            "Sales Data RDD: [('ProductA', 100), ('ProductB', 150), ('ProductA', 200)]\n"
          ]
        }
      ]
    },
    {
      "cell_type": "code",
      "source": [
        "# Grouping data by product name\n",
        "grouped_rdd = sales_rdd.groupByKey()\n",
        "\n",
        "# Printing the grouped data\n",
        "print(\"Grouped Data:\")\n",
        "for x, y in grouped_rdd.collect():\n",
        "    print(f\"{x}: {list(y)}\")\n"
      ],
      "metadata": {
        "colab": {
          "base_uri": "https://localhost:8080/"
        },
        "id": "tUy5uRgMZL_Z",
        "outputId": "3f7a8f66-7cdb-4656-f7ec-aa0be3dfc4ca"
      },
      "execution_count": 17,
      "outputs": [
        {
          "output_type": "stream",
          "name": "stdout",
          "text": [
            "Grouped Data:\n",
            "ProductA: [100, 200]\n",
            "ProductB: [150, 250]\n",
            "ProductC: [300, 100]\n"
          ]
        }
      ]
    },
    {
      "cell_type": "code",
      "source": [
        "# Calculate total sales for each product\n",
        "total_sales_rdd = sales_rdd.reduceByKey(lambda a, b: a + b)\n",
        "\n",
        "# Printing the total sales for each product\n",
        "print(\"Total Sales by Product:\")\n",
        "for product, total_sales in total_sales_rdd.collect():\n",
        "    print(f\"{product}: {total_sales}\")\n"
      ],
      "metadata": {
        "colab": {
          "base_uri": "https://localhost:8080/"
        },
        "id": "G7VhQX7IZ_bF",
        "outputId": "9430bb46-07f4-43ae-c16c-254dfb9b2586"
      },
      "execution_count": 18,
      "outputs": [
        {
          "output_type": "stream",
          "name": "stdout",
          "text": [
            "Total Sales by Product:\n",
            "ProductA: 300\n",
            "ProductB: 400\n",
            "ProductC: 400\n"
          ]
        }
      ]
    },
    {
      "cell_type": "code",
      "source": [
        "# Sorting products by total sales in descending order\n",
        "sorted_sales_rdd = total_sales_rdd.sortBy(lambda x: x[1], ascending=False)\n",
        "\n",
        "# Printing the sorted list of products with their sales amounts\n",
        "print(\"Sorted Products by Total Sales:\")\n",
        "for product, total_sales in sorted_sales_rdd.collect():\n",
        "    print(f\"{product}: {total_sales}\")\n"
      ],
      "metadata": {
        "colab": {
          "base_uri": "https://localhost:8080/"
        },
        "id": "X64y7m-0akWJ",
        "outputId": "fc4c2e3c-fa14-48d5-e6a2-78eddd30f1f7"
      },
      "execution_count": 22,
      "outputs": [
        {
          "output_type": "stream",
          "name": "stdout",
          "text": [
            "Sorted Products by Total Sales:\n",
            "ProductB: 400\n",
            "ProductC: 400\n",
            "ProductA: 300\n"
          ]
        }
      ]
    },
    {
      "cell_type": "code",
      "source": [
        "# Filter products with total sales greater than 200\n",
        "high_sales_rdd = total_sales_rdd.filter(lambda x: x[1] > 200)\n",
        "\n",
        "# Print the products that meet the condition\n",
        "print(\"Products with Sales Greater Than 200:\")\n",
        "for product, total_sales in high_sales_rdd.collect():\n",
        "    print(f\"{product}: {total_sales}\")\n"
      ],
      "metadata": {
        "colab": {
          "base_uri": "https://localhost:8080/"
        },
        "id": "y485LKrMcE_t",
        "outputId": "f93035b3-b41e-454d-e043-7ebeffd1875c"
      },
      "execution_count": 23,
      "outputs": [
        {
          "output_type": "stream",
          "name": "stdout",
          "text": [
            "Products with Sales Greater Than 200:\n",
            "ProductA: 300\n",
            "ProductB: 400\n",
            "ProductC: 400\n"
          ]
        }
      ]
    },
    {
      "cell_type": "code",
      "source": [
        "# Filter products with total sales greater than 200\n",
        "high_sales_rdd = total_sales_rdd.filter(lambda x: x[1] > 200)\n",
        "\n",
        "# Print the products that meet the condition\n",
        "print(\"Products with Sales Greater Than 200:\")\n",
        "for product, total_sales in high_sales_rdd.collect():\n",
        "    print(f\"{product}: {total_sales}\")\n"
      ],
      "metadata": {
        "colab": {
          "base_uri": "https://localhost:8080/"
        },
        "id": "vX9C4rg1c3Sx",
        "outputId": "2792bd71-0755-49d3-e257-9d3e74f5eec8"
      },
      "execution_count": 24,
      "outputs": [
        {
          "output_type": "stream",
          "name": "stdout",
          "text": [
            "Products with Sales Greater Than 200:\n",
            "ProductA: 300\n",
            "ProductB: 400\n",
            "ProductC: 400\n"
          ]
        }
      ]
    },
    {
      "cell_type": "code",
      "source": [
        "# Regional sales data\n",
        "regional_sales_data = [\n",
        "    (\"ProductA\", 50),\n",
        "    (\"ProductC\", 150)\n",
        "]\n",
        "\n",
        "# RDD for the regional sales data\n",
        "regional_sales_rdd = sc.parallelize(regional_sales_data)\n",
        "\n",
        "# Combine the original sales RDD with the regional sales RDD\n",
        "combined_rdd = sales_rdd.union(regional_sales_rdd)\n",
        "\n",
        "# new total sales for each product\n",
        "new_total_sales_rdd = combined_rdd.reduceByKey(lambda a, b: a + b)\n",
        "\n",
        "# Printing the combined sales data\n",
        "print(\"Combined Sales Data:\")\n",
        "for product, total_sales in new_total_sales_rdd.collect():\n",
        "    print(f\"{product}: {total_sales}\")\n"
      ],
      "metadata": {
        "colab": {
          "base_uri": "https://localhost:8080/"
        },
        "id": "g74MD7amc4Jj",
        "outputId": "604b7e6e-1e2f-4b54-f39f-e297183f941b"
      },
      "execution_count": 25,
      "outputs": [
        {
          "output_type": "stream",
          "name": "stdout",
          "text": [
            "Combined Sales Data:\n",
            "ProductA: 350\n",
            "ProductC: 550\n",
            "ProductB: 400\n"
          ]
        }
      ]
    },
    {
      "cell_type": "code",
      "source": [
        "# Number of distinct products\n",
        "distinct_products_count = sales_rdd.map(lambda x: x[0]).distinct().count()\n",
        "\n",
        "# Printing the count of distinct products\n",
        "print(f\"Number of Distinct Products: {distinct_products_count}\")\n"
      ],
      "metadata": {
        "colab": {
          "base_uri": "https://localhost:8080/"
        },
        "id": "Woc7iAFKdaKl",
        "outputId": "a53a8da6-6baa-4cc3-b239-51a1af2fcad5"
      },
      "execution_count": 26,
      "outputs": [
        {
          "output_type": "stream",
          "name": "stdout",
          "text": [
            "Number of Distinct Products: 3\n"
          ]
        }
      ]
    },
    {
      "cell_type": "code",
      "source": [
        "# Product with the maximum total sales\n",
        "max_sales_product = total_sales_rdd.reduce(lambda a, b: a if a[1] > b[1] else b)\n",
        "\n",
        "# Printing the product name and its total sales amount\n",
        "print(f\"Product with Maximum Sales: {max_sales_product[0]}, Total Sales: {max_sales_product[1]}\")\n"
      ],
      "metadata": {
        "colab": {
          "base_uri": "https://localhost:8080/"
        },
        "id": "KvpskJq2eCtA",
        "outputId": "4f3c8f06-cbdb-40b3-ff80-a3da0e248f08"
      },
      "execution_count": 29,
      "outputs": [
        {
          "output_type": "stream",
          "name": "stdout",
          "text": [
            "Product with Maximum Sales: ProductC, Total Sales: 400\n"
          ]
        }
      ]
    },
    {
      "cell_type": "code",
      "source": [
        "# Average sales amount per product\n",
        "product_count_rdd = sales_rdd.mapValues(lambda x: (x, 1)).reduceByKey(lambda a, b: (a[0] + b[0], a[1] + b[1]))\n",
        "average_sales_rdd = product_count_rdd.mapValues(lambda x: x[0] / x[1])\n",
        "\n",
        "# Printing the average sales for each product\n",
        "print(\"Average Sales Per Product:\")\n",
        "for product, avg_sales in average_sales_rdd.collect():\n",
        "    print(f\"{product}: {avg_sales:.2f}\")\n"
      ],
      "metadata": {
        "colab": {
          "base_uri": "https://localhost:8080/"
        },
        "id": "RCvCatKGfd0B",
        "outputId": "c419c0a0-679d-4bb5-c036-074ad3933d02"
      },
      "execution_count": 30,
      "outputs": [
        {
          "output_type": "stream",
          "name": "stdout",
          "text": [
            "Average Sales Per Product:\n",
            "ProductA: 150.00\n",
            "ProductB: 200.00\n",
            "ProductC: 200.00\n"
          ]
        }
      ]
    }
  ]
}