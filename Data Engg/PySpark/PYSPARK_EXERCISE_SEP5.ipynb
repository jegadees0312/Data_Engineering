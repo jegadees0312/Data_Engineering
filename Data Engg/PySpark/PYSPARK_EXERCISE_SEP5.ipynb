{
  "nbformat": 4,
  "nbformat_minor": 0,
  "metadata": {
    "colab": {
      "provenance": []
    },
    "kernelspec": {
      "name": "python3",
      "display_name": "Python 3"
    },
    "language_info": {
      "name": "python"
    }
  },
  "cells": [
    {
      "cell_type": "code",
      "source": [
        "pip install pyspark\n"
      ],
      "metadata": {
        "colab": {
          "base_uri": "https://localhost:8080/"
        },
        "collapsed": true,
        "id": "E_GeZY7BCQ8B",
        "outputId": "e0d08de8-d1c2-491b-8512-adc0fb6a0607"
      },
      "execution_count": 3,
      "outputs": [
        {
          "output_type": "stream",
          "name": "stdout",
          "text": [
            "Requirement already satisfied: pyspark in /usr/local/lib/python3.10/dist-packages (3.5.2)\n",
            "Requirement already satisfied: py4j==0.10.9.7 in /usr/local/lib/python3.10/dist-packages (from pyspark) (0.10.9.7)\n"
          ]
        }
      ]
    },
    {
      "cell_type": "markdown",
      "source": [
        "# **FITNESS TRACKER** **DATA**"
      ],
      "metadata": {
        "id": "11kkUi9zCfQD"
      }
    },
    {
      "cell_type": "code",
      "source": [
        "from pyspark.sql import SparkSession\n",
        "from pyspark.sql.functions import col, sum, mean, count,avg\n",
        "\n",
        "# Initialize SparkSession\n",
        "spark = SparkSession.builder.appName(\"Fitness Tracker\").getOrCreate()\n",
        "\n",
        "# Load dataset\n",
        "df = spark.createDataFrame([\n",
        "    (1, '2023-07-01', 12000, 500, 8.5, 90),\n",
        "    (2, '2023-07-01', 8000, 350, 5.6, 60),\n",
        "    (3, '2023-07-01', 15000, 600, 10.2, 120),\n",
        "    (1, '2023-07-02', 11000, 480, 7.9, 85),\n",
        "    (2, '2023-07-02', 9000, 400, 6.2, 70),\n",
        "    (3, '2023-07-02', 13000, 520, 9.0, 100),\n",
        "    (1, '2023-07-03', 10000, 450, 7.1, 80),\n",
        "    (2, '2023-07-03', 7000, 320, 4.9, 55),\n",
        "    (3, '2023-07-03', 16000, 620, 11.0, 130),\n",
        "], [\"user_id\", \"date\", \"steps\", \"calories\", \"distance_km\", \"active_minutes\"])\n",
        "\n",
        "df.show\n"
      ],
      "metadata": {
        "colab": {
          "base_uri": "https://localhost:8080/",
          "height": 187
        },
        "collapsed": true,
        "id": "-KHAi8tLCpjs",
        "outputId": "ef32ed0c-eae5-4aed-aaef-7f5b20d3fb50"
      },
      "execution_count": 61,
      "outputs": [
        {
          "output_type": "execute_result",
          "data": {
            "text/plain": [
              "<bound method DataFrame.show of DataFrame[user_id: bigint, date: string, steps: bigint, calories: bigint, distance_km: double, active_minutes: bigint]>"
            ],
            "text/html": [
              "<div style=\"max-width:800px; border: 1px solid var(--colab-border-color);\"><style>\n",
              "      pre.function-repr-contents {\n",
              "        overflow-x: auto;\n",
              "        padding: 8px 12px;\n",
              "        max-height: 500px;\n",
              "      }\n",
              "\n",
              "      pre.function-repr-contents.function-repr-contents-collapsed {\n",
              "        cursor: pointer;\n",
              "        max-height: 100px;\n",
              "      }\n",
              "    </style>\n",
              "    <pre style=\"white-space: initial; background:\n",
              "         var(--colab-secondary-surface-color); padding: 8px 12px;\n",
              "         border-bottom: 1px solid var(--colab-border-color);\"><b>pyspark.sql.dataframe.DataFrame.show</b><br/>def show(n: int=20, truncate: Union[bool, int]=True, vertical: bool=False) -&gt; None</pre><pre class=\"function-repr-contents function-repr-contents-collapsed\" style=\"\"><a class=\"filepath\" style=\"display:none\" href=\"#\">/usr/local/lib/python3.10/dist-packages/pyspark/sql/dataframe.py</a>Prints the first ``n`` rows to the console.\n",
              "\n",
              ".. versionadded:: 1.3.0\n",
              "\n",
              ".. versionchanged:: 3.4.0\n",
              "    Supports Spark Connect.\n",
              "\n",
              "Parameters\n",
              "----------\n",
              "n : int, optional\n",
              "    Number of rows to show.\n",
              "truncate : bool or int, optional\n",
              "    If set to ``True``, truncate strings longer than 20 chars by default.\n",
              "    If set to a number greater than one, truncates long strings to length ``truncate``\n",
              "    and align cells right.\n",
              "vertical : bool, optional\n",
              "    If set to ``True``, print output rows vertically (one line\n",
              "    per column value).\n",
              "\n",
              "Examples\n",
              "--------\n",
              "&gt;&gt;&gt; df = spark.createDataFrame([\n",
              "...     (14, &quot;Tom&quot;), (23, &quot;Alice&quot;), (16, &quot;Bob&quot;)], [&quot;age&quot;, &quot;name&quot;])\n",
              "\n",
              "Show only top 2 rows.\n",
              "\n",
              "&gt;&gt;&gt; df.show(2)\n",
              "+---+-----+\n",
              "|age| name|\n",
              "+---+-----+\n",
              "| 14|  Tom|\n",
              "| 23|Alice|\n",
              "+---+-----+\n",
              "only showing top 2 rows\n",
              "\n",
              "Show :class:`DataFrame` where the maximum number of characters is 3.\n",
              "\n",
              "&gt;&gt;&gt; df.show(truncate=3)\n",
              "+---+----+\n",
              "|age|name|\n",
              "+---+----+\n",
              "| 14| Tom|\n",
              "| 23| Ali|\n",
              "| 16| Bob|\n",
              "+---+----+\n",
              "\n",
              "Show :class:`DataFrame` vertically.\n",
              "\n",
              "&gt;&gt;&gt; df.show(vertical=True)\n",
              "-RECORD 0-----\n",
              "age  | 14\n",
              "name | Tom\n",
              "-RECORD 1-----\n",
              "age  | 23\n",
              "name | Alice\n",
              "-RECORD 2-----\n",
              "age  | 16\n",
              "name | Bob</pre>\n",
              "      <script>\n",
              "      if (google.colab.kernel.accessAllowed && google.colab.files && google.colab.files.view) {\n",
              "        for (const element of document.querySelectorAll('.filepath')) {\n",
              "          element.style.display = 'block'\n",
              "          element.onclick = (event) => {\n",
              "            event.preventDefault();\n",
              "            event.stopPropagation();\n",
              "            google.colab.files.view(element.textContent, 887);\n",
              "          };\n",
              "        }\n",
              "      }\n",
              "      for (const element of document.querySelectorAll('.function-repr-contents')) {\n",
              "        element.onclick = (event) => {\n",
              "          event.preventDefault();\n",
              "          event.stopPropagation();\n",
              "          element.classList.toggle('function-repr-contents-collapsed');\n",
              "        };\n",
              "      }\n",
              "      </script>\n",
              "      </div>"
            ]
          },
          "metadata": {},
          "execution_count": 61
        }
      ]
    },
    {
      "cell_type": "code",
      "source": [
        "# 1. Find the Total Steps Taken by Each User\n",
        "total_steps = df.groupBy(\"user_id\").agg(sum(\"steps\").alias(\"total_steps\"))\n",
        "total_steps.show()"
      ],
      "metadata": {
        "colab": {
          "base_uri": "https://localhost:8080/"
        },
        "id": "tPOyxJXZD2DG",
        "outputId": "97450391-c952-4cb9-fff0-0ae329cd08ca"
      },
      "execution_count": 5,
      "outputs": [
        {
          "output_type": "stream",
          "name": "stdout",
          "text": [
            "+-------+-----------+\n",
            "|user_id|total_steps|\n",
            "+-------+-----------+\n",
            "|      1|      33000|\n",
            "|      3|      44000|\n",
            "|      2|      24000|\n",
            "+-------+-----------+\n",
            "\n"
          ]
        }
      ]
    },
    {
      "cell_type": "code",
      "source": [
        "# 2. Filter Days Where a User Burned More Than 500 Calories\n",
        "high_calorie_days = df.filter(col(\"calories\") > 500)\n",
        "high_calorie_days.show()"
      ],
      "metadata": {
        "colab": {
          "base_uri": "https://localhost:8080/"
        },
        "id": "oYam5zoMEH5I",
        "outputId": "faa51a64-4092-4771-e93e-0071155dafb5"
      },
      "execution_count": 6,
      "outputs": [
        {
          "output_type": "stream",
          "name": "stdout",
          "text": [
            "+-------+----------+-----+--------+-----------+--------------+\n",
            "|user_id|      date|steps|calories|distance_km|active_minutes|\n",
            "+-------+----------+-----+--------+-----------+--------------+\n",
            "|      3|2023-07-01|15000|     600|       10.2|           120|\n",
            "|      3|2023-07-02|13000|     520|        9.0|           100|\n",
            "|      3|2023-07-03|16000|     620|       11.0|           130|\n",
            "+-------+----------+-----+--------+-----------+--------------+\n",
            "\n"
          ]
        }
      ]
    },
    {
      "cell_type": "code",
      "source": [
        "# 3. Calculate the Average Distance Traveled by Each User\n",
        "avg_distance = df.groupBy(\"user_id\").avg(\"distance_km\").withColumnRenamed('avg(distance_km)',\"avg_distance\")\n",
        "avg_distance.show()"
      ],
      "metadata": {
        "colab": {
          "base_uri": "https://localhost:8080/"
        },
        "id": "l3Hds_pKESbj",
        "outputId": "680c9067-e168-4136-bc95-9091e277ec6a"
      },
      "execution_count": 12,
      "outputs": [
        {
          "output_type": "stream",
          "name": "stdout",
          "text": [
            "+-------+------------------+\n",
            "|user_id|      avg_distance|\n",
            "+-------+------------------+\n",
            "|      1| 7.833333333333333|\n",
            "|      3|10.066666666666666|\n",
            "|      2| 5.566666666666667|\n",
            "+-------+------------------+\n",
            "\n"
          ]
        }
      ]
    },
    {
      "cell_type": "code",
      "source": [
        "# 4. Identify the Day with the Maximum Steps for Each User\n",
        "from pyspark.sql.window import Window\n",
        "from pyspark.sql.functions import row_number\n",
        "\n",
        "windowSpec = Window.partitionBy(\"user_id\").orderBy(col(\"steps\").desc())\n",
        "max_steps_day = df.withColumn(\"rank\", row_number().over(windowSpec)).filter(col(\"rank\") == 1)\n",
        "max_steps_day.show()"
      ],
      "metadata": {
        "colab": {
          "base_uri": "https://localhost:8080/"
        },
        "id": "fgRG_nFQFITf",
        "outputId": "d27138cd-ff7d-4615-8a6b-0f833ab39d44"
      },
      "execution_count": 14,
      "outputs": [
        {
          "output_type": "stream",
          "name": "stdout",
          "text": [
            "+-------+----------+-----+--------+-----------+--------------+----+\n",
            "|user_id|      date|steps|calories|distance_km|active_minutes|rank|\n",
            "+-------+----------+-----+--------+-----------+--------------+----+\n",
            "|      1|2023-07-01|12000|     500|        8.5|            90|   1|\n",
            "|      2|2023-07-02| 9000|     400|        6.2|            70|   1|\n",
            "|      3|2023-07-03|16000|     620|       11.0|           130|   1|\n",
            "+-------+----------+-----+--------+-----------+--------------+----+\n",
            "\n"
          ]
        }
      ]
    },
    {
      "cell_type": "code",
      "source": [
        "# 5. Find Users Who Were Active for More Than 100 Minutes on Any Day\n",
        "active_users = df.filter(col(\"active_minutes\") > 100).select(\"user_id\").distinct()\n",
        "active_users.show()"
      ],
      "metadata": {
        "colab": {
          "base_uri": "https://localhost:8080/"
        },
        "id": "5n6SZ48DFnKG",
        "outputId": "173f050c-0b08-4691-942d-395375de7d5f"
      },
      "execution_count": 15,
      "outputs": [
        {
          "output_type": "stream",
          "name": "stdout",
          "text": [
            "+-------+\n",
            "|user_id|\n",
            "+-------+\n",
            "|      3|\n",
            "+-------+\n",
            "\n"
          ]
        }
      ]
    },
    {
      "cell_type": "code",
      "source": [
        "# 6. Calculate the Total Calories Burned per Day\n",
        "total_calories_per_day = df.groupBy(\"date\").agg(sum(\"calories\").alias(\"total_calories\"))\n",
        "total_calories_per_day.show()"
      ],
      "metadata": {
        "colab": {
          "base_uri": "https://localhost:8080/"
        },
        "id": "bw5h-qNfGiEG",
        "outputId": "c84d2250-6496-4f8b-b882-75398cba546e"
      },
      "execution_count": 16,
      "outputs": [
        {
          "output_type": "stream",
          "name": "stdout",
          "text": [
            "+----------+--------------+\n",
            "|      date|total_calories|\n",
            "+----------+--------------+\n",
            "|2023-07-02|          1400|\n",
            "|2023-07-01|          1450|\n",
            "|2023-07-03|          1390|\n",
            "+----------+--------------+\n",
            "\n"
          ]
        }
      ]
    },
    {
      "cell_type": "code",
      "source": [
        "# 7. Calculate the Average Steps per Day\n",
        "avg_steps_per_day = df.groupBy(\"date\").agg(mean(\"steps\").alias(\"avg_steps\"))\n",
        "avg_steps_per_day.show()"
      ],
      "metadata": {
        "colab": {
          "base_uri": "https://localhost:8080/"
        },
        "id": "iEYaNehjGrkW",
        "outputId": "309fe1af-664e-4e53-d366-77ff7ae3fda5"
      },
      "execution_count": 17,
      "outputs": [
        {
          "output_type": "stream",
          "name": "stdout",
          "text": [
            "+----------+------------------+\n",
            "|      date|         avg_steps|\n",
            "+----------+------------------+\n",
            "|2023-07-02|           11000.0|\n",
            "|2023-07-01|11666.666666666666|\n",
            "|2023-07-03|           11000.0|\n",
            "+----------+------------------+\n",
            "\n"
          ]
        }
      ]
    },
    {
      "cell_type": "code",
      "source": [
        "# 8. Rank Users by Total Distance Traveled\n",
        "total_distance = df.groupBy(\"user_id\").agg(sum(\"distance_km\").alias(\"total_distance\"))\n",
        "ranked_users = total_distance.orderBy(col(\"total_distance\").desc())\n",
        "ranked_users.show()"
      ],
      "metadata": {
        "colab": {
          "base_uri": "https://localhost:8080/"
        },
        "id": "gnJDsQyfG04A",
        "outputId": "f3eef16a-c23e-4bba-e253-76cc0ec17330"
      },
      "execution_count": 18,
      "outputs": [
        {
          "output_type": "stream",
          "name": "stdout",
          "text": [
            "+-------+------------------+\n",
            "|user_id|    total_distance|\n",
            "+-------+------------------+\n",
            "|      3|              30.2|\n",
            "|      1|              23.5|\n",
            "|      2|16.700000000000003|\n",
            "+-------+------------------+\n",
            "\n"
          ]
        }
      ]
    },
    {
      "cell_type": "code",
      "source": [
        "# 9. Find the Most Active User by Total Active Minutes\n",
        "total_active_minutes = df.groupBy(\"user_id\").agg(sum(\"active_minutes\").alias(\"total_active_minutes\"))\n",
        "most_active_user = total_active_minutes.orderBy(col(\"total_active_minutes\").desc()).limit(1)\n",
        "most_active_user.show()"
      ],
      "metadata": {
        "colab": {
          "base_uri": "https://localhost:8080/"
        },
        "id": "6WB5ld11G-qe",
        "outputId": "8e9eafbe-9c7c-467c-b4f7-84a6a37bf07c"
      },
      "execution_count": 19,
      "outputs": [
        {
          "output_type": "stream",
          "name": "stdout",
          "text": [
            "+-------+--------------------+\n",
            "|user_id|total_active_minutes|\n",
            "+-------+--------------------+\n",
            "|      3|                 350|\n",
            "+-------+--------------------+\n",
            "\n"
          ]
        }
      ]
    },
    {
      "cell_type": "code",
      "source": [
        "# 10. Create a New Column for Calories Burned per Kilometer\n",
        "df = df.withColumn(\"calories_per_km\", col(\"calories\") / col(\"distance_km\"))\n",
        "df.show()"
      ],
      "metadata": {
        "colab": {
          "base_uri": "https://localhost:8080/"
        },
        "id": "xG7re7m9HID2",
        "outputId": "68ee5b71-204e-4f9a-cca0-ddb2fe845fc8"
      },
      "execution_count": 20,
      "outputs": [
        {
          "output_type": "stream",
          "name": "stdout",
          "text": [
            "+-------+----------+-----+--------+-----------+--------------+-----------------+\n",
            "|user_id|      date|steps|calories|distance_km|active_minutes|  calories_per_km|\n",
            "+-------+----------+-----+--------+-----------+--------------+-----------------+\n",
            "|      1|2023-07-01|12000|     500|        8.5|            90| 58.8235294117647|\n",
            "|      2|2023-07-01| 8000|     350|        5.6|            60|62.50000000000001|\n",
            "|      3|2023-07-01|15000|     600|       10.2|           120|58.82352941176471|\n",
            "|      1|2023-07-02|11000|     480|        7.9|            85|60.75949367088607|\n",
            "|      2|2023-07-02| 9000|     400|        6.2|            70|64.51612903225806|\n",
            "|      3|2023-07-02|13000|     520|        9.0|           100|57.77777777777778|\n",
            "|      1|2023-07-03|10000|     450|        7.1|            80|63.38028169014085|\n",
            "|      2|2023-07-03| 7000|     320|        4.9|            55| 65.3061224489796|\n",
            "|      3|2023-07-03|16000|     620|       11.0|           130|56.36363636363637|\n",
            "+-------+----------+-----+--------+-----------+--------------+-----------------+\n",
            "\n"
          ]
        }
      ]
    },
    {
      "cell_type": "markdown",
      "source": [
        "# **BOOK SALES DATA**"
      ],
      "metadata": {
        "id": "yUE5UnJIHYEY"
      }
    },
    {
      "cell_type": "code",
      "source": [
        "# Initialize SparkSession\n",
        "spark = SparkSession.builder.appName(\"Book Sales\").getOrCreate()\n",
        "\n",
        "# Load dataset\n",
        "df = spark.createDataFrame([\n",
        "    (1, \"The Catcher in the Rye\", \"J.D. Salinger\", \"Fiction\", 15.99, 2, '2023-01-05'),\n",
        "    (2, \"To Kill a Mockingbird\", \"Harper Lee\", \"Fiction\", 18.99, 1, '2023-01-10'),\n",
        "    (3, \"Becoming\", \"Michelle Obama\", \"Biography\", 20.00, 3, '2023-02-12'),\n",
        "    (4, \"Sapiens\", \"Yuval Noah Harari\", \"Non-Fiction\", 22.50, 1, '2023-02-15'),\n",
        "    (5, \"Educated\", \"Tara Westover\", \"Biography\", 17.99, 2, '2023-03-10'),\n",
        "    (6, \"The Great Gatsby\", \"F. Scott Fitzgerald\", \"Fiction\", 10.99, 5, '2023-03-15'),\n",
        "    (7, \"Atomic Habits\", \"James Clear\", \"Self-Help\", 16.99, 3, '2023-04-01'),\n",
        "    (8, \"Dune\", \"Frank Herbert\", \"Science Fiction\", 25.99, 1, '2023-04-10'),\n",
        "    (9, \"1984\", \"George Orwell\", \"Fiction\", 14.99, 2, '2023-04-12'),\n",
        "    (10, \"The Power of Habit\", \"Charles Duhigg\", \"Self-Help\", 18.00, 1, '2023-05-01')\n",
        "], [\"sale_id\", \"book_title\", \"author\", \"genre\", \"sale_price\", \"quantity\", \"date\"])\n"
      ],
      "metadata": {
        "id": "NF7lb5zLIu2y"
      },
      "execution_count": 21,
      "outputs": []
    },
    {
      "cell_type": "code",
      "source": [
        "# 1. Find Total Sales Revenue per Genre\n",
        "df = df.withColumn(\"total_sales\", col(\"sale_price\") * col(\"quantity\"))\n",
        "total_sales_per_genre = df.groupBy(\"genre\").agg(sum(\"total_sales\").alias(\"total_sales\"))\n",
        "total_sales_per_genre.show()"
      ],
      "metadata": {
        "colab": {
          "base_uri": "https://localhost:8080/"
        },
        "id": "jAcaCjBmI111",
        "outputId": "d4a98607-598b-4a07-f307-91e3d4ed0f73"
      },
      "execution_count": 22,
      "outputs": [
        {
          "output_type": "stream",
          "name": "stdout",
          "text": [
            "+---------------+-----------------+\n",
            "|          genre|      total_sales|\n",
            "+---------------+-----------------+\n",
            "|        Fiction|            135.9|\n",
            "|    Non-Fiction|             22.5|\n",
            "|      Biography|95.97999999999999|\n",
            "|      Self-Help|            68.97|\n",
            "|Science Fiction|            25.99|\n",
            "+---------------+-----------------+\n",
            "\n"
          ]
        }
      ]
    },
    {
      "cell_type": "code",
      "source": [
        "# 2. Filter Books Sold in the \"Fiction\" Genre\n",
        "fiction_books = df.filter(col(\"genre\") == \"Fiction\")\n",
        "fiction_books.show()"
      ],
      "metadata": {
        "colab": {
          "base_uri": "https://localhost:8080/"
        },
        "id": "OV-f3h5ZI7og",
        "outputId": "ba82b0b8-2206-45cb-d4b2-8bba6b977f58"
      },
      "execution_count": 23,
      "outputs": [
        {
          "output_type": "stream",
          "name": "stdout",
          "text": [
            "+-------+--------------------+-------------------+-------+----------+--------+----------+-----------+\n",
            "|sale_id|          book_title|             author|  genre|sale_price|quantity|      date|total_sales|\n",
            "+-------+--------------------+-------------------+-------+----------+--------+----------+-----------+\n",
            "|      1|The Catcher in th...|      J.D. Salinger|Fiction|     15.99|       2|2023-01-05|      31.98|\n",
            "|      2|To Kill a Mocking...|         Harper Lee|Fiction|     18.99|       1|2023-01-10|      18.99|\n",
            "|      6|    The Great Gatsby|F. Scott Fitzgerald|Fiction|     10.99|       5|2023-03-15|      54.95|\n",
            "|      9|                1984|      George Orwell|Fiction|     14.99|       2|2023-04-12|      29.98|\n",
            "+-------+--------------------+-------------------+-------+----------+--------+----------+-----------+\n",
            "\n"
          ]
        }
      ]
    },
    {
      "cell_type": "code",
      "source": [
        "# 3. Find the Book with the Highest Sale Price\n",
        "highest_price_book = df.orderBy(col(\"sale_price\").desc()).limit(1)\n",
        "highest_price_book.show()"
      ],
      "metadata": {
        "colab": {
          "base_uri": "https://localhost:8080/"
        },
        "id": "v5Q-aoO8JD49",
        "outputId": "09565175-cc74-4027-f2e0-2dc712069558"
      },
      "execution_count": 24,
      "outputs": [
        {
          "output_type": "stream",
          "name": "stdout",
          "text": [
            "+-------+----------+-------------+---------------+----------+--------+----------+-----------+\n",
            "|sale_id|book_title|       author|          genre|sale_price|quantity|      date|total_sales|\n",
            "+-------+----------+-------------+---------------+----------+--------+----------+-----------+\n",
            "|      8|      Dune|Frank Herbert|Science Fiction|     25.99|       1|2023-04-10|      25.99|\n",
            "+-------+----------+-------------+---------------+----------+--------+----------+-----------+\n",
            "\n"
          ]
        }
      ]
    },
    {
      "cell_type": "code",
      "source": [
        "# 4. Calculate Total Quantity of Books Sold by Author\n",
        "total_quantity_per_author = df.groupBy(\"author\").agg(sum(\"quantity\").alias(\"total_quantity\"))\n",
        "total_quantity_per_author.show()"
      ],
      "metadata": {
        "colab": {
          "base_uri": "https://localhost:8080/"
        },
        "id": "XINwp49yJKtY",
        "outputId": "251f977f-a66f-4e9d-c518-071f7296fbfe"
      },
      "execution_count": 25,
      "outputs": [
        {
          "output_type": "stream",
          "name": "stdout",
          "text": [
            "+-------------------+--------------+\n",
            "|             author|total_quantity|\n",
            "+-------------------+--------------+\n",
            "|         Harper Lee|             1|\n",
            "|     Michelle Obama|             3|\n",
            "|      J.D. Salinger|             2|\n",
            "|  Yuval Noah Harari|             1|\n",
            "|      Tara Westover|             2|\n",
            "|      Frank Herbert|             1|\n",
            "|      George Orwell|             2|\n",
            "|F. Scott Fitzgerald|             5|\n",
            "|     Charles Duhigg|             1|\n",
            "|        James Clear|             3|\n",
            "+-------------------+--------------+\n",
            "\n"
          ]
        }
      ]
    },
    {
      "cell_type": "code",
      "source": [
        "# 5. Identify Sales Transactions Worth More Than $50\n",
        "high_value_sales = df.filter(col(\"total_sales\") > 50)\n",
        "high_value_sales.show()"
      ],
      "metadata": {
        "colab": {
          "base_uri": "https://localhost:8080/"
        },
        "id": "UnBOh3s-JblY",
        "outputId": "b11ef30b-6ba9-4a62-9fd5-c587371b3fb1"
      },
      "execution_count": 26,
      "outputs": [
        {
          "output_type": "stream",
          "name": "stdout",
          "text": [
            "+-------+----------------+-------------------+---------+----------+--------+----------+-----------+\n",
            "|sale_id|      book_title|             author|    genre|sale_price|quantity|      date|total_sales|\n",
            "+-------+----------------+-------------------+---------+----------+--------+----------+-----------+\n",
            "|      3|        Becoming|     Michelle Obama|Biography|      20.0|       3|2023-02-12|       60.0|\n",
            "|      6|The Great Gatsby|F. Scott Fitzgerald|  Fiction|     10.99|       5|2023-03-15|      54.95|\n",
            "|      7|   Atomic Habits|        James Clear|Self-Help|     16.99|       3|2023-04-01|      50.97|\n",
            "+-------+----------------+-------------------+---------+----------+--------+----------+-----------+\n",
            "\n"
          ]
        }
      ]
    },
    {
      "cell_type": "code",
      "source": [
        "# 6. Find the Average Sale Price per Genre\n",
        "avg_price_per_genre = df.groupBy(\"genre\").agg(mean(\"sale_price\").alias(\"avg_sale_price\"))\n",
        "avg_price_per_genre.show()"
      ],
      "metadata": {
        "colab": {
          "base_uri": "https://localhost:8080/"
        },
        "id": "x-Dez_NxJmu1",
        "outputId": "32208ad2-9e72-44c7-c662-8ebcbc49d1c8"
      },
      "execution_count": 27,
      "outputs": [
        {
          "output_type": "stream",
          "name": "stdout",
          "text": [
            "+---------------+------------------+\n",
            "|          genre|    avg_sale_price|\n",
            "+---------------+------------------+\n",
            "|        Fiction|15.239999999999998|\n",
            "|    Non-Fiction|              22.5|\n",
            "|      Biography|18.994999999999997|\n",
            "|      Self-Help|17.494999999999997|\n",
            "|Science Fiction|             25.99|\n",
            "+---------------+------------------+\n",
            "\n"
          ]
        }
      ]
    },
    {
      "cell_type": "code",
      "source": [
        "# 7. Count the Number of Unique Authors in the Dataset\n",
        "unique_authors_count = df.select(\"author\").distinct().count()\n",
        "print(f\"Unique authors count: {unique_authors_count}\")"
      ],
      "metadata": {
        "colab": {
          "base_uri": "https://localhost:8080/"
        },
        "id": "vXSSKzONKKDe",
        "outputId": "e1e8bccb-2ed9-426f-994c-ce7826392852"
      },
      "execution_count": 28,
      "outputs": [
        {
          "output_type": "stream",
          "name": "stdout",
          "text": [
            "Unique authors count: 10\n"
          ]
        }
      ]
    },
    {
      "cell_type": "code",
      "source": [
        "# 8. Find the Top 3 Best-Selling Books by Quantity\n",
        "total_quantity_per_book = df.groupBy(\"book_title\").agg(sum(\"quantity\").alias(\"total_quantity\"))\n",
        "top_3_books = total_quantity_per_book.orderBy(col(\"total_quantity\").desc()).limit(3)\n",
        "top_3_books.show()"
      ],
      "metadata": {
        "colab": {
          "base_uri": "https://localhost:8080/"
        },
        "id": "UegJAQL4KW2h",
        "outputId": "a3e415bc-292e-42d8-ecb6-1cafa7a43a3d"
      },
      "execution_count": 29,
      "outputs": [
        {
          "output_type": "stream",
          "name": "stdout",
          "text": [
            "+----------------+--------------+\n",
            "|      book_title|total_quantity|\n",
            "+----------------+--------------+\n",
            "|The Great Gatsby|             5|\n",
            "|        Becoming|             3|\n",
            "|   Atomic Habits|             3|\n",
            "+----------------+--------------+\n",
            "\n"
          ]
        }
      ]
    },
    {
      "cell_type": "code",
      "source": [
        "# 9. Calculate Total Sales for Each Month\n",
        "from pyspark.sql.functions import date_format\n",
        "\n",
        "df = df.withColumn(\"month\", date_format(\"date\", \"yyyy-MM\"))\n",
        "total_sales_per_month = df.groupBy(\"month\").agg(sum(\"total_sales\").alias(\"total_sales\"))\n",
        "total_sales_per_month.show()"
      ],
      "metadata": {
        "colab": {
          "base_uri": "https://localhost:8080/"
        },
        "id": "WliOOEz4KggH",
        "outputId": "bfe2172f-9dfd-403a-947b-9ba0484d791d"
      },
      "execution_count": 30,
      "outputs": [
        {
          "output_type": "stream",
          "name": "stdout",
          "text": [
            "+-------+-----------+\n",
            "|  month|total_sales|\n",
            "+-------+-----------+\n",
            "|2023-03|      90.93|\n",
            "|2023-02|       82.5|\n",
            "|2023-01|      50.97|\n",
            "|2023-04|     106.94|\n",
            "|2023-05|       18.0|\n",
            "+-------+-----------+\n",
            "\n"
          ]
        }
      ]
    },
    {
      "cell_type": "code",
      "source": [
        "# 10. Create a New Column for Total Sales Amount\n",
        "df = df.withColumn(\"total_sales\", col(\"sale_price\") * col(\"quantity\"))\n",
        "df.show()\n"
      ],
      "metadata": {
        "colab": {
          "base_uri": "https://localhost:8080/"
        },
        "id": "PcwPsTw-K8c3",
        "outputId": "a139062b-96d9-4e4c-b740-a1540468e0b6"
      },
      "execution_count": 31,
      "outputs": [
        {
          "output_type": "stream",
          "name": "stdout",
          "text": [
            "+-------+--------------------+-------------------+---------------+----------+--------+----------+-----------+-------+\n",
            "|sale_id|          book_title|             author|          genre|sale_price|quantity|      date|total_sales|  month|\n",
            "+-------+--------------------+-------------------+---------------+----------+--------+----------+-----------+-------+\n",
            "|      1|The Catcher in th...|      J.D. Salinger|        Fiction|     15.99|       2|2023-01-05|      31.98|2023-01|\n",
            "|      2|To Kill a Mocking...|         Harper Lee|        Fiction|     18.99|       1|2023-01-10|      18.99|2023-01|\n",
            "|      3|            Becoming|     Michelle Obama|      Biography|      20.0|       3|2023-02-12|       60.0|2023-02|\n",
            "|      4|             Sapiens|  Yuval Noah Harari|    Non-Fiction|      22.5|       1|2023-02-15|       22.5|2023-02|\n",
            "|      5|            Educated|      Tara Westover|      Biography|     17.99|       2|2023-03-10|      35.98|2023-03|\n",
            "|      6|    The Great Gatsby|F. Scott Fitzgerald|        Fiction|     10.99|       5|2023-03-15|      54.95|2023-03|\n",
            "|      7|       Atomic Habits|        James Clear|      Self-Help|     16.99|       3|2023-04-01|      50.97|2023-04|\n",
            "|      8|                Dune|      Frank Herbert|Science Fiction|     25.99|       1|2023-04-10|      25.99|2023-04|\n",
            "|      9|                1984|      George Orwell|        Fiction|     14.99|       2|2023-04-12|      29.98|2023-04|\n",
            "|     10|  The Power of Habit|     Charles Duhigg|      Self-Help|      18.0|       1|2023-05-01|       18.0|2023-05|\n",
            "+-------+--------------------+-------------------+---------------+----------+--------+----------+-----------+-------+\n",
            "\n"
          ]
        }
      ]
    },
    {
      "cell_type": "markdown",
      "source": [
        "# **FOOD DELIVERY ORDERS**"
      ],
      "metadata": {
        "id": "JsE3FWl4LFuL"
      }
    },
    {
      "cell_type": "code",
      "source": [
        "# Initialize SparkSession\n",
        "spark = SparkSession.builder.appName(\"Food Delivery Orders\").getOrCreate()\n",
        "\n",
        "# Sample Data\n",
        "data = [\n",
        "    (1, 201, \"McDonald's\", \"Burger\", 2, 5.99, 30, '2023-06-15'),\n",
        "    (2, 202, \"Pizza Hut\", \"Pizza\", 1, 12.99, 45, '2023-06-16'),\n",
        "    (3, 203, \"KFC\", \"Fried Chicken\", 3, 8.99, 25, '2023-06-17'),\n",
        "    (4, 201, \"Subway\", \"Sandwich\", 2, 6.50, 20, '2023-06-17'),\n",
        "    (5, 204, \"Domino's\", \"Pizza\", 2, 11.99, 40, '2023-06-18'),\n",
        "    (6, 205, \"Starbucks\", \"Coffee\", 1, 4.50, 15, '2023-06-18'),\n",
        "    (7, 202, \"KFC\", \"Fried Chicken\", 1, 8.99, 25, '2023-06-19'),\n",
        "    (8, 206, \"McDonald's\", \"Fries\", 3, 2.99, 15, '2023-06-19'),\n",
        "    (9, 207, \"Burger King\", \"Burger\", 1, 6.99, 30, '2023-06-20'),\n",
        "    (10, 203, \"Starbucks\", \"Coffee\", 2, 4.50, 20, '2023-06-20')\n",
        "]\n",
        "columns = [\"order_id\", \"customer_id\", \"restaurant_name\", \"food_item\", \"quantity\", \"price\", \"delivery_time_mins\", \"order_date\"]\n",
        "\n",
        "# Create DataFrame\n",
        "df = spark.createDataFrame(data, columns)\n",
        "df.show()"
      ],
      "metadata": {
        "colab": {
          "base_uri": "https://localhost:8080/"
        },
        "id": "73WS4Aw5MFIa",
        "outputId": "62f115be-f320-4a34-9d06-aea953e65e18"
      },
      "execution_count": 52,
      "outputs": [
        {
          "output_type": "stream",
          "name": "stdout",
          "text": [
            "+--------+-----------+---------------+-------------+--------+-----+------------------+----------+\n",
            "|order_id|customer_id|restaurant_name|    food_item|quantity|price|delivery_time_mins|order_date|\n",
            "+--------+-----------+---------------+-------------+--------+-----+------------------+----------+\n",
            "|       1|        201|     McDonald's|       Burger|       2| 5.99|                30|2023-06-15|\n",
            "|       2|        202|      Pizza Hut|        Pizza|       1|12.99|                45|2023-06-16|\n",
            "|       3|        203|            KFC|Fried Chicken|       3| 8.99|                25|2023-06-17|\n",
            "|       4|        201|         Subway|     Sandwich|       2|  6.5|                20|2023-06-17|\n",
            "|       5|        204|       Domino's|        Pizza|       2|11.99|                40|2023-06-18|\n",
            "|       6|        205|      Starbucks|       Coffee|       1|  4.5|                15|2023-06-18|\n",
            "|       7|        202|            KFC|Fried Chicken|       1| 8.99|                25|2023-06-19|\n",
            "|       8|        206|     McDonald's|        Fries|       3| 2.99|                15|2023-06-19|\n",
            "|       9|        207|    Burger King|       Burger|       1| 6.99|                30|2023-06-20|\n",
            "|      10|        203|      Starbucks|       Coffee|       2|  4.5|                20|2023-06-20|\n",
            "+--------+-----------+---------------+-------------+--------+-----+------------------+----------+\n",
            "\n"
          ]
        }
      ]
    },
    {
      "cell_type": "code",
      "source": [
        "# 1. Calculate Total Revenue per Restaurant\n",
        "df = df.withColumn(\"total_order_value\", col(\"price\") * col(\"quantity\"))\n",
        "total_revenue_per_restaurant = df.groupBy(\"restaurant_name\").agg(sum(\"total_order_value\").alias(\"total_revenue\"))\n",
        "total_revenue_per_restaurant.show()"
      ],
      "metadata": {
        "colab": {
          "base_uri": "https://localhost:8080/"
        },
        "id": "Uc8AetKlMrJH",
        "outputId": "a3ba43db-a0bb-4145-db47-957fb2ba646a"
      },
      "execution_count": 33,
      "outputs": [
        {
          "output_type": "stream",
          "name": "stdout",
          "text": [
            "+---------------+------------------+\n",
            "|restaurant_name|     total_revenue|\n",
            "+---------------+------------------+\n",
            "|         Subway|              13.0|\n",
            "|      Pizza Hut|             12.99|\n",
            "|            KFC|             35.96|\n",
            "|       Domino's|             23.98|\n",
            "|     McDonald's|20.950000000000003|\n",
            "|    Burger King|              6.99|\n",
            "|      Starbucks|              13.5|\n",
            "+---------------+------------------+\n",
            "\n"
          ]
        }
      ]
    },
    {
      "cell_type": "code",
      "source": [
        "# 2. Find the Fastest Delivery\n",
        "fastest_delivery = df.orderBy(\"delivery_time_mins\").limit(1)\n",
        "fastest_delivery.show()"
      ],
      "metadata": {
        "colab": {
          "base_uri": "https://localhost:8080/"
        },
        "id": "B7iTRRk0M2Ou",
        "outputId": "33af4e8d-f5f3-47b3-ce07-0356192e5b5e"
      },
      "execution_count": 34,
      "outputs": [
        {
          "output_type": "stream",
          "name": "stdout",
          "text": [
            "+--------+-----------+---------------+---------+--------+-----+------------------+----------+-----------------+\n",
            "|order_id|customer_id|restaurant_name|food_item|quantity|price|delivery_time_mins|order_date|total_order_value|\n",
            "+--------+-----------+---------------+---------+--------+-----+------------------+----------+-----------------+\n",
            "|       6|        205|      Starbucks|   Coffee|       1|  4.5|                15|2023-06-18|              4.5|\n",
            "+--------+-----------+---------------+---------+--------+-----+------------------+----------+-----------------+\n",
            "\n"
          ]
        }
      ]
    },
    {
      "cell_type": "code",
      "source": [
        "# 3. Calculate Average Delivery Time per Restaurant\n",
        "avg_delivery_time_per_restaurant = df.groupBy(\"restaurant_name\").agg(mean(\"delivery_time_mins\").alias(\"avg_delivery_time\"))\n",
        "avg_delivery_time_per_restaurant.show()"
      ],
      "metadata": {
        "colab": {
          "base_uri": "https://localhost:8080/"
        },
        "id": "byVi0_l9M8p9",
        "outputId": "58fd9365-41fd-4bd0-e253-c800bef37118"
      },
      "execution_count": 35,
      "outputs": [
        {
          "output_type": "stream",
          "name": "stdout",
          "text": [
            "+---------------+-----------------+\n",
            "|restaurant_name|avg_delivery_time|\n",
            "+---------------+-----------------+\n",
            "|         Subway|             20.0|\n",
            "|      Pizza Hut|             45.0|\n",
            "|            KFC|             25.0|\n",
            "|       Domino's|             40.0|\n",
            "|     McDonald's|             22.5|\n",
            "|    Burger King|             30.0|\n",
            "|      Starbucks|             17.5|\n",
            "+---------------+-----------------+\n",
            "\n"
          ]
        }
      ]
    },
    {
      "cell_type": "code",
      "source": [
        "# 4. Filter Orders for a Specific Customer\n",
        "customer_orders = df.filter(col(\"customer_id\") == 201)\n",
        "customer_orders.show()"
      ],
      "metadata": {
        "colab": {
          "base_uri": "https://localhost:8080/"
        },
        "id": "ly1RySK2NM5m",
        "outputId": "bab8534e-ac54-4d88-9f80-487eca2e9dd7"
      },
      "execution_count": 36,
      "outputs": [
        {
          "output_type": "stream",
          "name": "stdout",
          "text": [
            "+--------+-----------+---------------+---------+--------+-----+------------------+----------+-----------------+\n",
            "|order_id|customer_id|restaurant_name|food_item|quantity|price|delivery_time_mins|order_date|total_order_value|\n",
            "+--------+-----------+---------------+---------+--------+-----+------------------+----------+-----------------+\n",
            "|       1|        201|     McDonald's|   Burger|       2| 5.99|                30|2023-06-15|            11.98|\n",
            "|       4|        201|         Subway| Sandwich|       2|  6.5|                20|2023-06-17|             13.0|\n",
            "+--------+-----------+---------------+---------+--------+-----+------------------+----------+-----------------+\n",
            "\n"
          ]
        }
      ]
    },
    {
      "cell_type": "code",
      "source": [
        "# 5. Find Orders Where Total Amount Spent is Greater Than $20\n",
        "high_value_orders = df.filter(col(\"total_order_value\") > 20)\n",
        "high_value_orders.show()"
      ],
      "metadata": {
        "colab": {
          "base_uri": "https://localhost:8080/"
        },
        "id": "Jk7-4kXdNa0D",
        "outputId": "e081d6f0-8b39-4ffe-e249-0ceb3580ae76"
      },
      "execution_count": 37,
      "outputs": [
        {
          "output_type": "stream",
          "name": "stdout",
          "text": [
            "+--------+-----------+---------------+-------------+--------+-----+------------------+----------+-----------------+\n",
            "|order_id|customer_id|restaurant_name|    food_item|quantity|price|delivery_time_mins|order_date|total_order_value|\n",
            "+--------+-----------+---------------+-------------+--------+-----+------------------+----------+-----------------+\n",
            "|       3|        203|            KFC|Fried Chicken|       3| 8.99|                25|2023-06-17|            26.97|\n",
            "|       5|        204|       Domino's|        Pizza|       2|11.99|                40|2023-06-18|            23.98|\n",
            "+--------+-----------+---------------+-------------+--------+-----+------------------+----------+-----------------+\n",
            "\n"
          ]
        }
      ]
    },
    {
      "cell_type": "code",
      "source": [
        "# 6. Calculate the Total Quantity of Each Food Item Sold\n",
        "total_quantity_per_food_item = df.groupBy(\"food_item\").agg(sum(\"quantity\").alias(\"total_quantity\"))\n",
        "total_quantity_per_food_item.show()"
      ],
      "metadata": {
        "colab": {
          "base_uri": "https://localhost:8080/"
        },
        "id": "NzO1XvA4Ng8n",
        "outputId": "aea304da-2d5b-44f1-d85f-5697123a4451"
      },
      "execution_count": 38,
      "outputs": [
        {
          "output_type": "stream",
          "name": "stdout",
          "text": [
            "+-------------+--------------+\n",
            "|    food_item|total_quantity|\n",
            "+-------------+--------------+\n",
            "|       Burger|             3|\n",
            "|     Sandwich|             2|\n",
            "|        Pizza|             3|\n",
            "|Fried Chicken|             4|\n",
            "|        Fries|             3|\n",
            "|       Coffee|             3|\n",
            "+-------------+--------------+\n",
            "\n"
          ]
        }
      ]
    },
    {
      "cell_type": "code",
      "source": [
        "# 7. Find the Top 3 Most Popular Restaurants by Number of Orders\n",
        "order_per_restaurant = dff.groupBy(\"restaurant_name\").count()\n",
        "top_3_restaurants = order_per_restaurant.orderBy(col(\"count\").desc()).limit(3)\n",
        "top_3_restaurants.show()"
      ],
      "metadata": {
        "colab": {
          "base_uri": "https://localhost:8080/"
        },
        "id": "8aQHnPC_Npkf",
        "outputId": "53f8a501-f08c-4aae-89f8-b6469f557657"
      },
      "execution_count": 48,
      "outputs": [
        {
          "output_type": "stream",
          "name": "stdout",
          "text": [
            "+---------------+-----+\n",
            "|restaurant_name|count|\n",
            "+---------------+-----+\n",
            "|            KFC|    2|\n",
            "|     McDonald's|    2|\n",
            "|      Starbucks|    2|\n",
            "+---------------+-----+\n",
            "\n"
          ]
        }
      ]
    },
    {
      "cell_type": "code",
      "source": [
        "# 8. Calculate Total Revenue per Day\n",
        "total_revenue_per_day = df.groupBy(\"order_date\").agg(sum(\"price\").alias(\"total_revenue\"))\n",
        "total_revenue_per_day.show()"
      ],
      "metadata": {
        "colab": {
          "base_uri": "https://localhost:8080/"
        },
        "id": "_AO6DfIYQM_D",
        "outputId": "1ac093c2-8458-4d61-8b79-19921cda1b74"
      },
      "execution_count": 55,
      "outputs": [
        {
          "output_type": "stream",
          "name": "stdout",
          "text": [
            "+----------+------------------+\n",
            "|order_date|     total_revenue|\n",
            "+----------+------------------+\n",
            "|2023-06-16|             12.99|\n",
            "|2023-06-18|16.490000000000002|\n",
            "|2023-06-15|              5.99|\n",
            "|2023-06-17|             15.49|\n",
            "|2023-06-20|             11.49|\n",
            "|2023-06-19|             11.98|\n",
            "+----------+------------------+\n",
            "\n"
          ]
        }
      ]
    },
    {
      "cell_type": "code",
      "source": [
        "# 9. Find the Longest Delivery Time for Each Restaurant\n",
        "longest_delivery_time_per_restaurant = df.groupBy(\"restaurant_name\").agg(max(\"delivery_time_mins\").alias(\"longest_delivery_time\"))\n",
        "longest_delivery_time_per_restaurant.show()"
      ],
      "metadata": {
        "colab": {
          "base_uri": "https://localhost:8080/"
        },
        "id": "CGBLYvhERXoO",
        "outputId": "107c9816-ce05-4139-c2e9-1375eda21223"
      },
      "execution_count": 57,
      "outputs": [
        {
          "output_type": "stream",
          "name": "stdout",
          "text": [
            "+---------------+---------------------+\n",
            "|restaurant_name|longest_delivery_time|\n",
            "+---------------+---------------------+\n",
            "|         Subway|                   20|\n",
            "|      Pizza Hut|                   45|\n",
            "|            KFC|                   25|\n",
            "|       Domino's|                   40|\n",
            "|     McDonald's|                   30|\n",
            "|    Burger King|                   30|\n",
            "|      Starbucks|                   20|\n",
            "+---------------+---------------------+\n",
            "\n"
          ]
        }
      ]
    },
    {
      "cell_type": "code",
      "source": [
        "# 10. Create a New Column for Total Order Value\n",
        "df = df.withColumn(\"total_order_value\", col(\"price\") * col(\"quantity\"))\n",
        "df.show()\n"
      ],
      "metadata": {
        "colab": {
          "base_uri": "https://localhost:8080/"
        },
        "id": "mUxUvh7KRkTY",
        "outputId": "8109e173-1c34-416a-9157-5129cc5347a2"
      },
      "execution_count": 58,
      "outputs": [
        {
          "output_type": "stream",
          "name": "stdout",
          "text": [
            "+--------+-----------+---------------+-------------+--------+-----+------------------+----------+-----------------+\n",
            "|order_id|customer_id|restaurant_name|    food_item|quantity|price|delivery_time_mins|order_date|total_order_value|\n",
            "+--------+-----------+---------------+-------------+--------+-----+------------------+----------+-----------------+\n",
            "|       1|        201|     McDonald's|       Burger|       2| 5.99|                30|2023-06-15|            11.98|\n",
            "|       2|        202|      Pizza Hut|        Pizza|       1|12.99|                45|2023-06-16|            12.99|\n",
            "|       3|        203|            KFC|Fried Chicken|       3| 8.99|                25|2023-06-17|            26.97|\n",
            "|       4|        201|         Subway|     Sandwich|       2|  6.5|                20|2023-06-17|             13.0|\n",
            "|       5|        204|       Domino's|        Pizza|       2|11.99|                40|2023-06-18|            23.98|\n",
            "|       6|        205|      Starbucks|       Coffee|       1|  4.5|                15|2023-06-18|              4.5|\n",
            "|       7|        202|            KFC|Fried Chicken|       1| 8.99|                25|2023-06-19|             8.99|\n",
            "|       8|        206|     McDonald's|        Fries|       3| 2.99|                15|2023-06-19|             8.97|\n",
            "|       9|        207|    Burger King|       Burger|       1| 6.99|                30|2023-06-20|             6.99|\n",
            "|      10|        203|      Starbucks|       Coffee|       2|  4.5|                20|2023-06-20|              9.0|\n",
            "+--------+-----------+---------------+-------------+--------+-----+------------------+----------+-----------------+\n",
            "\n"
          ]
        }
      ]
    },
    {
      "cell_type": "markdown",
      "source": [
        "# **WEATHER DATA**"
      ],
      "metadata": {
        "id": "3D_gCv-BSYD9"
      }
    },
    {
      "cell_type": "code",
      "source": [
        "# Initialize SparkSession\n",
        "spark = SparkSession.builder.appName(\"Weather Data\").getOrCreate()\n",
        "\n",
        "# Sample Data with Alternate Column Names\n",
        "data = [\n",
        "    ('2023-01-01', 'New York', 5, 60, 20, 'Cloudy'),\n",
        "    ('2023-01-01', 'Los Angeles', 15, 40, 10, 'Sunny'),\n",
        "    ('2023-01-01', 'Chicago', -2, 75, 25, 'Snow'),\n",
        "    ('2023-01-02', 'New York', 3, 65, 15, 'Rain'),\n",
        "    ('2023-01-02', 'Los Angeles', 18, 35, 8, 'Sunny'),\n",
        "    ('2023-01-02', 'Chicago', -5, 80, 30, 'Snow'),\n",
        "    ('2023-01-03', 'New York', 6, 55, 22, 'Sunny'),\n",
        "    ('2023-01-03', 'Los Angeles', 20, 38, 12, 'Sunny'),\n",
        "    ('2023-01-03', 'Chicago', -1, 70, 18, 'Cloudy')\n",
        "]\n",
        "columns = [\"date\", \"city_name\", \"temp_celsius\", \"humidity_percent\", \"wind_speed_kph\", \"weather_condition\"]\n",
        "\n",
        "# Create DataFrame\n",
        "weather_df = spark.createDataFrame(data, columns)\n",
        "weather_df.show()"
      ],
      "metadata": {
        "colab": {
          "base_uri": "https://localhost:8080/"
        },
        "id": "MjOX8jj-Sjns",
        "outputId": "158864f0-385c-4326-95cd-fc026924ea9d"
      },
      "execution_count": 59,
      "outputs": [
        {
          "output_type": "stream",
          "name": "stdout",
          "text": [
            "+----------+-----------+------------+----------------+--------------+-----------------+\n",
            "|      date|  city_name|temp_celsius|humidity_percent|wind_speed_kph|weather_condition|\n",
            "+----------+-----------+------------+----------------+--------------+-----------------+\n",
            "|2023-01-01|   New York|           5|              60|            20|           Cloudy|\n",
            "|2023-01-01|Los Angeles|          15|              40|            10|            Sunny|\n",
            "|2023-01-01|    Chicago|          -2|              75|            25|             Snow|\n",
            "|2023-01-02|   New York|           3|              65|            15|             Rain|\n",
            "|2023-01-02|Los Angeles|          18|              35|             8|            Sunny|\n",
            "|2023-01-02|    Chicago|          -5|              80|            30|             Snow|\n",
            "|2023-01-03|   New York|           6|              55|            22|            Sunny|\n",
            "|2023-01-03|Los Angeles|          20|              38|            12|            Sunny|\n",
            "|2023-01-03|    Chicago|          -1|              70|            18|           Cloudy|\n",
            "+----------+-----------+------------+----------------+--------------+-----------------+\n",
            "\n"
          ]
        }
      ]
    },
    {
      "cell_type": "code",
      "source": [
        "# 1. Find the Average Temperature for Each City\n",
        "avg_temperature_per_city = weather_df.groupBy(\"city_name\").agg(avg(\"temp_celsius\").alias(\"avg_temperature\"))\n",
        "avg_temperature_per_city.show()"
      ],
      "metadata": {
        "colab": {
          "base_uri": "https://localhost:8080/"
        },
        "id": "NGRm7o_0SxrO",
        "outputId": "96764f7a-de65-4739-a820-bedfef683ec4"
      },
      "execution_count": 62,
      "outputs": [
        {
          "output_type": "stream",
          "name": "stdout",
          "text": [
            "+-----------+-------------------+\n",
            "|  city_name|    avg_temperature|\n",
            "+-----------+-------------------+\n",
            "|Los Angeles| 17.666666666666668|\n",
            "|    Chicago|-2.6666666666666665|\n",
            "|   New York|  4.666666666666667|\n",
            "+-----------+-------------------+\n",
            "\n"
          ]
        }
      ]
    },
    {
      "cell_type": "code",
      "source": [
        "# 2. Filter Days with Temperature Below Freezing\n",
        "below_freezing_days = weather_df.filter(col(\"temp_celsius\") < 0)\n",
        "below_freezing_days.show()"
      ],
      "metadata": {
        "colab": {
          "base_uri": "https://localhost:8080/"
        },
        "id": "IrjIe-mgTlhf",
        "outputId": "e3bc5ea9-7b63-479f-ad8e-ae2d217cbb2f"
      },
      "execution_count": 63,
      "outputs": [
        {
          "output_type": "stream",
          "name": "stdout",
          "text": [
            "+----------+---------+------------+----------------+--------------+-----------------+\n",
            "|      date|city_name|temp_celsius|humidity_percent|wind_speed_kph|weather_condition|\n",
            "+----------+---------+------------+----------------+--------------+-----------------+\n",
            "|2023-01-01|  Chicago|          -2|              75|            25|             Snow|\n",
            "|2023-01-02|  Chicago|          -5|              80|            30|             Snow|\n",
            "|2023-01-03|  Chicago|          -1|              70|            18|           Cloudy|\n",
            "+----------+---------+------------+----------------+--------------+-----------------+\n",
            "\n"
          ]
        }
      ]
    },
    {
      "cell_type": "code",
      "source": [
        "# 3. Find the City with the Highest Wind Speed on a Specific Day\n",
        "highest_wind_speed_day = weather_df.filter(col(\"date\") == \"2023-01-02\").orderBy(col(\"wind_speed_kph\").desc()).limit(1)\n",
        "highest_wind_speed_day.show()"
      ],
      "metadata": {
        "colab": {
          "base_uri": "https://localhost:8080/"
        },
        "id": "EHVw4YDcTr0T",
        "outputId": "1d27dd24-1a61-452c-fe58-746483b853d4"
      },
      "execution_count": 64,
      "outputs": [
        {
          "output_type": "stream",
          "name": "stdout",
          "text": [
            "+----------+---------+------------+----------------+--------------+-----------------+\n",
            "|      date|city_name|temp_celsius|humidity_percent|wind_speed_kph|weather_condition|\n",
            "+----------+---------+------------+----------------+--------------+-----------------+\n",
            "|2023-01-02|  Chicago|          -5|              80|            30|             Snow|\n",
            "+----------+---------+------------+----------------+--------------+-----------------+\n",
            "\n"
          ]
        }
      ]
    },
    {
      "cell_type": "code",
      "source": [
        "# 4. Calculate the Total Number of Days with Rainy Weather\n",
        "rainy_days_count = weather_df.filter(col(\"weather_condition\") == \"Rain\").count()\n",
        "print(f\"Total number of days with rainy weather: {rainy_days_count}\")"
      ],
      "metadata": {
        "colab": {
          "base_uri": "https://localhost:8080/"
        },
        "id": "RYIZ_K7NTz6r",
        "outputId": "abe5d2b6-8dcd-4a57-b224-a4e39992f2de"
      },
      "execution_count": 65,
      "outputs": [
        {
          "output_type": "stream",
          "name": "stdout",
          "text": [
            "Total number of days with rainy weather: 1\n"
          ]
        }
      ]
    },
    {
      "cell_type": "code",
      "source": [
        "# 5. Calculate the Average Humidity for Each Weather Condition\n",
        "avg_humidity_per_condition = weather_df.groupBy(\"weather_condition\").agg(avg(\"humidity_percent\").alias(\"avg_humidity\"))\n",
        "avg_humidity_per_condition.show()"
      ],
      "metadata": {
        "colab": {
          "base_uri": "https://localhost:8080/"
        },
        "id": "7wVDDQLMT7yJ",
        "outputId": "0ff58288-60f7-46cd-bc06-26d6db4b021c"
      },
      "execution_count": 66,
      "outputs": [
        {
          "output_type": "stream",
          "name": "stdout",
          "text": [
            "+-----------------+------------+\n",
            "|weather_condition|avg_humidity|\n",
            "+-----------------+------------+\n",
            "|           Cloudy|        65.0|\n",
            "|            Sunny|        42.0|\n",
            "|             Snow|        77.5|\n",
            "|             Rain|        65.0|\n",
            "+-----------------+------------+\n",
            "\n"
          ]
        }
      ]
    },
    {
      "cell_type": "code",
      "source": [
        "# 6. Find the Hottest Day in Each City\n",
        "hottest_day_per_city = weather_df.groupBy(\"city_name\").agg(max(\"temp_celsius\").alias(\"hottest_temperature\"))\n",
        "hottest_day_per_city.show()"
      ],
      "metadata": {
        "colab": {
          "base_uri": "https://localhost:8080/"
        },
        "id": "SzNs7LTKUAkA",
        "outputId": "b7ce1040-6891-4668-b96f-4b84bef0a9a0"
      },
      "execution_count": 67,
      "outputs": [
        {
          "output_type": "stream",
          "name": "stdout",
          "text": [
            "+-----------+-------------------+\n",
            "|  city_name|hottest_temperature|\n",
            "+-----------+-------------------+\n",
            "|Los Angeles|                 20|\n",
            "|    Chicago|                 -1|\n",
            "|   New York|                  6|\n",
            "+-----------+-------------------+\n",
            "\n"
          ]
        }
      ]
    },
    {
      "cell_type": "code",
      "source": [
        "# 7. Identify Cities That Experienced Snow\n",
        "cities_with_snow = weather_df.filter(col(\"weather_condition\") == \"Snow\").select(\"city_name\").distinct()\n",
        "cities_with_snow.show()"
      ],
      "metadata": {
        "colab": {
          "base_uri": "https://localhost:8080/"
        },
        "id": "L5efzTu9UMUk",
        "outputId": "ad7f140e-09b8-4474-eb87-23edc45cde2e"
      },
      "execution_count": 69,
      "outputs": [
        {
          "output_type": "stream",
          "name": "stdout",
          "text": [
            "+---------+\n",
            "|city_name|\n",
            "+---------+\n",
            "|  Chicago|\n",
            "+---------+\n",
            "\n"
          ]
        }
      ]
    },
    {
      "cell_type": "code",
      "source": [
        "# 8. Calculate the Average Wind Speed for Days When the Condition was Sunny\n",
        "avg_wind_speed_sunny_days = weather_df.filter(col(\"weather_condition\") == \"Sunny\").agg(avg(\"wind_speed_kph\").alias(\"avg_wind_speed\"))\n",
        "avg_wind_speed_sunny_days.show()"
      ],
      "metadata": {
        "colab": {
          "base_uri": "https://localhost:8080/"
        },
        "id": "tO4ceguvUks4",
        "outputId": "2be4266e-6c43-4d06-bd2f-04719dec6dd4"
      },
      "execution_count": 71,
      "outputs": [
        {
          "output_type": "stream",
          "name": "stdout",
          "text": [
            "+--------------+\n",
            "|avg_wind_speed|\n",
            "+--------------+\n",
            "|          13.0|\n",
            "+--------------+\n",
            "\n"
          ]
        }
      ]
    },
    {
      "cell_type": "code",
      "source": [
        "# 9. Find the Coldest Day Across All Cities\n",
        "coldest_day = weather_df.orderBy(col(\"temp_celsius\").asc()).limit(1)\n",
        "coldest_day.show()"
      ],
      "metadata": {
        "colab": {
          "base_uri": "https://localhost:8080/"
        },
        "id": "7hr4O9PaUmug",
        "outputId": "418acbcb-155c-4f5f-b3dc-f0f4cea8c0c8"
      },
      "execution_count": 72,
      "outputs": [
        {
          "output_type": "stream",
          "name": "stdout",
          "text": [
            "+----------+---------+------------+----------------+--------------+-----------------+\n",
            "|      date|city_name|temp_celsius|humidity_percent|wind_speed_kph|weather_condition|\n",
            "+----------+---------+------------+----------------+--------------+-----------------+\n",
            "|2023-01-02|  Chicago|          -5|              80|            30|             Snow|\n",
            "+----------+---------+------------+----------------+--------------+-----------------+\n",
            "\n"
          ]
        }
      ]
    },
    {
      "cell_type": "code",
      "source": [
        "# 10. Create a New Column for Wind Chill\n",
        "weather_df = weather_df.withColumn(\"wind_chill\",\n",
        "                                   13.12 + 0.6215 * col(\"temp_celsius\") -\n",
        "                                   11.37 * (col(\"wind_speed_kph\") ** 0.16) +\n",
        "                                   0.3965 * col(\"temp_celsius\") * (col(\"wind_speed_kph\") ** 0.16))\n",
        "weather_df.show()"
      ],
      "metadata": {
        "colab": {
          "base_uri": "https://localhost:8080/"
        },
        "id": "L5AW8qAGUsOC",
        "outputId": "1a8a79fb-2159-4a19-872a-bf03276e1d1c"
      },
      "execution_count": 73,
      "outputs": [
        {
          "output_type": "stream",
          "name": "stdout",
          "text": [
            "+----------+-----------+------------+----------------+--------------+-----------------+-------------------+\n",
            "|      date|  city_name|temp_celsius|humidity_percent|wind_speed_kph|weather_condition|         wind_chill|\n",
            "+----------+-----------+------------+----------------+--------------+-----------------+-------------------+\n",
            "|2023-01-01|   New York|           5|              60|            20|           Cloudy| 1.0669572525115663|\n",
            "|2023-01-01|Los Angeles|          15|              40|            10|            Sunny| 14.604602843130213|\n",
            "|2023-01-01|    Chicago|          -2|              75|            25|             Snow| -8.479874917414646|\n",
            "|2023-01-02|   New York|           3|              65|            15|             Rain|-0.7170927775232809|\n",
            "|2023-01-02|Los Angeles|          18|              35|             8|            Sunny| 18.403050060338735|\n",
            "|2023-01-02|    Chicago|          -5|              80|            30|             Snow|-12.996724811921073|\n",
            "|2023-01-03|   New York|           6|              55|            22|            Sunny| 2.1056686374397366|\n",
            "|2023-01-03|Los Angeles|          20|              38|            12|            Sunny|  20.43050124240701|\n",
            "|2023-01-03|    Chicago|          -1|              70|            18|           Cloudy| -6.186405252170635|\n",
            "+----------+-----------+------------+----------------+--------------+-----------------+-------------------+\n",
            "\n"
          ]
        }
      ]
    },
    {
      "cell_type": "markdown",
      "source": [
        "# **AIRLINE FLIGHT DATA**"
      ],
      "metadata": {
        "id": "0V-IOWHvVRLV"
      }
    },
    {
      "cell_type": "code",
      "source": [
        "# Initialize SparkSession\n",
        "spark = SparkSession.builder.appName(\"Airline Flight Data\").getOrCreate()\n",
        "\n",
        "# Sample Data with Alternate Column Names\n",
        "data = [\n",
        "    (1, \"Delta\", \"DL123\", \"JFK\", \"LAX\", \"08:00\", \"11:00\", 30, 3970, '2023-07-01'),\n",
        "    (2, \"United\", \"UA456\", \"SFO\", \"ORD\", \"09:30\", \"15:00\", 45, 2960, '2023-07-01'),\n",
        "    (3, \"Southwest\", \"SW789\", \"DAL\", \"ATL\", \"06:00\", \"08:30\", 0, 1150, '2023-07-01'),\n",
        "    (4, \"Delta\", \"DL124\", \"LAX\", \"JFK\", \"12:00\", \"20:00\", 20, 3970, '2023-07-02'),\n",
        "    (5, \"American\", \"AA101\", \"MIA\", \"DEN\", \"07:00\", \"10:00\", 15, 2770, '2023-07-02'),\n",
        "    (6, \"United\", \"UA457\", \"ORD\", \"SFO\", \"11:00\", \"14:30\", 0, 2960, '2023-07-02'),\n",
        "    (7, \"JetBlue\", \"JB302\", \"BOS\", \"LAX\", \"06:30\", \"09:45\", 10, 4180, '2023-07-03')\n",
        "]\n",
        "columns = [\"flight_id\", \"airline_name\", \"flight_code\", \"departure_city\", \"arrival_city\", \"departure_time\", \"arrival_time\", \"delay_minutes\", \"distance_km\", \"flight_date\"]\n",
        "\n",
        "# Create DataFrame\n",
        "flight_df = spark.createDataFrame(data, columns)\n",
        "flight_df.show()\n"
      ],
      "metadata": {
        "colab": {
          "base_uri": "https://localhost:8080/"
        },
        "id": "pHX08tW8Vc4I",
        "outputId": "aed93002-5509-47bd-cff4-5ca879d06df0"
      },
      "execution_count": 74,
      "outputs": [
        {
          "output_type": "stream",
          "name": "stdout",
          "text": [
            "+---------+------------+-----------+--------------+------------+--------------+------------+-------------+-----------+-----------+\n",
            "|flight_id|airline_name|flight_code|departure_city|arrival_city|departure_time|arrival_time|delay_minutes|distance_km|flight_date|\n",
            "+---------+------------+-----------+--------------+------------+--------------+------------+-------------+-----------+-----------+\n",
            "|        1|       Delta|      DL123|           JFK|         LAX|         08:00|       11:00|           30|       3970| 2023-07-01|\n",
            "|        2|      United|      UA456|           SFO|         ORD|         09:30|       15:00|           45|       2960| 2023-07-01|\n",
            "|        3|   Southwest|      SW789|           DAL|         ATL|         06:00|       08:30|            0|       1150| 2023-07-01|\n",
            "|        4|       Delta|      DL124|           LAX|         JFK|         12:00|       20:00|           20|       3970| 2023-07-02|\n",
            "|        5|    American|      AA101|           MIA|         DEN|         07:00|       10:00|           15|       2770| 2023-07-02|\n",
            "|        6|      United|      UA457|           ORD|         SFO|         11:00|       14:30|            0|       2960| 2023-07-02|\n",
            "|        7|     JetBlue|      JB302|           BOS|         LAX|         06:30|       09:45|           10|       4180| 2023-07-03|\n",
            "+---------+------------+-----------+--------------+------------+--------------+------------+-------------+-----------+-----------+\n",
            "\n"
          ]
        }
      ]
    },
    {
      "cell_type": "code",
      "source": [
        "# 1. Find the Total Distance Traveled by Each Airline\n",
        "total_distance_per_airline = flight_df.groupBy(\"airline_name\").agg(sum(\"distance_km\").alias(\"total_distance\"))\n",
        "total_distance_per_airline.show()"
      ],
      "metadata": {
        "colab": {
          "base_uri": "https://localhost:8080/"
        },
        "id": "45xtnTWOV3-f",
        "outputId": "d252f93b-231d-4e87-b9a1-2c284ce6a488"
      },
      "execution_count": 75,
      "outputs": [
        {
          "output_type": "stream",
          "name": "stdout",
          "text": [
            "+------------+--------------+\n",
            "|airline_name|total_distance|\n",
            "+------------+--------------+\n",
            "|       Delta|          7940|\n",
            "|      United|          5920|\n",
            "|   Southwest|          1150|\n",
            "|     JetBlue|          4180|\n",
            "|    American|          2770|\n",
            "+------------+--------------+\n",
            "\n"
          ]
        }
      ]
    },
    {
      "cell_type": "code",
      "source": [
        "# 2. Filter Flights with Delays Greater than 30 Minutes\n",
        "flights_with_delays = flight_df.filter(col(\"delay_minutes\") > 30)\n",
        "flights_with_delays.show()"
      ],
      "metadata": {
        "colab": {
          "base_uri": "https://localhost:8080/"
        },
        "id": "644veZgJV8F4",
        "outputId": "3cecbaf9-63fe-480f-e0d7-09abbba7b481"
      },
      "execution_count": 76,
      "outputs": [
        {
          "output_type": "stream",
          "name": "stdout",
          "text": [
            "+---------+------------+-----------+--------------+------------+--------------+------------+-------------+-----------+-----------+\n",
            "|flight_id|airline_name|flight_code|departure_city|arrival_city|departure_time|arrival_time|delay_minutes|distance_km|flight_date|\n",
            "+---------+------------+-----------+--------------+------------+--------------+------------+-------------+-----------+-----------+\n",
            "|        2|      United|      UA456|           SFO|         ORD|         09:30|       15:00|           45|       2960| 2023-07-01|\n",
            "+---------+------------+-----------+--------------+------------+--------------+------------+-------------+-----------+-----------+\n",
            "\n"
          ]
        }
      ]
    },
    {
      "cell_type": "code",
      "source": [
        "# 3. Find the Flight with the Longest Distance\n",
        "longest_distance_flight = flight_df.orderBy(col(\"distance_km\").desc()).limit(1)\n",
        "longest_distance_flight.show()"
      ],
      "metadata": {
        "colab": {
          "base_uri": "https://localhost:8080/"
        },
        "id": "V8TyM_SjWBKJ",
        "outputId": "5bf1fcdc-c849-47c7-a816-36db9dbfacf5"
      },
      "execution_count": 77,
      "outputs": [
        {
          "output_type": "stream",
          "name": "stdout",
          "text": [
            "+---------+------------+-----------+--------------+------------+--------------+------------+-------------+-----------+-----------+\n",
            "|flight_id|airline_name|flight_code|departure_city|arrival_city|departure_time|arrival_time|delay_minutes|distance_km|flight_date|\n",
            "+---------+------------+-----------+--------------+------------+--------------+------------+-------------+-----------+-----------+\n",
            "|        7|     JetBlue|      JB302|           BOS|         LAX|         06:30|       09:45|           10|       4180| 2023-07-03|\n",
            "+---------+------------+-----------+--------------+------------+--------------+------------+-------------+-----------+-----------+\n",
            "\n"
          ]
        }
      ]
    },
    {
      "cell_type": "code",
      "source": [
        "# 4. Calculate the Average Delay Time for Each Airline\n",
        "avg_delay_per_airline = flight_df.groupBy(\"airline_name\").agg(avg(\"delay_minutes\").alias(\"avg_delay\"))\n",
        "avg_delay_per_airline.show()"
      ],
      "metadata": {
        "colab": {
          "base_uri": "https://localhost:8080/"
        },
        "id": "JAJuxawEWE9i",
        "outputId": "25fb75d7-f775-44b1-b16f-04fc7a6d7636"
      },
      "execution_count": 78,
      "outputs": [
        {
          "output_type": "stream",
          "name": "stdout",
          "text": [
            "+------------+---------+\n",
            "|airline_name|avg_delay|\n",
            "+------------+---------+\n",
            "|       Delta|     25.0|\n",
            "|      United|     22.5|\n",
            "|   Southwest|      0.0|\n",
            "|     JetBlue|     10.0|\n",
            "|    American|     15.0|\n",
            "+------------+---------+\n",
            "\n"
          ]
        }
      ]
    },
    {
      "cell_type": "code",
      "source": [
        "# 5. Identify Flights That Were Not Delayed\n",
        "on_time_flights = flight_df.filter(col(\"delay_minutes\") == 0)\n",
        "on_time_flights.show()"
      ],
      "metadata": {
        "colab": {
          "base_uri": "https://localhost:8080/"
        },
        "id": "MbsPlSVPWIRD",
        "outputId": "fb6f4253-d150-4d1d-906a-6e4c8aa91719"
      },
      "execution_count": 79,
      "outputs": [
        {
          "output_type": "stream",
          "name": "stdout",
          "text": [
            "+---------+------------+-----------+--------------+------------+--------------+------------+-------------+-----------+-----------+\n",
            "|flight_id|airline_name|flight_code|departure_city|arrival_city|departure_time|arrival_time|delay_minutes|distance_km|flight_date|\n",
            "+---------+------------+-----------+--------------+------------+--------------+------------+-------------+-----------+-----------+\n",
            "|        3|   Southwest|      SW789|           DAL|         ATL|         06:00|       08:30|            0|       1150| 2023-07-01|\n",
            "|        6|      United|      UA457|           ORD|         SFO|         11:00|       14:30|            0|       2960| 2023-07-02|\n",
            "+---------+------------+-----------+--------------+------------+--------------+------------+-------------+-----------+-----------+\n",
            "\n"
          ]
        }
      ]
    },
    {
      "cell_type": "code",
      "source": [
        "# 6. Find the Top 3 Most Frequent Routes\n",
        "top_routes = flight_df.groupBy(\"departure_city\", \"arrival_city\").agg(count(\"flight_id\").alias(\"route_count\"))\n",
        "top_3_routes = top_routes.orderBy(col(\"route_count\").desc()).limit(3)\n",
        "top_3_routes.show()"
      ],
      "metadata": {
        "colab": {
          "base_uri": "https://localhost:8080/"
        },
        "id": "DY5mSwikWLzI",
        "outputId": "bd54cf46-0154-41ac-e6d2-960841ce7e36"
      },
      "execution_count": 80,
      "outputs": [
        {
          "output_type": "stream",
          "name": "stdout",
          "text": [
            "+--------------+------------+-----------+\n",
            "|departure_city|arrival_city|route_count|\n",
            "+--------------+------------+-----------+\n",
            "|           SFO|         ORD|          1|\n",
            "|           JFK|         LAX|          1|\n",
            "|           DAL|         ATL|          1|\n",
            "+--------------+------------+-----------+\n",
            "\n"
          ]
        }
      ]
    },
    {
      "cell_type": "code",
      "source": [
        "# 7. Calculate the Total Number of Flights per Day\n",
        "flights_per_day = flight_df.groupBy(\"flight_date\").agg(count(\"flight_id\").alias(\"total_flights\"))\n",
        "flights_per_day.show()"
      ],
      "metadata": {
        "colab": {
          "base_uri": "https://localhost:8080/"
        },
        "id": "eLoyVPqqWO_A",
        "outputId": "c79f4b86-4b08-4e00-a4c3-3cb38f61f44d"
      },
      "execution_count": 81,
      "outputs": [
        {
          "output_type": "stream",
          "name": "stdout",
          "text": [
            "+-----------+-------------+\n",
            "|flight_date|total_flights|\n",
            "+-----------+-------------+\n",
            "| 2023-07-01|            3|\n",
            "| 2023-07-03|            1|\n",
            "| 2023-07-02|            3|\n",
            "+-----------+-------------+\n",
            "\n"
          ]
        }
      ]
    },
    {
      "cell_type": "code",
      "source": [
        "# 8. Find the Airline with the Most Flights\n",
        "most_flights_airline = flight_df.groupBy(\"airline_name\").agg(count(\"flight_id\").alias(\"total_flights\")).orderBy(col(\"total_flights\").desc()).limit(1)\n",
        "most_flights_airline.show()\n"
      ],
      "metadata": {
        "colab": {
          "base_uri": "https://localhost:8080/"
        },
        "id": "j--hPvNeWSgy",
        "outputId": "20f0a878-a5ad-4b2e-a39d-b3d9ea2af397"
      },
      "execution_count": 82,
      "outputs": [
        {
          "output_type": "stream",
          "name": "stdout",
          "text": [
            "+------------+-------------+\n",
            "|airline_name|total_flights|\n",
            "+------------+-------------+\n",
            "|       Delta|            2|\n",
            "+------------+-------------+\n",
            "\n"
          ]
        }
      ]
    },
    {
      "cell_type": "code",
      "source": [
        "# 9. Calculate the Average Flight Distance per Day\n",
        "avg_distance_per_day = flight_df.groupBy(\"flight_date\").agg(avg(\"distance_km\").alias(\"avg_distance\"))\n",
        "avg_distance_per_day.show()"
      ],
      "metadata": {
        "colab": {
          "base_uri": "https://localhost:8080/"
        },
        "id": "8HGhewPlWWXR",
        "outputId": "dc886b0b-160b-4376-e70b-a7d9b491c16d"
      },
      "execution_count": 83,
      "outputs": [
        {
          "output_type": "stream",
          "name": "stdout",
          "text": [
            "+-----------+------------------+\n",
            "|flight_date|      avg_distance|\n",
            "+-----------+------------------+\n",
            "| 2023-07-01|2693.3333333333335|\n",
            "| 2023-07-03|            4180.0|\n",
            "| 2023-07-02|3233.3333333333335|\n",
            "+-----------+------------------+\n",
            "\n"
          ]
        }
      ]
    },
    {
      "cell_type": "code",
      "source": [
        "# 10. Create a New Column for On-Time Status\n",
        "flight_df = flight_df.withColumn(\"on_time\", col(\"delay_minutes\") == 0)\n",
        "flight_df.show()"
      ],
      "metadata": {
        "colab": {
          "base_uri": "https://localhost:8080/"
        },
        "id": "b4YosSUYWblC",
        "outputId": "285a9df1-8fbd-4339-c681-a518b3e3253b"
      },
      "execution_count": 84,
      "outputs": [
        {
          "output_type": "stream",
          "name": "stdout",
          "text": [
            "+---------+------------+-----------+--------------+------------+--------------+------------+-------------+-----------+-----------+-------+\n",
            "|flight_id|airline_name|flight_code|departure_city|arrival_city|departure_time|arrival_time|delay_minutes|distance_km|flight_date|on_time|\n",
            "+---------+------------+-----------+--------------+------------+--------------+------------+-------------+-----------+-----------+-------+\n",
            "|        1|       Delta|      DL123|           JFK|         LAX|         08:00|       11:00|           30|       3970| 2023-07-01|  false|\n",
            "|        2|      United|      UA456|           SFO|         ORD|         09:30|       15:00|           45|       2960| 2023-07-01|  false|\n",
            "|        3|   Southwest|      SW789|           DAL|         ATL|         06:00|       08:30|            0|       1150| 2023-07-01|   true|\n",
            "|        4|       Delta|      DL124|           LAX|         JFK|         12:00|       20:00|           20|       3970| 2023-07-02|  false|\n",
            "|        5|    American|      AA101|           MIA|         DEN|         07:00|       10:00|           15|       2770| 2023-07-02|  false|\n",
            "|        6|      United|      UA457|           ORD|         SFO|         11:00|       14:30|            0|       2960| 2023-07-02|   true|\n",
            "|        7|     JetBlue|      JB302|           BOS|         LAX|         06:30|       09:45|           10|       4180| 2023-07-03|  false|\n",
            "+---------+------------+-----------+--------------+------------+--------------+------------+-------------+-----------+-----------+-------+\n",
            "\n"
          ]
        }
      ]
    }
  ]
}