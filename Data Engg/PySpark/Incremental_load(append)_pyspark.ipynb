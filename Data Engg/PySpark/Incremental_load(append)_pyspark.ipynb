{
  "nbformat": 4,
  "nbformat_minor": 0,
  "metadata": {
    "colab": {
      "provenance": []
    },
    "kernelspec": {
      "name": "python3",
      "display_name": "Python 3"
    },
    "language_info": {
      "name": "python"
    }
  },
  "cells": [
    {
      "cell_type": "code",
      "source": [
        "pip install pyspark"
      ],
      "metadata": {
        "colab": {
          "base_uri": "https://localhost:8080/"
        },
        "id": "X7WjvOBSbl_3",
        "outputId": "8eb4ec23-461f-4c8c-83e0-42d5355d0360"
      },
      "execution_count": 1,
      "outputs": [
        {
          "output_type": "stream",
          "name": "stdout",
          "text": [
            "Collecting pyspark\n",
            "  Downloading pyspark-3.5.2.tar.gz (317.3 MB)\n",
            "\u001b[2K     \u001b[90m━━━━━━━━━━━━━━━━━━━━━━━━━━━━━━━━━━━━━━━━\u001b[0m \u001b[32m317.3/317.3 MB\u001b[0m \u001b[31m4.3 MB/s\u001b[0m eta \u001b[36m0:00:00\u001b[0m\n",
            "\u001b[?25h  Preparing metadata (setup.py) ... \u001b[?25l\u001b[?25hdone\n",
            "Requirement already satisfied: py4j==0.10.9.7 in /usr/local/lib/python3.10/dist-packages (from pyspark) (0.10.9.7)\n",
            "Building wheels for collected packages: pyspark\n",
            "  Building wheel for pyspark (setup.py) ... \u001b[?25l\u001b[?25hdone\n",
            "  Created wheel for pyspark: filename=pyspark-3.5.2-py2.py3-none-any.whl size=317812365 sha256=38c7c58d632a07825f810d5dd4e914867bbacf3a4916d4ea5092f004f7881162\n",
            "  Stored in directory: /root/.cache/pip/wheels/34/34/bd/03944534c44b677cd5859f248090daa9fb27b3c8f8e5f49574\n",
            "Successfully built pyspark\n",
            "Installing collected packages: pyspark\n",
            "Successfully installed pyspark-3.5.2\n"
          ]
        }
      ]
    },
    {
      "cell_type": "markdown",
      "source": [
        "\n",
        "**INCREMNTAL LOAD**"
      ],
      "metadata": {
        "id": "schAAekqmGql"
      }
    },
    {
      "cell_type": "code",
      "source": [
        "# initialize spark session\n",
        "from pyspark.sql import SparkSession\n",
        "spark = SparkSession.builder.appName('sparksql_Example').getOrCreate()\n",
        "\n",
        "# Full refresh : Load the entire Database\n",
        "df_sales = spark.read.format(\"csv\") \\\n",
        "    .option(\"header\", \"true\") \\\n",
        "    .option(\"inferSchema\", \"true\") \\\n",
        "    .load(\"/content/sample_data/sample_data.txt\")\n",
        "\n",
        "# Apply transformations (If necessary)\n",
        "df_transformed = df_sales.withColumn(\"Total_Sales\",df_sales['quantity'] * df_sales['price'])\n",
        "\n",
        "# Incremental Load : partition the data by \"Date\" and appending new data\n",
        "output_path = \"/content/sample_data/people.txt\"\n",
        "df_transformed.write.partitionBy(\"date\").mode(\"append\").parquet(output_path)\n",
        "\n",
        "# verify partitioned data\n",
        "partitioned_df = spark.read.parquet(output_path)\n",
        "partitioned_df.show()"
      ],
      "metadata": {
        "colab": {
          "base_uri": "https://localhost:8080/"
        },
        "id": "YDYSC4tBogIV",
        "outputId": "948eaa19-ead6-4ef0-b2de-9f6b27792b37"
      },
      "execution_count": 8,
      "outputs": [
        {
          "output_type": "stream",
          "name": "stdout",
          "text": [
            "+--------------+-----------+--------+--------+-----+-------------------+-----------+----------+\n",
            "|transaction_id|customer_id| product|quantity|price|         updated_at|Total_Sales|      date|\n",
            "+--------------+-----------+--------+--------+-----+-------------------+-----------+----------+\n",
            "|             1|        101|  Laptop|       1| 1000|2024-09-01 08:00:00|       1000|2024-09-01|\n",
            "|             2|        102|   Phone|       2|  500|2024-09-01 09:00:00|       1000|2024-09-01|\n",
            "|             1|        101|  Laptop|       1| 1000|2024-09-01 08:00:00|       1000|2024-09-01|\n",
            "|             2|        102|   Phone|       2|  500|2024-09-01 09:00:00|       1000|2024-09-01|\n",
            "|             5|        105|Keyboard|       1|   50|2024-09-03 12:00:00|         50|2024-09-03|\n",
            "|             6|        106|   Mouse|       3|   30|2024-09-03 13:00:00|         90|2024-09-03|\n",
            "|             5|        105|Keyboard|       1|   50|2024-09-03 12:00:00|         50|2024-09-03|\n",
            "|             6|        106|   Mouse|       3|   30|2024-09-03 13:00:00|         90|2024-09-03|\n",
            "|             3|        103|  Tablet|       1|  300|2024-09-02 10:00:00|        300|2024-09-02|\n",
            "|             4|        104| Monitor|       2|  200|2024-09-02 11:00:00|        400|2024-09-02|\n",
            "|             3|        103|  Tablet|       1|  300|2024-09-02 10:00:00|        300|2024-09-02|\n",
            "|             4|        104| Monitor|       2|  200|2024-09-02 11:00:00|        400|2024-09-02|\n",
            "+--------------+-----------+--------+--------+-----+-------------------+-----------+----------+\n",
            "\n"
          ]
        }
      ]
    }
  ]
}