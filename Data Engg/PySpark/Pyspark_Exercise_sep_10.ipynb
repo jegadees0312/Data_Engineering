{
  "nbformat": 4,
  "nbformat_minor": 0,
  "metadata": {
    "colab": {
      "provenance": []
    },
    "kernelspec": {
      "name": "python3",
      "display_name": "Python 3"
    },
    "language_info": {
      "name": "python"
    }
  },
  "cells": [
    {
      "cell_type": "code",
      "source": [
        "pip install pyspark"
      ],
      "metadata": {
        "colab": {
          "base_uri": "https://localhost:8080/"
        },
        "id": "BtyXi9r2djdL",
        "outputId": "5b15516b-4462-4baa-b431-a207aef03776"
      },
      "execution_count": 7,
      "outputs": [
        {
          "output_type": "stream",
          "name": "stdout",
          "text": [
            "Requirement already satisfied: pyspark in /usr/local/lib/python3.10/dist-packages (3.5.2)\n",
            "Requirement already satisfied: py4j==0.10.9.7 in /usr/local/lib/python3.10/dist-packages (from pyspark) (0.10.9.7)\n"
          ]
        }
      ]
    },
    {
      "cell_type": "markdown",
      "source": [
        "# **E-COMMERCE TRANSACTIONS**"
      ],
      "metadata": {
        "id": "I8CoYxWDeEFb"
      }
    },
    {
      "cell_type": "code",
      "source": [
        "from pyspark.sql import SparkSession\n",
        "from pyspark.sql.functions import col, sum, avg, max, count, expr,min\n",
        "\n",
        "# Initialize SparkSession\n",
        "spark = SparkSession.builder.appName(\"E-commerce Transactions\").getOrCreate()\n",
        "\n",
        "# Sample Data with Alternate Column Names\n",
        "data = [\n",
        "    (1, 101, \"Laptop\", \"Electronics\", 1000, 1, 10, \"2023-08-01\"),\n",
        "    (2, 102, \"Smartphone\", \"Electronics\", 700, 2, 5, \"2023-08-01\"),\n",
        "    (3, 103, \"Shirt\", \"Fashion\", 40, 3, 0, \"2023-08-02\"),\n",
        "    (4, 104, \"Blender\", \"Home Appliance\", 150, 1, 15, \"2023-08-03\"),\n",
        "    (5, 101, \"Headphones\", \"Electronics\", 100, 2, 10, \"2023-08-03\"),\n",
        "    (6, 105, \"Shoes\", \"Fashion\", 60, 1, 20, \"2023-08-04\"),\n",
        "    (7, 106, \"Refrigerator\", \"Home Appliance\", 800, 1, 25, \"2023-08-05\"),\n",
        "    (8, 107, \"Book\", \"Books\", 20, 4, 0, \"2023-08-05\"),\n",
        "    (9, 108, \"Toaster\", \"Home Appliance\", 30, 1, 5, \"2023-08-06\"),\n",
        "    (10, 102, \"Tablet\", \"Electronics\", 300, 2, 10, \"2023-08-06\")\n",
        "]\n",
        "columns = [\"transaction_id\", \"customer_id\", \"product\", \"category\", \"price\", \"quantity\", \"discount_percentage\", \"transaction_date\"]\n",
        "\n",
        "# Create DataFrame\n",
        "ecommerce_df = spark.createDataFrame(data, columns)\n",
        "ecommerce_df.show()"
      ],
      "metadata": {
        "colab": {
          "base_uri": "https://localhost:8080/"
        },
        "id": "SLuNDMVPdoTO",
        "outputId": "dd2278ee-69c4-41ee-d920-57368f4a209b"
      },
      "execution_count": 62,
      "outputs": [
        {
          "output_type": "stream",
          "name": "stdout",
          "text": [
            "+--------------+-----------+------------+--------------+-----+--------+-------------------+----------------+\n",
            "|transaction_id|customer_id|     product|      category|price|quantity|discount_percentage|transaction_date|\n",
            "+--------------+-----------+------------+--------------+-----+--------+-------------------+----------------+\n",
            "|             1|        101|      Laptop|   Electronics| 1000|       1|                 10|      2023-08-01|\n",
            "|             2|        102|  Smartphone|   Electronics|  700|       2|                  5|      2023-08-01|\n",
            "|             3|        103|       Shirt|       Fashion|   40|       3|                  0|      2023-08-02|\n",
            "|             4|        104|     Blender|Home Appliance|  150|       1|                 15|      2023-08-03|\n",
            "|             5|        101|  Headphones|   Electronics|  100|       2|                 10|      2023-08-03|\n",
            "|             6|        105|       Shoes|       Fashion|   60|       1|                 20|      2023-08-04|\n",
            "|             7|        106|Refrigerator|Home Appliance|  800|       1|                 25|      2023-08-05|\n",
            "|             8|        107|        Book|         Books|   20|       4|                  0|      2023-08-05|\n",
            "|             9|        108|     Toaster|Home Appliance|   30|       1|                  5|      2023-08-06|\n",
            "|            10|        102|      Tablet|   Electronics|  300|       2|                 10|      2023-08-06|\n",
            "+--------------+-----------+------------+--------------+-----+--------+-------------------+----------------+\n",
            "\n"
          ]
        }
      ]
    },
    {
      "cell_type": "code",
      "source": [
        "# 1. Calculate the Total Revenue per Category\n",
        "total_revenue_per_category = ecommerce_df.withColumn(\n",
        "    \"revenue\", col(\"price\") * col(\"quantity\") * (1 - col(\"discount_percentage\") / 100)\n",
        ").groupBy(\"category\").agg(sum(\"revenue\").alias(\"total_revenue\"))\n",
        "total_revenue_per_category.show()"
      ],
      "metadata": {
        "colab": {
          "base_uri": "https://localhost:8080/"
        },
        "id": "Y3uc5PDYeY_t",
        "outputId": "60c3f943-3004-4849-e10a-a8625a1401da"
      },
      "execution_count": 87,
      "outputs": [
        {
          "output_type": "stream",
          "name": "stdout",
          "text": [
            "+--------------+-------------+\n",
            "|      category|total_revenue|\n",
            "+--------------+-------------+\n",
            "|       Fashion|        168.0|\n",
            "|   Electronics|       2950.0|\n",
            "|Home Appliance|        756.0|\n",
            "|         Books|         80.0|\n",
            "+--------------+-------------+\n",
            "\n"
          ]
        }
      ]
    },
    {
      "cell_type": "code",
      "source": [
        "# 2. Filter Transactions with a Discount Greater Than 10%\n",
        "discount_greater_than_10 = ecommerce_df.filter(col(\"discount_percentage\") > 10)\n",
        "discount_greater_than_10.show()"
      ],
      "metadata": {
        "colab": {
          "base_uri": "https://localhost:8080/"
        },
        "id": "pbNGDx3oet0h",
        "outputId": "4cb76995-7e8d-4e13-ef64-1edc6719a691"
      },
      "execution_count": 88,
      "outputs": [
        {
          "output_type": "stream",
          "name": "stdout",
          "text": [
            "+--------------+-----------+------------+--------------+-----+--------+-------------------+----------------+\n",
            "|transaction_id|customer_id|     product|      category|price|quantity|discount_percentage|transaction_date|\n",
            "+--------------+-----------+------------+--------------+-----+--------+-------------------+----------------+\n",
            "|             4|        104|     Blender|Home Appliance|  150|       1|                 15|      2023-08-03|\n",
            "|             6|        105|       Shoes|       Fashion|   60|       1|                 20|      2023-08-04|\n",
            "|             7|        106|Refrigerator|Home Appliance|  800|       1|                 25|      2023-08-05|\n",
            "+--------------+-----------+------------+--------------+-----+--------+-------------------+----------------+\n",
            "\n"
          ]
        }
      ]
    },
    {
      "cell_type": "code",
      "source": [
        "# 3. Find the Most Expensive Product Sold\n",
        "most_expensive_product = ecommerce_df.orderBy(col(\"price\").desc()).limit(1)\n",
        "most_expensive_product.show()"
      ],
      "metadata": {
        "colab": {
          "base_uri": "https://localhost:8080/"
        },
        "id": "4XIsAFafezZ1",
        "outputId": "44cfc883-18da-4238-8186-e28525de09c1"
      },
      "execution_count": 89,
      "outputs": [
        {
          "output_type": "stream",
          "name": "stdout",
          "text": [
            "+--------------+-----------+-------+-----------+-----+--------+-------------------+----------------+\n",
            "|transaction_id|customer_id|product|   category|price|quantity|discount_percentage|transaction_date|\n",
            "+--------------+-----------+-------+-----------+-----+--------+-------------------+----------------+\n",
            "|             1|        101| Laptop|Electronics| 1000|       1|                 10|      2023-08-01|\n",
            "+--------------+-----------+-------+-----------+-----+--------+-------------------+----------------+\n",
            "\n"
          ]
        }
      ]
    },
    {
      "cell_type": "code",
      "source": [
        "# 4. Calculate the Average Quantity of Products Sold per Category\n",
        "avg_quantity_per_category = ecommerce_df.groupBy(\"category\").agg(avg(\"quantity\").alias(\"avg_quantity\"))\n",
        "avg_quantity_per_category.show()"
      ],
      "metadata": {
        "colab": {
          "base_uri": "https://localhost:8080/"
        },
        "id": "kEVUSM98e4Yf",
        "outputId": "8628edfd-6211-4eb3-9d95-cd1d0fdff466"
      },
      "execution_count": 90,
      "outputs": [
        {
          "output_type": "stream",
          "name": "stdout",
          "text": [
            "+--------------+------------+\n",
            "|      category|avg_quantity|\n",
            "+--------------+------------+\n",
            "|       Fashion|         2.0|\n",
            "|   Electronics|        1.75|\n",
            "|Home Appliance|         1.0|\n",
            "|         Books|         4.0|\n",
            "+--------------+------------+\n",
            "\n"
          ]
        }
      ]
    },
    {
      "cell_type": "code",
      "source": [
        "# 5. Identify Customers Who Purchased More Than One Product\n",
        "multiple_products_customers = ecommerce_df.groupBy(\"customer_id\", \"transaction_id\").agg(sum(\"quantity\").alias(\"total_quantity\")).filter(col(\"total_quantity\") > 1)\n",
        "multiple_products_customers.show()"
      ],
      "metadata": {
        "colab": {
          "base_uri": "https://localhost:8080/"
        },
        "id": "K11Ra1JFfly-",
        "outputId": "30a2910c-666b-4420-9dec-ec2c0c73b39d"
      },
      "execution_count": 91,
      "outputs": [
        {
          "output_type": "stream",
          "name": "stdout",
          "text": [
            "+-----------+--------------+--------------+\n",
            "|customer_id|transaction_id|total_quantity|\n",
            "+-----------+--------------+--------------+\n",
            "|        101|             5|             2|\n",
            "|        102|             2|             2|\n",
            "|        103|             3|             3|\n",
            "|        107|             8|             4|\n",
            "|        102|            10|             2|\n",
            "+-----------+--------------+--------------+\n",
            "\n"
          ]
        }
      ]
    },
    {
      "cell_type": "code",
      "source": [
        "# 6. Find the Top 3 Highest Revenue Transactions\n",
        "top_3_revenue_transactions = ecommerce_df.withColumn(\n",
        "    \"revenue\", col(\"price\") * col(\"quantity\") * (1 - col(\"discount_percentage\") / 100)\n",
        ").groupBy(\"transaction_id\").agg(sum(\"revenue\").alias(\"total_revenue\")).orderBy(col(\"total_revenue\").desc()).limit(3)\n",
        "top_3_revenue_transactions.show()"
      ],
      "metadata": {
        "colab": {
          "base_uri": "https://localhost:8080/"
        },
        "id": "_5Vcifnvfu8d",
        "outputId": "c3905fbc-1632-4594-d7a0-8b94019eb640"
      },
      "execution_count": 92,
      "outputs": [
        {
          "output_type": "stream",
          "name": "stdout",
          "text": [
            "+--------------+-------------+\n",
            "|transaction_id|total_revenue|\n",
            "+--------------+-------------+\n",
            "|             2|       1330.0|\n",
            "|             1|        900.0|\n",
            "|             7|        600.0|\n",
            "+--------------+-------------+\n",
            "\n"
          ]
        }
      ]
    },
    {
      "cell_type": "code",
      "source": [
        "# 7. Calculate the Total Number of Transactions per Day\n",
        "total_transactions_per_day = ecommerce_df.groupBy(\"transaction_date\").agg(count(\"transaction_id\").alias(\"total_transactions\"))\n",
        "total_transactions_per_day.show()"
      ],
      "metadata": {
        "colab": {
          "base_uri": "https://localhost:8080/"
        },
        "id": "Jnz2e0ckf6IH",
        "outputId": "d2a7dbc1-9d42-47f1-ad2f-c809a689c413"
      },
      "execution_count": 93,
      "outputs": [
        {
          "output_type": "stream",
          "name": "stdout",
          "text": [
            "+----------------+------------------+\n",
            "|transaction_date|total_transactions|\n",
            "+----------------+------------------+\n",
            "|      2023-08-01|                 2|\n",
            "|      2023-08-02|                 1|\n",
            "|      2023-08-03|                 2|\n",
            "|      2023-08-06|                 2|\n",
            "|      2023-08-04|                 1|\n",
            "|      2023-08-05|                 2|\n",
            "+----------------+------------------+\n",
            "\n"
          ]
        }
      ]
    },
    {
      "cell_type": "code",
      "source": [
        "# 8. Find the Customer Who Spent the Most Money\n",
        "customer_spending = ecommerce_df.withColumn(\n",
        "    \"revenue\", col(\"price\") * col(\"quantity\") * (1 - col(\"discount_percentage\") / 100)\n",
        ").groupBy(\"customer_id\").agg(sum(\"revenue\").alias(\"total_spent\")).orderBy(col(\"total_spent\").desc()).limit(1)\n",
        "customer_spending.show()"
      ],
      "metadata": {
        "colab": {
          "base_uri": "https://localhost:8080/"
        },
        "id": "YS9J7MzbgAz9",
        "outputId": "d335e2d7-394d-46c4-f5c5-e0b07b356e5f"
      },
      "execution_count": 94,
      "outputs": [
        {
          "output_type": "stream",
          "name": "stdout",
          "text": [
            "+-----------+-----------+\n",
            "|customer_id|total_spent|\n",
            "+-----------+-----------+\n",
            "|        102|     1870.0|\n",
            "+-----------+-----------+\n",
            "\n"
          ]
        }
      ]
    },
    {
      "cell_type": "code",
      "source": [
        "# 9. Calculate the Average Discount Given per Product Category\n",
        "avg_discount_per_category = ecommerce_df.groupBy(\"category\").agg(avg(\"discount_percentage\").alias(\"avg_discount\"))\n",
        "avg_discount_per_category.show()"
      ],
      "metadata": {
        "colab": {
          "base_uri": "https://localhost:8080/"
        },
        "id": "cUsc_uidgILl",
        "outputId": "5e6963ef-b221-4be2-de14-e86ab0a723f3"
      },
      "execution_count": 95,
      "outputs": [
        {
          "output_type": "stream",
          "name": "stdout",
          "text": [
            "+--------------+------------+\n",
            "|      category|avg_discount|\n",
            "+--------------+------------+\n",
            "|       Fashion|        10.0|\n",
            "|   Electronics|        8.75|\n",
            "|Home Appliance|        15.0|\n",
            "|         Books|         0.0|\n",
            "+--------------+------------+\n",
            "\n"
          ]
        }
      ]
    },
    {
      "cell_type": "code",
      "source": [
        "# 10. Create a New Column for Final Price After Discount\n",
        "ecommerce_df = ecommerce_df.withColumn(\n",
        "    \"final_price\", col(\"price\") * (1 - col(\"discount_percentage\") / 100))\n",
        "ecommerce_df.show()"
      ],
      "metadata": {
        "colab": {
          "base_uri": "https://localhost:8080/"
        },
        "id": "DQ17Cbu0gY9-",
        "outputId": "d716e361-6282-45cc-e4f6-b4de56daad86"
      },
      "execution_count": 96,
      "outputs": [
        {
          "output_type": "stream",
          "name": "stdout",
          "text": [
            "+--------------+-----------+------------+--------------+-----+--------+-------------------+----------------+-----------+\n",
            "|transaction_id|customer_id|     product|      category|price|quantity|discount_percentage|transaction_date|final_price|\n",
            "+--------------+-----------+------------+--------------+-----+--------+-------------------+----------------+-----------+\n",
            "|             1|        101|      Laptop|   Electronics| 1000|       1|                 10|      2023-08-01|      900.0|\n",
            "|             2|        102|  Smartphone|   Electronics|  700|       2|                  5|      2023-08-01|      665.0|\n",
            "|             3|        103|       Shirt|       Fashion|   40|       3|                  0|      2023-08-02|       40.0|\n",
            "|             4|        104|     Blender|Home Appliance|  150|       1|                 15|      2023-08-03|      127.5|\n",
            "|             5|        101|  Headphones|   Electronics|  100|       2|                 10|      2023-08-03|       90.0|\n",
            "|             6|        105|       Shoes|       Fashion|   60|       1|                 20|      2023-08-04|       48.0|\n",
            "|             7|        106|Refrigerator|Home Appliance|  800|       1|                 25|      2023-08-05|      600.0|\n",
            "|             8|        107|        Book|         Books|   20|       4|                  0|      2023-08-05|       20.0|\n",
            "|             9|        108|     Toaster|Home Appliance|   30|       1|                  5|      2023-08-06|       28.5|\n",
            "|            10|        102|      Tablet|   Electronics|  300|       2|                 10|      2023-08-06|      270.0|\n",
            "+--------------+-----------+------------+--------------+-----+--------+-------------------+----------------+-----------+\n",
            "\n"
          ]
        }
      ]
    },
    {
      "cell_type": "markdown",
      "source": [
        "# **BANKING TRANSACTIONS**"
      ],
      "metadata": {
        "id": "YxClcpemgjld"
      }
    },
    {
      "cell_type": "code",
      "source": [
        "# Initialize SparkSession\n",
        "spark = SparkSession.builder.appName(\"Banking Transactions\").getOrCreate()\n",
        "\n",
        "# Sample Data with Alternate Column Names\n",
        "data = [\n",
        "    (1, 201, \"Deposit\", 5000, \"2023-09-01\"),\n",
        "    (2, 202, \"Withdrawal\", 2000, \"2023-09-01\"),\n",
        "    (3, 203, \"Deposit\", 3000, \"2023-09-02\"),\n",
        "    (4, 201, \"Withdrawal\", 1500, \"2023-09-02\"),\n",
        "    (5, 204, \"Deposit\", 10000, \"2023-09-03\"),\n",
        "    (6, 205, \"Withdrawal\", 500, \"2023-09-03\"),\n",
        "    (7, 202, \"Deposit\", 2500, \"2023-09-04\"),\n",
        "    (8, 206, \"Withdrawal\", 700, \"2023-09-04\"),\n",
        "    (9, 203, \"Deposit\", 4000, \"2023-09-05\"),\n",
        "    (10, 204, \"Withdrawal\", 3000, \"2023-09-05\")\n",
        "]\n",
        "columns = [\"transaction_id\", \"customer_id\", \"transaction_type\", \"amount\", \"transaction_date\"]\n",
        "\n",
        "# Create DataFrame\n",
        "banking_df = spark.createDataFrame(data, columns)\n",
        "banking_df.show()"
      ],
      "metadata": {
        "colab": {
          "base_uri": "https://localhost:8080/"
        },
        "id": "v8y-LxmZgtKT",
        "outputId": "725fadb8-4f4c-4877-a8c4-a70ccd0ce62a"
      },
      "execution_count": 9,
      "outputs": [
        {
          "output_type": "stream",
          "name": "stdout",
          "text": [
            "+--------------+-----------+----------------+------+----------------+\n",
            "|transaction_id|customer_id|transaction_type|amount|transaction_date|\n",
            "+--------------+-----------+----------------+------+----------------+\n",
            "|             1|        201|         Deposit|  5000|      2023-09-01|\n",
            "|             2|        202|      Withdrawal|  2000|      2023-09-01|\n",
            "|             3|        203|         Deposit|  3000|      2023-09-02|\n",
            "|             4|        201|      Withdrawal|  1500|      2023-09-02|\n",
            "|             5|        204|         Deposit| 10000|      2023-09-03|\n",
            "|             6|        205|      Withdrawal|   500|      2023-09-03|\n",
            "|             7|        202|         Deposit|  2500|      2023-09-04|\n",
            "|             8|        206|      Withdrawal|   700|      2023-09-04|\n",
            "|             9|        203|         Deposit|  4000|      2023-09-05|\n",
            "|            10|        204|      Withdrawal|  3000|      2023-09-05|\n",
            "+--------------+-----------+----------------+------+----------------+\n",
            "\n"
          ]
        }
      ]
    },
    {
      "cell_type": "code",
      "source": [
        "# 1. Calculate the Total Deposit and Withdrawal Amounts\n",
        "total_amounts = banking_df.groupBy(\"transaction_type\").agg(sum(\"amount\").alias(\"total_amount\"))\n",
        "total_amounts.show()"
      ],
      "metadata": {
        "colab": {
          "base_uri": "https://localhost:8080/"
        },
        "id": "JHwaDY_wg7r5",
        "outputId": "ca7a9e08-c312-4356-de27-0cbcf8ee424b"
      },
      "execution_count": 10,
      "outputs": [
        {
          "output_type": "stream",
          "name": "stdout",
          "text": [
            "+----------------+------------+\n",
            "|transaction_type|total_amount|\n",
            "+----------------+------------+\n",
            "|         Deposit|       24500|\n",
            "|      Withdrawal|        7700|\n",
            "+----------------+------------+\n",
            "\n"
          ]
        }
      ]
    },
    {
      "cell_type": "code",
      "source": [
        "# 2. Filter Transactions Greater Than $3,000\n",
        "transactions_gt_3000 = banking_df.filter(col(\"amount\") > 3000)\n",
        "transactions_gt_3000.show()"
      ],
      "metadata": {
        "colab": {
          "base_uri": "https://localhost:8080/"
        },
        "id": "YtF6NZgEI3xy",
        "outputId": "c8a8fc84-6039-4ae2-b52f-e5c217ede006"
      },
      "execution_count": 11,
      "outputs": [
        {
          "output_type": "stream",
          "name": "stdout",
          "text": [
            "+--------------+-----------+----------------+------+----------------+\n",
            "|transaction_id|customer_id|transaction_type|amount|transaction_date|\n",
            "+--------------+-----------+----------------+------+----------------+\n",
            "|             1|        201|         Deposit|  5000|      2023-09-01|\n",
            "|             5|        204|         Deposit| 10000|      2023-09-03|\n",
            "|             9|        203|         Deposit|  4000|      2023-09-05|\n",
            "+--------------+-----------+----------------+------+----------------+\n",
            "\n"
          ]
        }
      ]
    },
    {
      "cell_type": "code",
      "source": [
        "# 3. Find the Largest Deposit Made\n",
        "largest_deposit = banking_df.filter(col(\"transaction_type\") == \"Deposit\").orderBy(col(\"amount\").desc()).limit(1)\n",
        "largest_deposit.show()\n"
      ],
      "metadata": {
        "colab": {
          "base_uri": "https://localhost:8080/"
        },
        "id": "-79BBZH2I9oS",
        "outputId": "9b0121d0-1495-4ccc-d7d2-440d616df20b"
      },
      "execution_count": 12,
      "outputs": [
        {
          "output_type": "stream",
          "name": "stdout",
          "text": [
            "+--------------+-----------+----------------+------+----------------+\n",
            "|transaction_id|customer_id|transaction_type|amount|transaction_date|\n",
            "+--------------+-----------+----------------+------+----------------+\n",
            "|             5|        204|         Deposit| 10000|      2023-09-03|\n",
            "+--------------+-----------+----------------+------+----------------+\n",
            "\n"
          ]
        }
      ]
    },
    {
      "cell_type": "code",
      "source": [
        "# 4. Calculate the Average Transaction Amount for Each Transaction Type\n",
        "avg_amount_per_type = banking_df.groupBy(\"transaction_type\").agg(avg(\"amount\").alias(\"avg_amount\"))\n",
        "avg_amount_per_type.show()"
      ],
      "metadata": {
        "colab": {
          "base_uri": "https://localhost:8080/"
        },
        "id": "Nl4o_8PdJG_2",
        "outputId": "5ee6f4f5-1ebd-482c-b77b-2fd39dcb2e6b"
      },
      "execution_count": 13,
      "outputs": [
        {
          "output_type": "stream",
          "name": "stdout",
          "text": [
            "+----------------+----------+\n",
            "|transaction_type|avg_amount|\n",
            "+----------------+----------+\n",
            "|         Deposit|    4900.0|\n",
            "|      Withdrawal|    1540.0|\n",
            "+----------------+----------+\n",
            "\n"
          ]
        }
      ]
    },
    {
      "cell_type": "code",
      "source": [
        "# 5. Find Customers Who Made Both Deposits and Withdrawals\n",
        "deposit_withdrawal_customers = banking_df.groupBy(\"customer_id\").agg(\n",
        "    sum(expr(\"CASE WHEN transaction_type = 'Deposit' THEN 1 ELSE 0 END\")).alias(\"deposits\"),\n",
        "    sum(expr(\"CASE WHEN transaction_type = 'Withdrawal' THEN 1 ELSE 0 END\")).alias(\"withdrawals\")\n",
        ").filter((col(\"deposits\") > 0) & (col(\"withdrawals\") > 0))\n",
        "deposit_withdrawal_customers.show()"
      ],
      "metadata": {
        "colab": {
          "base_uri": "https://localhost:8080/"
        },
        "id": "ju1pZ5mJJQIZ",
        "outputId": "8e41cfad-b424-4c7a-c525-d323b362ad4b"
      },
      "execution_count": 14,
      "outputs": [
        {
          "output_type": "stream",
          "name": "stdout",
          "text": [
            "+-----------+--------+-----------+\n",
            "|customer_id|deposits|withdrawals|\n",
            "+-----------+--------+-----------+\n",
            "|        202|       1|          1|\n",
            "|        201|       1|          1|\n",
            "|        204|       1|          1|\n",
            "+-----------+--------+-----------+\n",
            "\n"
          ]
        }
      ]
    },
    {
      "cell_type": "code",
      "source": [
        "# 6. Calculate the Total Amount of Transactions per Day\n",
        "total_amount_per_day = banking_df.groupBy(\"transaction_date\").agg(sum(\"amount\").alias(\"total_amount\"))\n",
        "total_amount_per_day.show()"
      ],
      "metadata": {
        "colab": {
          "base_uri": "https://localhost:8080/"
        },
        "id": "cKV8u6pyKhFy",
        "outputId": "72fcf135-84d7-4748-c728-a38317134479"
      },
      "execution_count": 15,
      "outputs": [
        {
          "output_type": "stream",
          "name": "stdout",
          "text": [
            "+----------------+------------+\n",
            "|transaction_date|total_amount|\n",
            "+----------------+------------+\n",
            "|      2023-09-01|        7000|\n",
            "|      2023-09-02|        4500|\n",
            "|      2023-09-03|       10500|\n",
            "|      2023-09-05|        7000|\n",
            "|      2023-09-04|        3200|\n",
            "+----------------+------------+\n",
            "\n"
          ]
        }
      ]
    },
    {
      "cell_type": "code",
      "source": [
        "# 7. Find the Customer with the Highest Total Withdrawal\n",
        "highest_withdrawal_customer = banking_df.filter(col(\"transaction_type\") == \"Withdrawal\").groupBy(\"customer_id\").agg(sum(\"amount\").alias(\"total_withdrawn\")).orderBy(col(\"total_withdrawn\").desc()).limit(1)\n",
        "highest_withdrawal_customer.show()"
      ],
      "metadata": {
        "colab": {
          "base_uri": "https://localhost:8080/"
        },
        "id": "1r0tj9KRKpOY",
        "outputId": "bac29f46-715d-45cb-8879-3a0a9398d303"
      },
      "execution_count": 16,
      "outputs": [
        {
          "output_type": "stream",
          "name": "stdout",
          "text": [
            "+-----------+---------------+\n",
            "|customer_id|total_withdrawn|\n",
            "+-----------+---------------+\n",
            "|        204|           3000|\n",
            "+-----------+---------------+\n",
            "\n"
          ]
        }
      ]
    },
    {
      "cell_type": "code",
      "source": [
        "# 8. Calculate the Number of Transactions for Each Customer\n",
        "transactions_per_customer = banking_df.groupBy(\"customer_id\").agg(count(\"transaction_id\").alias(\"num_transactions\"))\n",
        "transactions_per_customer.show()"
      ],
      "metadata": {
        "colab": {
          "base_uri": "https://localhost:8080/"
        },
        "id": "SHjMCPSgK13M",
        "outputId": "07a7335f-b45e-48ff-c345-1441f9f113ff"
      },
      "execution_count": 17,
      "outputs": [
        {
          "output_type": "stream",
          "name": "stdout",
          "text": [
            "+-----------+----------------+\n",
            "|customer_id|num_transactions|\n",
            "+-----------+----------------+\n",
            "|        202|               2|\n",
            "|        201|               2|\n",
            "|        203|               2|\n",
            "|        204|               2|\n",
            "|        205|               1|\n",
            "|        206|               1|\n",
            "+-----------+----------------+\n",
            "\n"
          ]
        }
      ]
    },
    {
      "cell_type": "code",
      "source": [
        "# 9. Find All Transactions That Occurred on the Same Day as a Withdrawal Greater Than $1,000\n",
        "withdrawal_gt_1000_dates = banking_df.filter((col(\"transaction_type\") == \"Withdrawal\") & (col(\"amount\") > 1000))\n",
        "transactions_same_day = banking_df.join(withdrawal_gt_1000_dates, on=\"transaction_date\")\n",
        "transactions_same_day.show()"
      ],
      "metadata": {
        "colab": {
          "base_uri": "https://localhost:8080/"
        },
        "id": "pPVMnFYOK8fa",
        "outputId": "0a54437f-620e-41d0-c15b-a491715bbe86"
      },
      "execution_count": 25,
      "outputs": [
        {
          "output_type": "stream",
          "name": "stdout",
          "text": [
            "+----------------+--------------+-----------+----------------+------+--------------+-----------+----------------+------+\n",
            "|transaction_date|transaction_id|customer_id|transaction_type|amount|transaction_id|customer_id|transaction_type|amount|\n",
            "+----------------+--------------+-----------+----------------+------+--------------+-----------+----------------+------+\n",
            "|      2023-09-01|             1|        201|         Deposit|  5000|             2|        202|      Withdrawal|  2000|\n",
            "|      2023-09-01|             2|        202|      Withdrawal|  2000|             2|        202|      Withdrawal|  2000|\n",
            "|      2023-09-02|             3|        203|         Deposit|  3000|             4|        201|      Withdrawal|  1500|\n",
            "|      2023-09-02|             4|        201|      Withdrawal|  1500|             4|        201|      Withdrawal|  1500|\n",
            "|      2023-09-05|             9|        203|         Deposit|  4000|            10|        204|      Withdrawal|  3000|\n",
            "|      2023-09-05|            10|        204|      Withdrawal|  3000|            10|        204|      Withdrawal|  3000|\n",
            "+----------------+--------------+-----------+----------------+------+--------------+-----------+----------------+------+\n",
            "\n"
          ]
        }
      ]
    },
    {
      "cell_type": "code",
      "source": [
        "# 10. Create a New Column to Classify Transactions as \"High\" or \"Low\" Value\n",
        "banking_df = banking_df.withColumn(\"transaction_value\", expr(\"CASE WHEN amount > 5000 THEN 'High' ELSE 'Low' END\"))\n",
        "banking_df.show()"
      ],
      "metadata": {
        "colab": {
          "base_uri": "https://localhost:8080/"
        },
        "id": "GMwrOifHM4ta",
        "outputId": "d7c60373-8455-488a-f9b1-89f0866bbf64"
      },
      "execution_count": 26,
      "outputs": [
        {
          "output_type": "stream",
          "name": "stdout",
          "text": [
            "+--------------+-----------+----------------+------+----------------+-----------------+\n",
            "|transaction_id|customer_id|transaction_type|amount|transaction_date|transaction_value|\n",
            "+--------------+-----------+----------------+------+----------------+-----------------+\n",
            "|             1|        201|         Deposit|  5000|      2023-09-01|              Low|\n",
            "|             2|        202|      Withdrawal|  2000|      2023-09-01|              Low|\n",
            "|             3|        203|         Deposit|  3000|      2023-09-02|              Low|\n",
            "|             4|        201|      Withdrawal|  1500|      2023-09-02|              Low|\n",
            "|             5|        204|         Deposit| 10000|      2023-09-03|             High|\n",
            "|             6|        205|      Withdrawal|   500|      2023-09-03|              Low|\n",
            "|             7|        202|         Deposit|  2500|      2023-09-04|              Low|\n",
            "|             8|        206|      Withdrawal|   700|      2023-09-04|              Low|\n",
            "|             9|        203|         Deposit|  4000|      2023-09-05|              Low|\n",
            "|            10|        204|      Withdrawal|  3000|      2023-09-05|              Low|\n",
            "+--------------+-----------+----------------+------+----------------+-----------------+\n",
            "\n"
          ]
        }
      ]
    },
    {
      "cell_type": "markdown",
      "source": [
        "# **HEALTH & FITNESS TRACKER DATA**"
      ],
      "metadata": {
        "id": "AjMkITafNH5I"
      }
    },
    {
      "cell_type": "code",
      "source": [
        "# Initialize SparkSession\n",
        "spark = SparkSession.builder.appName(\"Health & Fitness Tracker\").getOrCreate()\n",
        "\n",
        "# Sample Data with Alternate Column Names\n",
        "data = [\n",
        "    (1, \"2023-09-01\", 12000, 500, 7.0, \"Cardio\"),\n",
        "    (2, \"2023-09-01\", 8000, 400, 6.5, \"Strength\"),\n",
        "    (3, \"2023-09-01\", 15000, 650, 8.0, \"Yoga\"),\n",
        "    (1, \"2023-09-02\", 10000, 450, 6.0, \"Cardio\"),\n",
        "    (2, \"2023-09-02\", 9500, 500, 7.0, \"Cardio\"),\n",
        "    (3, \"2023-09-02\", 14000, 600, 7.5, \"Strength\"),\n",
        "    (1, \"2023-09-03\", 13000, 550, 8.0, \"Yoga\"),\n",
        "    (2, \"2023-09-03\", 12000, 520, 6.5, \"Yoga\"),\n",
        "    (3, \"2023-09-03\", 16000, 700, 7.0, \"Cardio\")\n",
        "]\n",
        "columns = [\"user_id\", \"date\", \"steps\", \"calories_burned\", \"hours_of_sleep\", \"workout_type\"]\n",
        "\n",
        "# Create DataFrame\n",
        "fitness_df = spark.createDataFrame(data, columns)\n",
        "fitness_df.show()\n"
      ],
      "metadata": {
        "colab": {
          "base_uri": "https://localhost:8080/"
        },
        "id": "Quo1kSbYNUX5",
        "outputId": "fc16612a-4a33-46de-a561-8b62c68d35f0"
      },
      "execution_count": 28,
      "outputs": [
        {
          "output_type": "stream",
          "name": "stdout",
          "text": [
            "+-------+----------+-----+---------------+--------------+------------+\n",
            "|user_id|      date|steps|calories_burned|hours_of_sleep|workout_type|\n",
            "+-------+----------+-----+---------------+--------------+------------+\n",
            "|      1|2023-09-01|12000|            500|           7.0|      Cardio|\n",
            "|      2|2023-09-01| 8000|            400|           6.5|    Strength|\n",
            "|      3|2023-09-01|15000|            650|           8.0|        Yoga|\n",
            "|      1|2023-09-02|10000|            450|           6.0|      Cardio|\n",
            "|      2|2023-09-02| 9500|            500|           7.0|      Cardio|\n",
            "|      3|2023-09-02|14000|            600|           7.5|    Strength|\n",
            "|      1|2023-09-03|13000|            550|           8.0|        Yoga|\n",
            "|      2|2023-09-03|12000|            520|           6.5|        Yoga|\n",
            "|      3|2023-09-03|16000|            700|           7.0|      Cardio|\n",
            "+-------+----------+-----+---------------+--------------+------------+\n",
            "\n"
          ]
        }
      ]
    },
    {
      "cell_type": "code",
      "source": [
        "# 1. Find the Total Steps Taken by Each User\n",
        "total_steps_per_user = fitness_df.groupBy(\"user_id\").agg(sum(\"steps\").alias(\"total_steps\"))\n",
        "total_steps_per_user.show()"
      ],
      "metadata": {
        "colab": {
          "base_uri": "https://localhost:8080/"
        },
        "id": "aoFSLOAVOoed",
        "outputId": "b1306ae9-15b9-432c-e7d5-9c62f2db4afd"
      },
      "execution_count": 29,
      "outputs": [
        {
          "output_type": "stream",
          "name": "stdout",
          "text": [
            "+-------+-----------+\n",
            "|user_id|total_steps|\n",
            "+-------+-----------+\n",
            "|      1|      35000|\n",
            "|      3|      45000|\n",
            "|      2|      29500|\n",
            "+-------+-----------+\n",
            "\n"
          ]
        }
      ]
    },
    {
      "cell_type": "code",
      "source": [
        "# 2. Filter Days with More Than 10,000 Steps\n",
        "days_gt_10000_steps = fitness_df.filter(col(\"steps\") > 10000)\n",
        "days_gt_10000_steps.show()"
      ],
      "metadata": {
        "colab": {
          "base_uri": "https://localhost:8080/"
        },
        "id": "n2LiwwPFOtiY",
        "outputId": "e35a04b1-24f2-404d-bd68-185a94ac7d3d"
      },
      "execution_count": 30,
      "outputs": [
        {
          "output_type": "stream",
          "name": "stdout",
          "text": [
            "+-------+----------+-----+---------------+--------------+------------+\n",
            "|user_id|      date|steps|calories_burned|hours_of_sleep|workout_type|\n",
            "+-------+----------+-----+---------------+--------------+------------+\n",
            "|      1|2023-09-01|12000|            500|           7.0|      Cardio|\n",
            "|      3|2023-09-01|15000|            650|           8.0|        Yoga|\n",
            "|      3|2023-09-02|14000|            600|           7.5|    Strength|\n",
            "|      1|2023-09-03|13000|            550|           8.0|        Yoga|\n",
            "|      2|2023-09-03|12000|            520|           6.5|        Yoga|\n",
            "|      3|2023-09-03|16000|            700|           7.0|      Cardio|\n",
            "+-------+----------+-----+---------------+--------------+------------+\n",
            "\n"
          ]
        }
      ]
    },
    {
      "cell_type": "code",
      "source": [
        "# 3. Calculate the Average Calories Burned by Workout Type\n",
        "avg_calories_per_workout = fitness_df.groupBy(\"workout_type\").agg(avg(\"calories_burned\").alias(\"avg_calories\"))\n",
        "avg_calories_per_workout.show()"
      ],
      "metadata": {
        "colab": {
          "base_uri": "https://localhost:8080/"
        },
        "id": "_UAXQL4FO1aW",
        "outputId": "b32c0e53-9a4c-460f-e494-f5529f5270d0"
      },
      "execution_count": 31,
      "outputs": [
        {
          "output_type": "stream",
          "name": "stdout",
          "text": [
            "+------------+-----------------+\n",
            "|workout_type|     avg_calories|\n",
            "+------------+-----------------+\n",
            "|    Strength|            500.0|\n",
            "|        Yoga|573.3333333333334|\n",
            "|      Cardio|            537.5|\n",
            "+------------+-----------------+\n",
            "\n"
          ]
        }
      ]
    },
    {
      "cell_type": "code",
      "source": [
        "# 4. Identify the Day with the Most Steps for Each User\n",
        "max_steps_per_user = fitness_df.groupBy(\"user_id\").agg(max(\"steps\").alias(\"steps\"))\n",
        "day_with_max_steps = fitness_df.join(max_steps_per_user ,on=[\"user_id\", \"steps\"])\n",
        "day_with_max_steps.show()"
      ],
      "metadata": {
        "colab": {
          "base_uri": "https://localhost:8080/"
        },
        "id": "fDL-xOvIO7YC",
        "outputId": "2c1b9441-7fdc-45ec-823b-ff9afc18feb1"
      },
      "execution_count": 35,
      "outputs": [
        {
          "output_type": "stream",
          "name": "stdout",
          "text": [
            "+-------+-----+----------+---------------+--------------+------------+\n",
            "|user_id|steps|      date|calories_burned|hours_of_sleep|workout_type|\n",
            "+-------+-----+----------+---------------+--------------+------------+\n",
            "|      3|16000|2023-09-03|            700|           7.0|      Cardio|\n",
            "|      1|13000|2023-09-03|            550|           8.0|        Yoga|\n",
            "|      2|12000|2023-09-03|            520|           6.5|        Yoga|\n",
            "+-------+-----+----------+---------------+--------------+------------+\n",
            "\n"
          ]
        }
      ]
    },
    {
      "cell_type": "code",
      "source": [
        "# 5. Find Users Who Burned More Than 600 Calories on Any Day\n",
        "users_burned_gt_600_calories = fitness_df.filter(col(\"calories_burned\") > 600).select(\"user_id\").distinct()\n",
        "users_burned_gt_600_calories.show()"
      ],
      "metadata": {
        "colab": {
          "base_uri": "https://localhost:8080/"
        },
        "id": "TwopAX1CQNJl",
        "outputId": "84d90eaf-250c-4b23-c6c8-43404a389461"
      },
      "execution_count": 36,
      "outputs": [
        {
          "output_type": "stream",
          "name": "stdout",
          "text": [
            "+-------+\n",
            "|user_id|\n",
            "+-------+\n",
            "|      3|\n",
            "+-------+\n",
            "\n"
          ]
        }
      ]
    },
    {
      "cell_type": "code",
      "source": [
        "# 6. Calculate the Average Hours of Sleep per User\n",
        "avg_sleep_per_user = fitness_df.groupBy(\"user_id\").agg(avg(\"hours_of_sleep\").alias(\"avg_sleep\"))\n",
        "avg_sleep_per_user.show()"
      ],
      "metadata": {
        "colab": {
          "base_uri": "https://localhost:8080/"
        },
        "id": "VCV2KUR8QSQa",
        "outputId": "8d9478c4-9bee-46d7-8ffb-4775bf719472"
      },
      "execution_count": 37,
      "outputs": [
        {
          "output_type": "stream",
          "name": "stdout",
          "text": [
            "+-------+-----------------+\n",
            "|user_id|        avg_sleep|\n",
            "+-------+-----------------+\n",
            "|      1|              7.0|\n",
            "|      3|              7.5|\n",
            "|      2|6.666666666666667|\n",
            "+-------+-----------------+\n",
            "\n"
          ]
        }
      ]
    },
    {
      "cell_type": "code",
      "source": [
        "# 7. Find the Total Calories Burned per Day\n",
        "total_calories_per_day = fitness_df.groupBy(\"date\").agg(sum(\"calories_burned\").alias(\"total_calories\"))\n",
        "total_calories_per_day.show()"
      ],
      "metadata": {
        "colab": {
          "base_uri": "https://localhost:8080/"
        },
        "id": "xH6w-tq2QXVt",
        "outputId": "d59c0eda-9a5e-418a-cef0-6c243075d862"
      },
      "execution_count": 38,
      "outputs": [
        {
          "output_type": "stream",
          "name": "stdout",
          "text": [
            "+----------+--------------+\n",
            "|      date|total_calories|\n",
            "+----------+--------------+\n",
            "|2023-09-01|          1550|\n",
            "|2023-09-02|          1550|\n",
            "|2023-09-03|          1770|\n",
            "+----------+--------------+\n",
            "\n"
          ]
        }
      ]
    },
    {
      "cell_type": "code",
      "source": [
        "# 8. Identify Users Who Did Different Types of Workouts\n",
        "users_diff_workouts = fitness_df.groupBy(\"user_id\").agg(count(\"workout_type\").alias(\"workout_types_count\")).filter(col(\"workout_types_count\") > 1)\n",
        "users_diff_workouts.show()"
      ],
      "metadata": {
        "colab": {
          "base_uri": "https://localhost:8080/"
        },
        "id": "0aED2s-nQeDq",
        "outputId": "95ecf2e6-3726-4ced-d430-6d9e1eaec642"
      },
      "execution_count": 39,
      "outputs": [
        {
          "output_type": "stream",
          "name": "stdout",
          "text": [
            "+-------+-------------------+\n",
            "|user_id|workout_types_count|\n",
            "+-------+-------------------+\n",
            "|      1|                  3|\n",
            "|      3|                  3|\n",
            "|      2|                  3|\n",
            "+-------+-------------------+\n",
            "\n"
          ]
        }
      ]
    },
    {
      "cell_type": "code",
      "source": [
        "# 9. Calculate the Total Number of Workouts per User\n",
        "total_workouts_per_user = fitness_df.groupBy(\"user_id\").count().alias(\"total_workouts\")\n",
        "total_workouts_per_user.show()"
      ],
      "metadata": {
        "colab": {
          "base_uri": "https://localhost:8080/"
        },
        "id": "e8UZJhvTQi9g",
        "outputId": "ba0f1908-84bb-4f59-b739-5cfcde8ec10a"
      },
      "execution_count": 40,
      "outputs": [
        {
          "output_type": "stream",
          "name": "stdout",
          "text": [
            "+-------+-----+\n",
            "|user_id|count|\n",
            "+-------+-----+\n",
            "|      1|    3|\n",
            "|      3|    3|\n",
            "|      2|    3|\n",
            "+-------+-----+\n",
            "\n"
          ]
        }
      ]
    },
    {
      "cell_type": "code",
      "source": [
        "# 10. Create a New Column for \"Active\" Days\n",
        "fitness_df = fitness_df.withColumn(\"Active_day\", expr(\"CASE WHEN steps > 10000 THEN 'Active' ELSE 'Inactive' END\"))\n",
        "fitness_df.show()"
      ],
      "metadata": {
        "colab": {
          "base_uri": "https://localhost:8080/"
        },
        "id": "5qnWZzLWQqdl",
        "outputId": "ef63ea83-0ddc-4593-ac80-e262b82b0939"
      },
      "execution_count": 41,
      "outputs": [
        {
          "output_type": "stream",
          "name": "stdout",
          "text": [
            "+-------+----------+-----+---------------+--------------+------------+----------+\n",
            "|user_id|      date|steps|calories_burned|hours_of_sleep|workout_type|Active_day|\n",
            "+-------+----------+-----+---------------+--------------+------------+----------+\n",
            "|      1|2023-09-01|12000|            500|           7.0|      Cardio|    Active|\n",
            "|      2|2023-09-01| 8000|            400|           6.5|    Strength|  Inactive|\n",
            "|      3|2023-09-01|15000|            650|           8.0|        Yoga|    Active|\n",
            "|      1|2023-09-02|10000|            450|           6.0|      Cardio|  Inactive|\n",
            "|      2|2023-09-02| 9500|            500|           7.0|      Cardio|  Inactive|\n",
            "|      3|2023-09-02|14000|            600|           7.5|    Strength|    Active|\n",
            "|      1|2023-09-03|13000|            550|           8.0|        Yoga|    Active|\n",
            "|      2|2023-09-03|12000|            520|           6.5|        Yoga|    Active|\n",
            "|      3|2023-09-03|16000|            700|           7.0|      Cardio|    Active|\n",
            "+-------+----------+-----+---------------+--------------+------------+----------+\n",
            "\n"
          ]
        }
      ]
    },
    {
      "cell_type": "markdown",
      "source": [
        "# **MUSIC STREAMING DATA**"
      ],
      "metadata": {
        "id": "h9DjpCp0Q2Lc"
      }
    },
    {
      "cell_type": "code",
      "source": [
        "# Initialize SparkSession\n",
        "spark = SparkSession.builder.appName(\"Music Streaming Data\").getOrCreate()\n",
        "\n",
        "# Sample Data with Alternate Column Names\n",
        "data = [\n",
        "    (1, \"Blinding Lights\", \"The Weeknd\", 200, \"2023-09-01 08:15:00\", \"New York\"),\n",
        "    (2, \"Shape of You\", \"Ed Sheeran\", 240, \"2023-09-01 09:20:00\", \"Los Angeles\"),\n",
        "    (3, \"Levitating\", \"Dua Lipa\", 180, \"2023-09-01 10:30:00\", \"London\"),\n",
        "    (1, \"Starboy\", \"The Weeknd\", 220, \"2023-09-01 11:00:00\", \"New York\"),\n",
        "    (2, \"Perfect\", \"Ed Sheeran\", 250, \"2023-09-01 12:15:00\", \"Los Angeles\"),\n",
        "    (3, \"Don't Start Now\", \"Dua Lipa\", 200, \"2023-09-02 08:10:00\", \"London\"),\n",
        "    (1, \"Save Your Tears\", \"The Weeknd\", 210, \"2023-09-02 09:00:00\", \"New York\"),\n",
        "    (2, \"Galway Girl\", \"Ed Sheeran\", 190, \"2023-09-02 10:00:00\", \"Los Angeles\"),\n",
        "    (3, \"New Rules\", \"Dua Lipa\", 230, \"2023-09-02 11:00:00\", \"London\")\n",
        "]\n",
        "columns = [\"user_id\", \"song_title\", \"artist\", \"duration_seconds\", \"streaming_time\", \"location\"]\n",
        "\n",
        "# Create DataFrame\n",
        "music_df = spark.createDataFrame(data, columns)\n",
        "music_df.show()"
      ],
      "metadata": {
        "colab": {
          "base_uri": "https://localhost:8080/"
        },
        "id": "eLXr8TynRACq",
        "outputId": "f2a99e79-02be-449b-ff95-1f4b8956b822"
      },
      "execution_count": 42,
      "outputs": [
        {
          "output_type": "stream",
          "name": "stdout",
          "text": [
            "+-------+---------------+----------+----------------+-------------------+-----------+\n",
            "|user_id|     song_title|    artist|duration_seconds|     streaming_time|   location|\n",
            "+-------+---------------+----------+----------------+-------------------+-----------+\n",
            "|      1|Blinding Lights|The Weeknd|             200|2023-09-01 08:15:00|   New York|\n",
            "|      2|   Shape of You|Ed Sheeran|             240|2023-09-01 09:20:00|Los Angeles|\n",
            "|      3|     Levitating|  Dua Lipa|             180|2023-09-01 10:30:00|     London|\n",
            "|      1|        Starboy|The Weeknd|             220|2023-09-01 11:00:00|   New York|\n",
            "|      2|        Perfect|Ed Sheeran|             250|2023-09-01 12:15:00|Los Angeles|\n",
            "|      3|Don't Start Now|  Dua Lipa|             200|2023-09-02 08:10:00|     London|\n",
            "|      1|Save Your Tears|The Weeknd|             210|2023-09-02 09:00:00|   New York|\n",
            "|      2|    Galway Girl|Ed Sheeran|             190|2023-09-02 10:00:00|Los Angeles|\n",
            "|      3|      New Rules|  Dua Lipa|             230|2023-09-02 11:00:00|     London|\n",
            "+-------+---------------+----------+----------------+-------------------+-----------+\n",
            "\n"
          ]
        }
      ]
    },
    {
      "cell_type": "code",
      "source": [
        "# 1. Calculate the Total Listening Time for Each User\n",
        "total_listening_time_per_user = music_df.groupBy(\"user_id\").agg(sum(\"duration_seconds\").alias(\"total_listening_time\"))\n",
        "total_listening_time_per_user.show()"
      ],
      "metadata": {
        "colab": {
          "base_uri": "https://localhost:8080/"
        },
        "id": "L-kH4Wi0RO2A",
        "outputId": "7c57cc37-1aab-4080-f3a7-c39a642cb9ad"
      },
      "execution_count": 43,
      "outputs": [
        {
          "output_type": "stream",
          "name": "stdout",
          "text": [
            "+-------+--------------------+\n",
            "|user_id|total_listening_time|\n",
            "+-------+--------------------+\n",
            "|      1|                 630|\n",
            "|      3|                 610|\n",
            "|      2|                 680|\n",
            "+-------+--------------------+\n",
            "\n"
          ]
        }
      ]
    },
    {
      "cell_type": "code",
      "source": [
        "# 2. Filter Songs Streamed for More Than 200 Seconds\n",
        "songs_gt_200_seconds = music_df.filter(col(\"duration_seconds\") > 200)\n",
        "songs_gt_200_seconds.show()"
      ],
      "metadata": {
        "colab": {
          "base_uri": "https://localhost:8080/"
        },
        "id": "c1owit-vRUSq",
        "outputId": "9015e8f2-3077-4437-8559-688d3e107621"
      },
      "execution_count": 44,
      "outputs": [
        {
          "output_type": "stream",
          "name": "stdout",
          "text": [
            "+-------+---------------+----------+----------------+-------------------+-----------+\n",
            "|user_id|     song_title|    artist|duration_seconds|     streaming_time|   location|\n",
            "+-------+---------------+----------+----------------+-------------------+-----------+\n",
            "|      2|   Shape of You|Ed Sheeran|             240|2023-09-01 09:20:00|Los Angeles|\n",
            "|      1|        Starboy|The Weeknd|             220|2023-09-01 11:00:00|   New York|\n",
            "|      2|        Perfect|Ed Sheeran|             250|2023-09-01 12:15:00|Los Angeles|\n",
            "|      1|Save Your Tears|The Weeknd|             210|2023-09-02 09:00:00|   New York|\n",
            "|      3|      New Rules|  Dua Lipa|             230|2023-09-02 11:00:00|     London|\n",
            "+-------+---------------+----------+----------------+-------------------+-----------+\n",
            "\n"
          ]
        }
      ]
    },
    {
      "cell_type": "code",
      "source": [
        "# 3. Find the Most Popular Artist\n",
        "most_popular_artist = music_df.groupBy(\"artist\").agg(count(\"song_title\").alias(\"total_streams\")).orderBy(col(\"total_streams\").desc()).limit(1)\n",
        "most_popular_artist.show()"
      ],
      "metadata": {
        "colab": {
          "base_uri": "https://localhost:8080/"
        },
        "id": "P5Z-t47sRYTK",
        "outputId": "9a3ba24a-dda2-43b3-f220-c17aa3cb37c9"
      },
      "execution_count": 45,
      "outputs": [
        {
          "output_type": "stream",
          "name": "stdout",
          "text": [
            "+--------+-------------+\n",
            "|  artist|total_streams|\n",
            "+--------+-------------+\n",
            "|Dua Lipa|            3|\n",
            "+--------+-------------+\n",
            "\n"
          ]
        }
      ]
    },
    {
      "cell_type": "code",
      "source": [
        "# 4. Identify the Song with the Longest Duration\n",
        "longest_duration_song = music_df.orderBy(col(\"duration_seconds\").desc()).limit(1)\n",
        "longest_duration_song.show()"
      ],
      "metadata": {
        "colab": {
          "base_uri": "https://localhost:8080/"
        },
        "id": "PF0a7wrfRglp",
        "outputId": "d862550b-e62a-4560-cb01-269e552773c6"
      },
      "execution_count": 46,
      "outputs": [
        {
          "output_type": "stream",
          "name": "stdout",
          "text": [
            "+-------+----------+----------+----------------+-------------------+-----------+\n",
            "|user_id|song_title|    artist|duration_seconds|     streaming_time|   location|\n",
            "+-------+----------+----------+----------------+-------------------+-----------+\n",
            "|      2|   Perfect|Ed Sheeran|             250|2023-09-01 12:15:00|Los Angeles|\n",
            "+-------+----------+----------+----------------+-------------------+-----------+\n",
            "\n"
          ]
        }
      ]
    },
    {
      "cell_type": "code",
      "source": [
        "# 5. Calculate the Average Song Duration by Artist\n",
        "avg_duration_per_artist = music_df.groupBy(\"artist\").agg(avg(\"duration_seconds\").alias(\"avg_duration\"))\n",
        "avg_duration_per_artist.show()"
      ],
      "metadata": {
        "colab": {
          "base_uri": "https://localhost:8080/"
        },
        "id": "XsYJAgGYRnVZ",
        "outputId": "74632a03-e902-488b-c6cb-65c5078cc592"
      },
      "execution_count": 47,
      "outputs": [
        {
          "output_type": "stream",
          "name": "stdout",
          "text": [
            "+----------+------------------+\n",
            "|    artist|      avg_duration|\n",
            "+----------+------------------+\n",
            "|  Dua Lipa|203.33333333333334|\n",
            "|Ed Sheeran|226.66666666666666|\n",
            "|The Weeknd|             210.0|\n",
            "+----------+------------------+\n",
            "\n"
          ]
        }
      ]
    },
    {
      "cell_type": "code",
      "source": [
        "# 6. Find the Top 3 Most Streamed Songs per User\n",
        "from pyspark.sql.window import Window\n",
        "from pyspark.sql.functions import rank\n",
        "\n",
        "window_fun = Window.partitionBy(\"user_id\").orderBy(col(\"count\").desc())\n",
        "top_songs_per_user = music_df.groupBy(\"user_id\", \"song_title\").agg(count(\"song_title\").alias(\"count\")).withColumn(\"rank\", rank().over(window_fun)).filter(col(\"rank\") <= 3)\n",
        "top_songs_per_user.show()"
      ],
      "metadata": {
        "colab": {
          "base_uri": "https://localhost:8080/"
        },
        "id": "ACtusKeuRscb",
        "outputId": "3ec351ce-77c7-4c22-d4bb-22a0cf2cf76f"
      },
      "execution_count": 48,
      "outputs": [
        {
          "output_type": "stream",
          "name": "stdout",
          "text": [
            "+-------+---------------+-----+----+\n",
            "|user_id|     song_title|count|rank|\n",
            "+-------+---------------+-----+----+\n",
            "|      1|Blinding Lights|    1|   1|\n",
            "|      1|        Starboy|    1|   1|\n",
            "|      1|Save Your Tears|    1|   1|\n",
            "|      2|   Shape of You|    1|   1|\n",
            "|      2|    Galway Girl|    1|   1|\n",
            "|      2|        Perfect|    1|   1|\n",
            "|      3|     Levitating|    1|   1|\n",
            "|      3|      New Rules|    1|   1|\n",
            "|      3|Don't Start Now|    1|   1|\n",
            "+-------+---------------+-----+----+\n",
            "\n"
          ]
        }
      ]
    },
    {
      "cell_type": "code",
      "source": [
        "# 7. Calculate the Total Number of Streams per Day\n",
        "from pyspark.sql.functions import dayofmonth\n",
        "\n",
        "total_streams_per_day = music_df.groupBy(dayofmonth(\"streaming_time\").alias(\"date\")).agg(count(\"song_title\").alias(\"total_streams\"))\n",
        "total_streams_per_day.show()"
      ],
      "metadata": {
        "colab": {
          "base_uri": "https://localhost:8080/"
        },
        "id": "w-bNBfrbSEhg",
        "outputId": "9fe94487-afec-457e-a169-df0e92736905"
      },
      "execution_count": 49,
      "outputs": [
        {
          "output_type": "stream",
          "name": "stdout",
          "text": [
            "+----+-------------+\n",
            "|date|total_streams|\n",
            "+----+-------------+\n",
            "|   1|            5|\n",
            "|   2|            4|\n",
            "+----+-------------+\n",
            "\n"
          ]
        }
      ]
    },
    {
      "cell_type": "code",
      "source": [
        "# 8. Identify Users Who Streamed Songs from More Than One Artist\n",
        "users_diff_artists = music_df.groupBy(\"user_id\").agg(count(\"artist\").alias(\"unique_artists\")).filter(col(\"unique_artists\") > 1)\n",
        "users_diff_artists.show()"
      ],
      "metadata": {
        "colab": {
          "base_uri": "https://localhost:8080/"
        },
        "id": "wgBF2osXSR2m",
        "outputId": "91d85266-913d-4376-aa8a-102d11f64cbd"
      },
      "execution_count": 50,
      "outputs": [
        {
          "output_type": "stream",
          "name": "stdout",
          "text": [
            "+-------+--------------+\n",
            "|user_id|unique_artists|\n",
            "+-------+--------------+\n",
            "|      1|             3|\n",
            "|      3|             3|\n",
            "|      2|             3|\n",
            "+-------+--------------+\n",
            "\n"
          ]
        }
      ]
    },
    {
      "cell_type": "code",
      "source": [
        "# 9. Calculate the Total Streams for Each Location\n",
        "total_streams_per_location = music_df.groupBy(\"location\").agg(count(\"song_title\").alias(\"total_streams\"))\n",
        "total_streams_per_location.show()"
      ],
      "metadata": {
        "colab": {
          "base_uri": "https://localhost:8080/"
        },
        "id": "xZyTKCwLSWw2",
        "outputId": "82759ce4-9b0c-4e9d-d9f9-8eb818fe9cc5"
      },
      "execution_count": 51,
      "outputs": [
        {
          "output_type": "stream",
          "name": "stdout",
          "text": [
            "+-----------+-------------+\n",
            "|   location|total_streams|\n",
            "+-----------+-------------+\n",
            "|Los Angeles|            3|\n",
            "|     London|            3|\n",
            "|   New York|            3|\n",
            "+-----------+-------------+\n",
            "\n"
          ]
        }
      ]
    },
    {
      "cell_type": "code",
      "source": [
        "# 10. Create a New Column to Classify Long and Short Songs\n",
        "music_df = music_df.withColumn(\"song_length\", expr(\"CASE WHEN duration_seconds > 200 THEN 'Long' ELSE 'Short' END\"))\n",
        "music_df.show()"
      ],
      "metadata": {
        "colab": {
          "base_uri": "https://localhost:8080/"
        },
        "id": "WWQiLdFnSbxa",
        "outputId": "f564c11f-b6bf-4ba5-d29e-99459345c588"
      },
      "execution_count": 52,
      "outputs": [
        {
          "output_type": "stream",
          "name": "stdout",
          "text": [
            "+-------+---------------+----------+----------------+-------------------+-----------+-----------+\n",
            "|user_id|     song_title|    artist|duration_seconds|     streaming_time|   location|song_length|\n",
            "+-------+---------------+----------+----------------+-------------------+-----------+-----------+\n",
            "|      1|Blinding Lights|The Weeknd|             200|2023-09-01 08:15:00|   New York|      Short|\n",
            "|      2|   Shape of You|Ed Sheeran|             240|2023-09-01 09:20:00|Los Angeles|       Long|\n",
            "|      3|     Levitating|  Dua Lipa|             180|2023-09-01 10:30:00|     London|      Short|\n",
            "|      1|        Starboy|The Weeknd|             220|2023-09-01 11:00:00|   New York|       Long|\n",
            "|      2|        Perfect|Ed Sheeran|             250|2023-09-01 12:15:00|Los Angeles|       Long|\n",
            "|      3|Don't Start Now|  Dua Lipa|             200|2023-09-02 08:10:00|     London|      Short|\n",
            "|      1|Save Your Tears|The Weeknd|             210|2023-09-02 09:00:00|   New York|       Long|\n",
            "|      2|    Galway Girl|Ed Sheeran|             190|2023-09-02 10:00:00|Los Angeles|      Short|\n",
            "|      3|      New Rules|  Dua Lipa|             230|2023-09-02 11:00:00|     London|       Long|\n",
            "+-------+---------------+----------+----------------+-------------------+-----------+-----------+\n",
            "\n"
          ]
        }
      ]
    },
    {
      "cell_type": "markdown",
      "source": [
        "# **RETAIL STORE SALES DATA**"
      ],
      "metadata": {
        "id": "0qwZhr6nSgl9"
      }
    },
    {
      "cell_type": "code",
      "source": [
        "# Initialize SparkSession\n",
        "spark = SparkSession.builder.appName(\"Retail Store Sales Data\").getOrCreate()\n",
        "\n",
        "# Sample Data with Alternate Column Names\n",
        "data = [\n",
        "    (1, \"Apple\", \"Groceries\", 0.50, 10, \"2023-09-01\"),\n",
        "    (2, \"T-shirt\", \"Clothing\", 15.00, 2, \"2023-09-01\"),\n",
        "    (3, \"Notebook\", \"Stationery\", 2.00, 5, \"2023-09-02\"),\n",
        "    (4, \"Banana\", \"Groceries\", 0.30, 12, \"2023-09-02\"),\n",
        "    (5, \"Laptop\", \"Electronics\", 800.00, 1, \"2023-09-03\"),\n",
        "    (6, \"Pants\", \"Clothing\", 25.00, 3, \"2023-09-03\"),\n",
        "    (7, \"Headphones\", \"Electronics\", 100.00, 2, \"2023-09-04\"),\n",
        "    (8, \"Pen\", \"Stationery\", 1.00, 10, \"2023-09-04\"),\n",
        "    (9, \"Orange\", \"Groceries\", 0.60, 8, \"2023-09-05\"),\n",
        "    (10, \"Sneakers\", \"Clothing\", 50.00, 1, \"2023-09-05\")\n",
        "]\n",
        "columns = [\"transaction_id\", \"product_name\", \"category\", \"price\", \"quantity\", \"sales_date\"]\n",
        "\n",
        "# Create DataFrame\n",
        "retail_df = spark.createDataFrame(data, columns)\n",
        "retail_df.show()"
      ],
      "metadata": {
        "colab": {
          "base_uri": "https://localhost:8080/"
        },
        "id": "7aCeuy4AS_lL",
        "outputId": "8cb10b03-5e42-40de-9ef1-d6f92188750e"
      },
      "execution_count": 53,
      "outputs": [
        {
          "output_type": "stream",
          "name": "stdout",
          "text": [
            "+--------------+------------+-----------+-----+--------+----------+\n",
            "|transaction_id|product_name|   category|price|quantity|sales_date|\n",
            "+--------------+------------+-----------+-----+--------+----------+\n",
            "|             1|       Apple|  Groceries|  0.5|      10|2023-09-01|\n",
            "|             2|     T-shirt|   Clothing| 15.0|       2|2023-09-01|\n",
            "|             3|    Notebook| Stationery|  2.0|       5|2023-09-02|\n",
            "|             4|      Banana|  Groceries|  0.3|      12|2023-09-02|\n",
            "|             5|      Laptop|Electronics|800.0|       1|2023-09-03|\n",
            "|             6|       Pants|   Clothing| 25.0|       3|2023-09-03|\n",
            "|             7|  Headphones|Electronics|100.0|       2|2023-09-04|\n",
            "|             8|         Pen| Stationery|  1.0|      10|2023-09-04|\n",
            "|             9|      Orange|  Groceries|  0.6|       8|2023-09-05|\n",
            "|            10|    Sneakers|   Clothing| 50.0|       1|2023-09-05|\n",
            "+--------------+------------+-----------+-----+--------+----------+\n",
            "\n"
          ]
        }
      ]
    },
    {
      "cell_type": "code",
      "source": [
        "# 1. Calculate the Total Revenue per Category\n",
        "retail_df = retail_df.withColumn(\"total_revenue\", col(\"price\") * col(\"quantity\"))\n",
        "total_revenue_per_category = retail_df.groupBy(\"category\").agg(sum(\"total_revenue\").alias(\"total_revenue\"))\n",
        "total_revenue_per_category.show()"
      ],
      "metadata": {
        "colab": {
          "base_uri": "https://localhost:8080/"
        },
        "id": "RBJUygWUTpiC",
        "outputId": "77660417-9c02-455f-cd1e-2d0cd5960c0a"
      },
      "execution_count": 54,
      "outputs": [
        {
          "output_type": "stream",
          "name": "stdout",
          "text": [
            "+-----------+------------------+\n",
            "|   category|     total_revenue|\n",
            "+-----------+------------------+\n",
            "| Stationery|              20.0|\n",
            "|  Groceries|13.399999999999999|\n",
            "|Electronics|            1000.0|\n",
            "|   Clothing|             155.0|\n",
            "+-----------+------------------+\n",
            "\n"
          ]
        }
      ]
    },
    {
      "cell_type": "code",
      "source": [
        "# 2. Filter Transactions Where the Total Sales Amount is Greater Than $100\n",
        "retail_df = retail_df.withColumn(\"total_sales_amount\", col(\"price\") * col(\"quantity\"))\n",
        "transactions_gt_100 = retail_df.filter(col(\"total_sales_amount\") > 100)\n",
        "transactions_gt_100.show()"
      ],
      "metadata": {
        "colab": {
          "base_uri": "https://localhost:8080/"
        },
        "id": "2G2e8wSnUD1B",
        "outputId": "8221b4d7-3dad-47c3-a962-0a6d4a1f2084"
      },
      "execution_count": 55,
      "outputs": [
        {
          "output_type": "stream",
          "name": "stdout",
          "text": [
            "+--------------+------------+-----------+-----+--------+----------+-------------+------------------+\n",
            "|transaction_id|product_name|   category|price|quantity|sales_date|total_revenue|total_sales_amount|\n",
            "+--------------+------------+-----------+-----+--------+----------+-------------+------------------+\n",
            "|             5|      Laptop|Electronics|800.0|       1|2023-09-03|        800.0|             800.0|\n",
            "|             7|  Headphones|Electronics|100.0|       2|2023-09-04|        200.0|             200.0|\n",
            "+--------------+------------+-----------+-----+--------+----------+-------------+------------------+\n",
            "\n"
          ]
        }
      ]
    },
    {
      "cell_type": "code",
      "source": [
        "# 3. Find the Most Sold Product\n",
        "most_sold_product = retail_df.groupBy(\"product_name\").agg(sum(\"quantity\").alias(\"total_quantity\")).orderBy(col(\"total_quantity\").desc()).limit(1)\n",
        "most_sold_product.show()"
      ],
      "metadata": {
        "colab": {
          "base_uri": "https://localhost:8080/"
        },
        "id": "qAr1PHcDUHkN",
        "outputId": "906bd5e4-c6f4-49df-f206-74eedf65a255"
      },
      "execution_count": 56,
      "outputs": [
        {
          "output_type": "stream",
          "name": "stdout",
          "text": [
            "+------------+--------------+\n",
            "|product_name|total_quantity|\n",
            "+------------+--------------+\n",
            "|      Banana|            12|\n",
            "+------------+--------------+\n",
            "\n"
          ]
        }
      ]
    },
    {
      "cell_type": "code",
      "source": [
        "# 4. Calculate the Average Price per Product Category\n",
        "avg_price_per_category = retail_df.groupBy(\"category\").agg(avg(\"price\").alias(\"avg_price\"))\n",
        "avg_price_per_category.show()"
      ],
      "metadata": {
        "colab": {
          "base_uri": "https://localhost:8080/"
        },
        "id": "3_m0ys1ZULQL",
        "outputId": "738092ea-f9b4-4494-ab71-e9510f119fb6"
      },
      "execution_count": 58,
      "outputs": [
        {
          "output_type": "stream",
          "name": "stdout",
          "text": [
            "+-----------+------------------+\n",
            "|   category|         avg_price|\n",
            "+-----------+------------------+\n",
            "| Stationery|               1.5|\n",
            "|  Groceries|0.4666666666666666|\n",
            "|Electronics|             450.0|\n",
            "|   Clothing|              30.0|\n",
            "+-----------+------------------+\n",
            "\n"
          ]
        }
      ]
    },
    {
      "cell_type": "code",
      "source": [
        "# 5. Find the Top 3 Highest Grossing Products\n",
        "top_3_grossing_products = retail_df.groupBy(\"product_name\").agg(sum(\"total_revenue\").alias(\"total_revenue\")).orderBy(col(\"total_revenue\").desc()).limit(3)\n",
        "top_3_grossing_products.show()"
      ],
      "metadata": {
        "colab": {
          "base_uri": "https://localhost:8080/"
        },
        "id": "t0ziTzZaUWcV",
        "outputId": "762509fd-4126-477e-a583-e9fb92f78ca5"
      },
      "execution_count": 59,
      "outputs": [
        {
          "output_type": "stream",
          "name": "stdout",
          "text": [
            "+------------+-------------+\n",
            "|product_name|total_revenue|\n",
            "+------------+-------------+\n",
            "|      Laptop|        800.0|\n",
            "|  Headphones|        200.0|\n",
            "|       Pants|         75.0|\n",
            "+------------+-------------+\n",
            "\n"
          ]
        }
      ]
    },
    {
      "cell_type": "code",
      "source": [
        "# 6. Calculate the Total Number of Items Sold per Day\n",
        "total_items_sold_per_day = retail_df.groupBy(\"sales_date\").agg(sum(\"quantity\").alias(\"total_items_sold\"))\n",
        "total_items_sold_per_day.show()"
      ],
      "metadata": {
        "colab": {
          "base_uri": "https://localhost:8080/"
        },
        "id": "U2CsSqA7UZ--",
        "outputId": "ce4968d6-d8cb-4bab-cc47-c0d897e173f3"
      },
      "execution_count": 60,
      "outputs": [
        {
          "output_type": "stream",
          "name": "stdout",
          "text": [
            "+----------+----------------+\n",
            "|sales_date|total_items_sold|\n",
            "+----------+----------------+\n",
            "|2023-09-01|              12|\n",
            "|2023-09-02|              17|\n",
            "|2023-09-03|               4|\n",
            "|2023-09-05|               9|\n",
            "|2023-09-04|              12|\n",
            "+----------+----------------+\n",
            "\n"
          ]
        }
      ]
    },
    {
      "cell_type": "code",
      "source": [
        "# 7. Identify the Product with the Lowest Price in Each Category\n",
        "lowest_price_per_category = retail_df.groupBy(\"category\").agg(min(\"price\").alias(\"price\"))\n",
        "product_lowest_price_per_category = retail_df.join(lowest_price_per_category, [\"category\", \"price\"])\n",
        "product_lowest_price_per_category.show()"
      ],
      "metadata": {
        "colab": {
          "base_uri": "https://localhost:8080/"
        },
        "id": "2OYemYwuUdgv",
        "outputId": "edc61ef5-b573-429c-db1b-69593fc9bb17"
      },
      "execution_count": 64,
      "outputs": [
        {
          "output_type": "stream",
          "name": "stdout",
          "text": [
            "+-----------+-----+--------------+------------+--------+----------+------------------+------------------+\n",
            "|   category|price|transaction_id|product_name|quantity|sales_date|     total_revenue|total_sales_amount|\n",
            "+-----------+-----+--------------+------------+--------+----------+------------------+------------------+\n",
            "|   Clothing| 15.0|             2|     T-shirt|       2|2023-09-01|              30.0|              30.0|\n",
            "|  Groceries|  0.3|             4|      Banana|      12|2023-09-02|3.5999999999999996|3.5999999999999996|\n",
            "|Electronics|100.0|             7|  Headphones|       2|2023-09-04|             200.0|             200.0|\n",
            "| Stationery|  1.0|             8|         Pen|      10|2023-09-04|              10.0|              10.0|\n",
            "+-----------+-----+--------------+------------+--------+----------+------------------+------------------+\n",
            "\n"
          ]
        }
      ]
    },
    {
      "cell_type": "code",
      "source": [
        "# 8. Calculate the Total Revenue for Each Product\n",
        "total_revenue_per_product = retail_df.groupBy(\"product_name\").agg(sum(\"total_revenue\").alias(\"total_revenue\"))\n",
        "total_revenue_per_product.show()"
      ],
      "metadata": {
        "colab": {
          "base_uri": "https://localhost:8080/"
        },
        "id": "9oXZ5tLwU-TW",
        "outputId": "a1a23490-22e5-464b-825a-e4e129b10f30"
      },
      "execution_count": 65,
      "outputs": [
        {
          "output_type": "stream",
          "name": "stdout",
          "text": [
            "+------------+------------------+\n",
            "|product_name|     total_revenue|\n",
            "+------------+------------------+\n",
            "|     T-shirt|              30.0|\n",
            "|      Banana|3.5999999999999996|\n",
            "|      Laptop|             800.0|\n",
            "|    Notebook|              10.0|\n",
            "|       Apple|               5.0|\n",
            "|    Sneakers|              50.0|\n",
            "|      Orange|               4.8|\n",
            "|         Pen|              10.0|\n",
            "|       Pants|              75.0|\n",
            "|  Headphones|             200.0|\n",
            "+------------+------------------+\n",
            "\n"
          ]
        }
      ]
    },
    {
      "cell_type": "code",
      "source": [
        "# 9. Find the Total Sales per Day for Each Category\n",
        "total_sales_per_day_per_category = retail_df.groupBy(\"sales_date\", \"category\").agg(sum(\"total_sales_amount\").alias(\"total_sales\"))\n",
        "total_sales_per_day_per_category.show()"
      ],
      "metadata": {
        "colab": {
          "base_uri": "https://localhost:8080/"
        },
        "id": "EKx3Rs2nVB2I",
        "outputId": "e885a2b1-6d57-441c-abcb-9e570de7f347"
      },
      "execution_count": 66,
      "outputs": [
        {
          "output_type": "stream",
          "name": "stdout",
          "text": [
            "+----------+-----------+------------------+\n",
            "|sales_date|   category|       total_sales|\n",
            "+----------+-----------+------------------+\n",
            "|2023-09-01|  Groceries|               5.0|\n",
            "|2023-09-02|  Groceries|3.5999999999999996|\n",
            "|2023-09-01|   Clothing|              30.0|\n",
            "|2023-09-02| Stationery|              10.0|\n",
            "|2023-09-03|Electronics|             800.0|\n",
            "|2023-09-05|  Groceries|               4.8|\n",
            "|2023-09-04| Stationery|              10.0|\n",
            "|2023-09-04|Electronics|             200.0|\n",
            "|2023-09-03|   Clothing|              75.0|\n",
            "|2023-09-05|   Clothing|              50.0|\n",
            "+----------+-----------+------------------+\n",
            "\n"
          ]
        }
      ]
    },
    {
      "cell_type": "code",
      "source": [
        "# 10. Create a New Column for Discounted Price\n",
        "retail_df = retail_df.withColumn(\"discounted_price\", col(\"price\") * 0.9)\n",
        "retail_df.show()\n"
      ],
      "metadata": {
        "colab": {
          "base_uri": "https://localhost:8080/"
        },
        "id": "K7Yljcc1VE8h",
        "outputId": "b4676199-ba6f-4f39-a5b3-054299160ebb"
      },
      "execution_count": 67,
      "outputs": [
        {
          "output_type": "stream",
          "name": "stdout",
          "text": [
            "+--------------+------------+-----------+-----+--------+----------+------------------+------------------+----------------+\n",
            "|transaction_id|product_name|   category|price|quantity|sales_date|     total_revenue|total_sales_amount|discounted_price|\n",
            "+--------------+------------+-----------+-----+--------+----------+------------------+------------------+----------------+\n",
            "|             1|       Apple|  Groceries|  0.5|      10|2023-09-01|               5.0|               5.0|            0.45|\n",
            "|             2|     T-shirt|   Clothing| 15.0|       2|2023-09-01|              30.0|              30.0|            13.5|\n",
            "|             3|    Notebook| Stationery|  2.0|       5|2023-09-02|              10.0|              10.0|             1.8|\n",
            "|             4|      Banana|  Groceries|  0.3|      12|2023-09-02|3.5999999999999996|3.5999999999999996|            0.27|\n",
            "|             5|      Laptop|Electronics|800.0|       1|2023-09-03|             800.0|             800.0|           720.0|\n",
            "|             6|       Pants|   Clothing| 25.0|       3|2023-09-03|              75.0|              75.0|            22.5|\n",
            "|             7|  Headphones|Electronics|100.0|       2|2023-09-04|             200.0|             200.0|            90.0|\n",
            "|             8|         Pen| Stationery|  1.0|      10|2023-09-04|              10.0|              10.0|             0.9|\n",
            "|             9|      Orange|  Groceries|  0.6|       8|2023-09-05|               4.8|               4.8|            0.54|\n",
            "|            10|    Sneakers|   Clothing| 50.0|       1|2023-09-05|              50.0|              50.0|            45.0|\n",
            "+--------------+------------+-----------+-----+--------+----------+------------------+------------------+----------------+\n",
            "\n"
          ]
        }
      ]
    }
  ]
}