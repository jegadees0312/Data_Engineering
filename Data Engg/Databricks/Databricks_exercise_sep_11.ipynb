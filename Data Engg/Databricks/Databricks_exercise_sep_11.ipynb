{
 "cells": [
  {
   "cell_type": "code",
   "execution_count": 0,
   "metadata": {
    "application/vnd.databricks.v1+cell": {
     "cellMetadata": {
      "byteLimit": 2048000,
      "rowLimit": 10000
     },
     "inputWidgets": {},
     "nuid": "c13e11f0-4730-4d2c-875c-c952f092dd2a",
     "showTitle": false,
     "title": ""
    }
   },
   "outputs": [
    {
     "output_type": "display_data",
     "data": {
      "text/html": [
       "<style scoped>\n",
       "  .table-result-container {\n",
       "    max-height: 300px;\n",
       "    overflow: auto;\n",
       "  }\n",
       "  table, th, td {\n",
       "    border: 1px solid black;\n",
       "    border-collapse: collapse;\n",
       "  }\n",
       "  th, td {\n",
       "    padding: 5px;\n",
       "  }\n",
       "  th {\n",
       "    text-align: left;\n",
       "  }\n",
       "</style><div class='table-result-container'><table class='table-result'><thead style='background-color: white'><tr><th>name</th><th>age</th></tr></thead><tbody><tr><td>raj</td><td>23</td></tr><tr><td>raju</td><td>25</td></tr><tr><td>ravi</td><td>30</td></tr></tbody></table></div>"
      ]
     },
     "metadata": {
      "application/vnd.databricks.v1+output": {
       "addedWidgets": {},
       "aggData": [],
       "aggError": "",
       "aggOverflow": false,
       "aggSchema": [],
       "aggSeriesLimitReached": false,
       "aggType": "",
       "arguments": {},
       "columnCustomDisplayInfos": {},
       "data": [
        [
         "raj",
         23
        ],
        [
         "raju",
         25
        ],
        [
         "ravi",
         30
        ]
       ],
       "datasetInfos": [],
       "dbfsResultPath": null,
       "isJsonSchema": true,
       "metadata": {},
       "overflow": false,
       "plotOptions": {
        "customPlotOptions": {},
        "displayType": "table",
        "pivotAggregation": null,
        "pivotColumns": null,
        "xColumns": null,
        "yColumns": null
       },
       "removedWidgets": [],
       "schema": [
        {
         "metadata": "{}",
         "name": "name",
         "type": "\"string\""
        },
        {
         "metadata": "{}",
         "name": "age",
         "type": "\"long\""
        }
       ],
       "type": "table"
      }
     },
     "output_type": "display_data"
    },
    {
     "output_type": "stream",
     "name": "stdout",
     "output_type": "stream",
     "text": [
      "+----+---+\n|name|age|\n+----+---+\n| raj| 23|\n|raju| 25|\n|ravi| 30|\n+----+---+\n\n"
     ]
    }
   ],
   "source": [
    "data = [(\"raj\",23),(\"raju\",25),(\"ravi\",30)]\n",
    "column = [\"name\",\"age\"]\n",
    "df = spark.createDataFrame(data,column)\n",
    "df.display()\n",
    "df.show()"
   ]
  },
  {
   "cell_type": "markdown",
   "metadata": {
    "application/vnd.databricks.v1+cell": {
     "cellMetadata": {
      "byteLimit": 2048000,
      "rowLimit": 10000
     },
     "inputWidgets": {},
     "nuid": "d662b4e1-731d-422d-b71e-c972b11a02f3",
     "showTitle": false,
     "title": ""
    }
   },
   "source": [
    "**LOADING DATA FROM CSV**"
   ]
  },
  {
   "cell_type": "code",
   "execution_count": 0,
   "metadata": {
    "application/vnd.databricks.v1+cell": {
     "cellMetadata": {
      "byteLimit": 2048000,
      "rowLimit": 10000
     },
     "inputWidgets": {},
     "nuid": "5f05788d-478c-4e12-862d-26dfdf6d4b78",
     "showTitle": false,
     "title": ""
    }
   },
   "outputs": [
    {
     "output_type": "display_data",
     "data": {
      "text/html": [
       "<style scoped>\n",
       "  .table-result-container {\n",
       "    max-height: 300px;\n",
       "    overflow: auto;\n",
       "  }\n",
       "  table, th, td {\n",
       "    border: 1px solid black;\n",
       "    border-collapse: collapse;\n",
       "  }\n",
       "  th, td {\n",
       "    padding: 5px;\n",
       "  }\n",
       "  th {\n",
       "    text-align: left;\n",
       "  }\n",
       "</style><div class='table-result-container'><table class='table-result'><thead style='background-color: white'><tr><th>FL_DATE</th><th>CARRIER</th><th>ORIGIN</th><th>DEST</th><th>DEP_DELAY</th><th>ARR_DELAY</th></tr></thead><tbody><tr><td>2023-09-01</td><td>AA</td><td>ATL</td><td>DFW</td><td>5</td><td>10</td></tr><tr><td>2023-09-01</td><td>UA</td><td>LAX</td><td>JFK</td><td>-3</td><td>0</td></tr><tr><td>2023-09-01</td><td>DL</td><td>SFO</td><td>ORD</td><td>7</td><td>15</td></tr><tr><td>2023-09-02</td><td>AA</td><td>DFW</td><td>LAX</td><td>0</td><td>-5</td></tr><tr><td>2023-09-02</td><td>UA</td><td>JFK</td><td>ATL</td><td>-2</td><td>0</td></tr><tr><td>2023-09-02</td><td>DL</td><td>ORD</td><td>LAX</td><td>20</td><td>30</td></tr><tr><td>2023-09-03</td><td>AA</td><td>LAX</td><td>SFO</td><td>10</td><td>12</td></tr><tr><td>2023-09-03</td><td>UA</td><td>ATL</td><td>ORD</td><td>0</td><td>-10</td></tr><tr><td>2023-09-03</td><td>DL</td><td>SFO</td><td>JFK</td><td>5</td><td>25</td></tr><tr><td>2023-09-04</td><td>AA</td><td>JFK</td><td>LAX</td><td>0</td><td>0</td></tr><tr><td>2023-09-04</td><td>UA</td><td>ORD</td><td>ATL</td><td>15</td><td>20</td></tr><tr><td>2023-09-04</td><td>DL</td><td>LAX</td><td>SFO</td><td>-5</td><td>-10</td></tr><tr><td>2023-09-05</td><td>AA</td><td>LAX</td><td>JFK</td><td>20</td><td>25</td></tr><tr><td>2023-09-05</td><td>UA</td><td>DFW</td><td>ATL</td><td>0</td><td>0</td></tr><tr><td>2023-09-05</td><td>DL</td><td>JFK</td><td>LAX</td><td>10</td><td>15</td></tr></tbody></table></div>"
      ]
     },
     "metadata": {
      "application/vnd.databricks.v1+output": {
       "addedWidgets": {},
       "aggData": [],
       "aggError": "",
       "aggOverflow": false,
       "aggSchema": [],
       "aggSeriesLimitReached": false,
       "aggType": "",
       "arguments": {},
       "columnCustomDisplayInfos": {},
       "data": [
        [
         "2023-09-01",
         "AA",
         "ATL",
         "DFW",
         "5",
         "10"
        ],
        [
         "2023-09-01",
         "UA",
         "LAX",
         "JFK",
         "-3",
         "0"
        ],
        [
         "2023-09-01",
         "DL",
         "SFO",
         "ORD",
         "7",
         "15"
        ],
        [
         "2023-09-02",
         "AA",
         "DFW",
         "LAX",
         "0",
         "-5"
        ],
        [
         "2023-09-02",
         "UA",
         "JFK",
         "ATL",
         "-2",
         "0"
        ],
        [
         "2023-09-02",
         "DL",
         "ORD",
         "LAX",
         "20",
         "30"
        ],
        [
         "2023-09-03",
         "AA",
         "LAX",
         "SFO",
         "10",
         "12"
        ],
        [
         "2023-09-03",
         "UA",
         "ATL",
         "ORD",
         "0",
         "-10"
        ],
        [
         "2023-09-03",
         "DL",
         "SFO",
         "JFK",
         "5",
         "25"
        ],
        [
         "2023-09-04",
         "AA",
         "JFK",
         "LAX",
         "0",
         "0"
        ],
        [
         "2023-09-04",
         "UA",
         "ORD",
         "ATL",
         "15",
         "20"
        ],
        [
         "2023-09-04",
         "DL",
         "LAX",
         "SFO",
         "-5",
         "-10"
        ],
        [
         "2023-09-05",
         "AA",
         "LAX",
         "JFK",
         "20",
         "25"
        ],
        [
         "2023-09-05",
         "UA",
         "DFW",
         "ATL",
         "0",
         "0"
        ],
        [
         "2023-09-05",
         "DL",
         "JFK",
         "LAX",
         "10",
         "15"
        ]
       ],
       "datasetInfos": [],
       "dbfsResultPath": null,
       "isJsonSchema": true,
       "metadata": {},
       "overflow": false,
       "plotOptions": {
        "customPlotOptions": {},
        "displayType": "table",
        "pivotAggregation": null,
        "pivotColumns": null,
        "xColumns": null,
        "yColumns": null
       },
       "removedWidgets": [],
       "schema": [
        {
         "metadata": "{}",
         "name": "FL_DATE",
         "type": "\"string\""
        },
        {
         "metadata": "{}",
         "name": "CARRIER",
         "type": "\"string\""
        },
        {
         "metadata": "{}",
         "name": "ORIGIN",
         "type": "\"string\""
        },
        {
         "metadata": "{}",
         "name": "DEST",
         "type": "\"string\""
        },
        {
         "metadata": "{}",
         "name": "DEP_DELAY",
         "type": "\"string\""
        },
        {
         "metadata": "{}",
         "name": "ARR_DELAY",
         "type": "\"string\""
        }
       ],
       "type": "table"
      }
     },
     "output_type": "display_data"
    },
    {
     "output_type": "stream",
     "name": "stdout",
     "output_type": "stream",
     "text": [
      "+----------+-------+------+----+---------+---------+\n|   FL_DATE|CARRIER|ORIGIN|DEST|DEP_DELAY|ARR_DELAY|\n+----------+-------+------+----+---------+---------+\n|2023-09-01|     AA|   ATL| DFW|        5|       10|\n|2023-09-01|     UA|   LAX| JFK|       -3|        0|\n|2023-09-01|     DL|   SFO| ORD|        7|       15|\n|2023-09-02|     AA|   DFW| LAX|        0|       -5|\n|2023-09-02|     UA|   JFK| ATL|       -2|        0|\n|2023-09-02|     DL|   ORD| LAX|       20|       30|\n|2023-09-03|     AA|   LAX| SFO|       10|       12|\n|2023-09-03|     UA|   ATL| ORD|        0|      -10|\n|2023-09-03|     DL|   SFO| JFK|        5|       25|\n|2023-09-04|     AA|   JFK| LAX|        0|        0|\n|2023-09-04|     UA|   ORD| ATL|       15|       20|\n|2023-09-04|     DL|   LAX| SFO|       -5|      -10|\n|2023-09-05|     AA|   LAX| JFK|       20|       25|\n|2023-09-05|     UA|   DFW| ATL|        0|        0|\n|2023-09-05|     DL|   JFK| LAX|       10|       15|\n+----------+-------+------+----+---------+---------+\n\n"
     ]
    }
   ],
   "source": [
    "#Loading csv file\n",
    "df = spark.read.csv(\"file:/Workspace/Users/azuser2115_mml.local@techademy.com/data.txt\",header=True)\n",
    "df.display()\n",
    "df.show()"
   ]
  },
  {
   "cell_type": "markdown",
   "metadata": {
    "application/vnd.databricks.v1+cell": {
     "cellMetadata": {
      "byteLimit": 2048000,
      "rowLimit": 10000
     },
     "inputWidgets": {},
     "nuid": "416ffe64-45d6-4ee5-9c9c-dfe13241337f",
     "showTitle": false,
     "title": ""
    }
   },
   "source": [
    "**DATA CLEANING**"
   ]
  },
  {
   "cell_type": "code",
   "execution_count": 0,
   "metadata": {
    "application/vnd.databricks.v1+cell": {
     "cellMetadata": {
      "byteLimit": 2048000,
      "rowLimit": 10000
     },
     "inputWidgets": {},
     "nuid": "c33470f6-b17e-4322-9725-5a202fd69977",
     "showTitle": false,
     "title": ""
    }
   },
   "outputs": [
    {
     "output_type": "display_data",
     "data": {
      "text/html": [
       "<style scoped>\n",
       "  .table-result-container {\n",
       "    max-height: 300px;\n",
       "    overflow: auto;\n",
       "  }\n",
       "  table, th, td {\n",
       "    border: 1px solid black;\n",
       "    border-collapse: collapse;\n",
       "  }\n",
       "  th, td {\n",
       "    padding: 5px;\n",
       "  }\n",
       "  th {\n",
       "    text-align: left;\n",
       "  }\n",
       "</style><div class='table-result-container'><table class='table-result'><thead style='background-color: white'><tr><th>FL_DATE</th><th>CARRIER</th><th>ORIGIN</th><th>DEST</th><th>DEP_DELAY</th><th>ARR_DELAY</th></tr></thead><tbody><tr><td>2023-09-01</td><td>AA</td><td>ATL</td><td>DFW</td><td>5</td><td>10</td></tr><tr><td>2023-09-01</td><td>UA</td><td>LAX</td><td>JFK</td><td>-3</td><td>0</td></tr><tr><td>2023-09-01</td><td>DL</td><td>SFO</td><td>ORD</td><td>7</td><td>15</td></tr><tr><td>2023-09-02</td><td>AA</td><td>DFW</td><td>LAX</td><td>0</td><td>-5</td></tr><tr><td>2023-09-02</td><td>UA</td><td>JFK</td><td>ATL</td><td>-2</td><td>0</td></tr><tr><td>2023-09-02</td><td>DL</td><td>ORD</td><td>LAX</td><td>20</td><td>30</td></tr><tr><td>2023-09-03</td><td>AA</td><td>LAX</td><td>SFO</td><td>10</td><td>12</td></tr><tr><td>2023-09-03</td><td>UA</td><td>ATL</td><td>ORD</td><td>0</td><td>-10</td></tr><tr><td>2023-09-03</td><td>DL</td><td>SFO</td><td>JFK</td><td>5</td><td>25</td></tr><tr><td>2023-09-04</td><td>AA</td><td>JFK</td><td>LAX</td><td>0</td><td>0</td></tr><tr><td>2023-09-04</td><td>UA</td><td>ORD</td><td>ATL</td><td>15</td><td>20</td></tr><tr><td>2023-09-04</td><td>DL</td><td>LAX</td><td>SFO</td><td>-5</td><td>-10</td></tr><tr><td>2023-09-05</td><td>AA</td><td>LAX</td><td>JFK</td><td>20</td><td>25</td></tr><tr><td>2023-09-05</td><td>UA</td><td>DFW</td><td>ATL</td><td>0</td><td>0</td></tr><tr><td>2023-09-05</td><td>DL</td><td>JFK</td><td>LAX</td><td>10</td><td>15</td></tr></tbody></table></div>"
      ]
     },
     "metadata": {
      "application/vnd.databricks.v1+output": {
       "addedWidgets": {},
       "aggData": [],
       "aggError": "",
       "aggOverflow": false,
       "aggSchema": [],
       "aggSeriesLimitReached": false,
       "aggType": "",
       "arguments": {},
       "columnCustomDisplayInfos": {},
       "data": [
        [
         "2023-09-01",
         "AA",
         "ATL",
         "DFW",
         "5",
         "10"
        ],
        [
         "2023-09-01",
         "UA",
         "LAX",
         "JFK",
         "-3",
         "0"
        ],
        [
         "2023-09-01",
         "DL",
         "SFO",
         "ORD",
         "7",
         "15"
        ],
        [
         "2023-09-02",
         "AA",
         "DFW",
         "LAX",
         "0",
         "-5"
        ],
        [
         "2023-09-02",
         "UA",
         "JFK",
         "ATL",
         "-2",
         "0"
        ],
        [
         "2023-09-02",
         "DL",
         "ORD",
         "LAX",
         "20",
         "30"
        ],
        [
         "2023-09-03",
         "AA",
         "LAX",
         "SFO",
         "10",
         "12"
        ],
        [
         "2023-09-03",
         "UA",
         "ATL",
         "ORD",
         "0",
         "-10"
        ],
        [
         "2023-09-03",
         "DL",
         "SFO",
         "JFK",
         "5",
         "25"
        ],
        [
         "2023-09-04",
         "AA",
         "JFK",
         "LAX",
         "0",
         "0"
        ],
        [
         "2023-09-04",
         "UA",
         "ORD",
         "ATL",
         "15",
         "20"
        ],
        [
         "2023-09-04",
         "DL",
         "LAX",
         "SFO",
         "-5",
         "-10"
        ],
        [
         "2023-09-05",
         "AA",
         "LAX",
         "JFK",
         "20",
         "25"
        ],
        [
         "2023-09-05",
         "UA",
         "DFW",
         "ATL",
         "0",
         "0"
        ],
        [
         "2023-09-05",
         "DL",
         "JFK",
         "LAX",
         "10",
         "15"
        ]
       ],
       "datasetInfos": [],
       "dbfsResultPath": null,
       "isJsonSchema": true,
       "metadata": {},
       "overflow": false,
       "plotOptions": {
        "customPlotOptions": {},
        "displayType": "table",
        "pivotAggregation": null,
        "pivotColumns": null,
        "xColumns": null,
        "yColumns": null
       },
       "removedWidgets": [],
       "schema": [
        {
         "metadata": "{}",
         "name": "FL_DATE",
         "type": "\"string\""
        },
        {
         "metadata": "{}",
         "name": "CARRIER",
         "type": "\"string\""
        },
        {
         "metadata": "{}",
         "name": "ORIGIN",
         "type": "\"string\""
        },
        {
         "metadata": "{}",
         "name": "DEST",
         "type": "\"string\""
        },
        {
         "metadata": "{}",
         "name": "DEP_DELAY",
         "type": "\"string\""
        },
        {
         "metadata": "{}",
         "name": "ARR_DELAY",
         "type": "\"string\""
        }
       ],
       "type": "table"
      }
     },
     "output_type": "display_data"
    },
    {
     "output_type": "stream",
     "name": "stdout",
     "output_type": "stream",
     "text": [
      "+----------+-------+------+----+---------+---------+\n|   FL_DATE|CARRIER|ORIGIN|DEST|DEP_DELAY|ARR_DELAY|\n+----------+-------+------+----+---------+---------+\n|2023-09-01|     AA|   ATL| DFW|        5|       10|\n|2023-09-01|     UA|   LAX| JFK|       -3|        0|\n|2023-09-01|     DL|   SFO| ORD|        7|       15|\n|2023-09-02|     AA|   DFW| LAX|        0|       -5|\n|2023-09-02|     UA|   JFK| ATL|       -2|        0|\n|2023-09-02|     DL|   ORD| LAX|       20|       30|\n|2023-09-03|     AA|   LAX| SFO|       10|       12|\n|2023-09-03|     UA|   ATL| ORD|        0|      -10|\n|2023-09-03|     DL|   SFO| JFK|        5|       25|\n|2023-09-04|     AA|   JFK| LAX|        0|        0|\n|2023-09-04|     UA|   ORD| ATL|       15|       20|\n|2023-09-04|     DL|   LAX| SFO|       -5|      -10|\n|2023-09-05|     AA|   LAX| JFK|       20|       25|\n|2023-09-05|     UA|   DFW| ATL|        0|        0|\n|2023-09-05|     DL|   JFK| LAX|       10|       15|\n+----------+-------+------+----+---------+---------+\n\n"
     ]
    },
    {
     "output_type": "display_data",
     "data": {
      "text/html": [
       "<style scoped>\n",
       "  .table-result-container {\n",
       "    max-height: 300px;\n",
       "    overflow: auto;\n",
       "  }\n",
       "  table, th, td {\n",
       "    border: 1px solid black;\n",
       "    border-collapse: collapse;\n",
       "  }\n",
       "  th, td {\n",
       "    padding: 5px;\n",
       "  }\n",
       "  th {\n",
       "    text-align: left;\n",
       "  }\n",
       "</style><div class='table-result-container'><table class='table-result'><thead style='background-color: white'><tr><th>FL_DATE</th><th>CARRIER</th><th>ORIGIN</th><th>DEST</th><th>DEP_DELAY</th><th>ARR_DELAY</th></tr></thead><tbody><tr><td>2023-09-01</td><td>AA</td><td>ATL</td><td>DFW</td><td>5</td><td>10</td></tr><tr><td>2023-09-01</td><td>UA</td><td>LAX</td><td>JFK</td><td>-3</td><td>0</td></tr><tr><td>2023-09-01</td><td>DL</td><td>SFO</td><td>ORD</td><td>7</td><td>15</td></tr><tr><td>2023-09-02</td><td>AA</td><td>DFW</td><td>LAX</td><td>0</td><td>-5</td></tr><tr><td>2023-09-02</td><td>UA</td><td>JFK</td><td>ATL</td><td>-2</td><td>0</td></tr><tr><td>2023-09-02</td><td>DL</td><td>ORD</td><td>LAX</td><td>20</td><td>30</td></tr><tr><td>2023-09-03</td><td>AA</td><td>LAX</td><td>SFO</td><td>10</td><td>12</td></tr><tr><td>2023-09-03</td><td>UA</td><td>ATL</td><td>ORD</td><td>0</td><td>-10</td></tr><tr><td>2023-09-03</td><td>DL</td><td>SFO</td><td>JFK</td><td>5</td><td>25</td></tr><tr><td>2023-09-04</td><td>AA</td><td>JFK</td><td>LAX</td><td>0</td><td>0</td></tr><tr><td>2023-09-04</td><td>UA</td><td>ORD</td><td>ATL</td><td>15</td><td>20</td></tr><tr><td>2023-09-04</td><td>DL</td><td>LAX</td><td>SFO</td><td>-5</td><td>-10</td></tr><tr><td>2023-09-05</td><td>AA</td><td>LAX</td><td>JFK</td><td>20</td><td>25</td></tr><tr><td>2023-09-05</td><td>UA</td><td>DFW</td><td>ATL</td><td>0</td><td>0</td></tr><tr><td>2023-09-05</td><td>DL</td><td>JFK</td><td>LAX</td><td>10</td><td>15</td></tr></tbody></table></div>"
      ]
     },
     "metadata": {
      "application/vnd.databricks.v1+output": {
       "addedWidgets": {},
       "aggData": [],
       "aggError": "",
       "aggOverflow": false,
       "aggSchema": [],
       "aggSeriesLimitReached": false,
       "aggType": "",
       "arguments": {},
       "columnCustomDisplayInfos": {},
       "data": [
        [
         "2023-09-01",
         "AA",
         "ATL",
         "DFW",
         "5",
         "10"
        ],
        [
         "2023-09-01",
         "UA",
         "LAX",
         "JFK",
         "-3",
         "0"
        ],
        [
         "2023-09-01",
         "DL",
         "SFO",
         "ORD",
         "7",
         "15"
        ],
        [
         "2023-09-02",
         "AA",
         "DFW",
         "LAX",
         "0",
         "-5"
        ],
        [
         "2023-09-02",
         "UA",
         "JFK",
         "ATL",
         "-2",
         "0"
        ],
        [
         "2023-09-02",
         "DL",
         "ORD",
         "LAX",
         "20",
         "30"
        ],
        [
         "2023-09-03",
         "AA",
         "LAX",
         "SFO",
         "10",
         "12"
        ],
        [
         "2023-09-03",
         "UA",
         "ATL",
         "ORD",
         "0",
         "-10"
        ],
        [
         "2023-09-03",
         "DL",
         "SFO",
         "JFK",
         "5",
         "25"
        ],
        [
         "2023-09-04",
         "AA",
         "JFK",
         "LAX",
         "0",
         "0"
        ],
        [
         "2023-09-04",
         "UA",
         "ORD",
         "ATL",
         "15",
         "20"
        ],
        [
         "2023-09-04",
         "DL",
         "LAX",
         "SFO",
         "-5",
         "-10"
        ],
        [
         "2023-09-05",
         "AA",
         "LAX",
         "JFK",
         "20",
         "25"
        ],
        [
         "2023-09-05",
         "UA",
         "DFW",
         "ATL",
         "0",
         "0"
        ],
        [
         "2023-09-05",
         "DL",
         "JFK",
         "LAX",
         "10",
         "15"
        ]
       ],
       "datasetInfos": [],
       "dbfsResultPath": null,
       "isJsonSchema": true,
       "metadata": {},
       "overflow": false,
       "plotOptions": {
        "customPlotOptions": {},
        "displayType": "table",
        "pivotAggregation": null,
        "pivotColumns": null,
        "xColumns": null,
        "yColumns": null
       },
       "removedWidgets": [],
       "schema": [
        {
         "metadata": "{}",
         "name": "FL_DATE",
         "type": "\"string\""
        },
        {
         "metadata": "{}",
         "name": "CARRIER",
         "type": "\"string\""
        },
        {
         "metadata": "{}",
         "name": "ORIGIN",
         "type": "\"string\""
        },
        {
         "metadata": "{}",
         "name": "DEST",
         "type": "\"string\""
        },
        {
         "metadata": "{}",
         "name": "DEP_DELAY",
         "type": "\"string\""
        },
        {
         "metadata": "{}",
         "name": "ARR_DELAY",
         "type": "\"string\""
        }
       ],
       "type": "table"
      }
     },
     "output_type": "display_data"
    }
   ],
   "source": [
    "from pyspark.sql.functions import col\n",
    "\n",
    "df_dropped = df.dropna()\n",
    "df_dropped.display()\n",
    "df_dropped.show()\n",
    "\n",
    "df_dropped_delay = df.drop(col(\"DROP_DELAY\")<=0)\n",
    "df_dropped_delay.display()"
   ]
  },
  {
   "cell_type": "markdown",
   "metadata": {
    "application/vnd.databricks.v1+cell": {
     "cellMetadata": {},
     "inputWidgets": {},
     "nuid": "a48dc139-e41e-430e-8c56-b1d0de4ccf1b",
     "showTitle": false,
     "title": ""
    }
   },
   "source": [
    "FILTER ROWS"
   ]
  },
  {
   "cell_type": "code",
   "execution_count": 0,
   "metadata": {
    "application/vnd.databricks.v1+cell": {
     "cellMetadata": {
      "byteLimit": 2048000,
      "rowLimit": 10000
     },
     "inputWidgets": {},
     "nuid": "259d0ffa-245d-4b98-b5e5-9b8e3b128902",
     "showTitle": false,
     "title": ""
    }
   },
   "outputs": [
    {
     "output_type": "stream",
     "name": "stdout",
     "output_type": "stream",
     "text": [
      "+----------+-------+------+----+---------+---------+\n|   FL_DATE|CARRIER|ORIGIN|DEST|DEP_DELAY|ARR_DELAY|\n+----------+-------+------+----+---------+---------+\n|2023-09-01|     AA|   ATL| DFW|        5|       10|\n|2023-09-01|     DL|   SFO| ORD|        7|       15|\n|2023-09-02|     DL|   ORD| LAX|       20|       30|\n|2023-09-03|     AA|   LAX| SFO|       10|       12|\n|2023-09-03|     DL|   SFO| JFK|        5|       25|\n|2023-09-04|     UA|   ORD| ATL|       15|       20|\n|2023-09-05|     AA|   LAX| JFK|       20|       25|\n|2023-09-05|     DL|   JFK| LAX|       10|       15|\n+----------+-------+------+----+---------+---------+\n\n"
     ]
    }
   ],
   "source": [
    "df_filtered = df.filter(df['ARR_DELAY'] > 0)\n",
    "df_filtered.show()"
   ]
  },
  {
   "cell_type": "markdown",
   "metadata": {
    "application/vnd.databricks.v1+cell": {
     "cellMetadata": {},
     "inputWidgets": {},
     "nuid": "28d9e67d-2f76-405f-8fb6-7def21f8e286",
     "showTitle": false,
     "title": ""
    }
   },
   "source": [
    "** Aggregating and Summarizing the Data**"
   ]
  },
  {
   "cell_type": "code",
   "execution_count": 0,
   "metadata": {
    "application/vnd.databricks.v1+cell": {
     "cellMetadata": {
      "byteLimit": 2048000,
      "rowLimit": 10000
     },
     "inputWidgets": {},
     "nuid": "bf8fb251-426f-4447-82b2-baa340d7a818",
     "showTitle": false,
     "title": ""
    }
   },
   "outputs": [
    {
     "output_type": "stream",
     "name": "stdout",
     "output_type": "stream",
     "text": [
      "+-------+--------------+\n|CARRIER|avg(ARR_DELAY)|\n+-------+--------------+\n|     UA|           2.0|\n|     AA|           8.4|\n|     DL|          15.0|\n+-------+--------------+\n\n"
     ]
    }
   ],
   "source": [
    "#Find the average arrival delay by airline:\n",
    "df.groupBy(\"CARRIER\").agg({\"ARR_DELAY\": \"avg\"}).show()"
   ]
  },
  {
   "cell_type": "code",
   "execution_count": 0,
   "metadata": {
    "application/vnd.databricks.v1+cell": {
     "cellMetadata": {
      "byteLimit": 2048000,
      "rowLimit": 10000
     },
     "inputWidgets": {},
     "nuid": "c4a499ea-76a5-4e62-b599-a43c0e383c53",
     "showTitle": false,
     "title": ""
    }
   },
   "outputs": [
    {
     "output_type": "stream",
     "name": "stdout",
     "output_type": "stream",
     "text": [
      "+-------+-----+\n|CARRIER|count|\n+-------+-----+\n|     UA|    5|\n|     AA|    5|\n|     DL|    5|\n+-------+-----+\n\n"
     ]
    }
   ],
   "source": [
    "#Count the number of flights per airline:\n",
    "df.groupBy(\"CARRIER\").count().show()\n",
    "   "
   ]
  },
  {
   "cell_type": "code",
   "execution_count": 0,
   "metadata": {
    "application/vnd.databricks.v1+cell": {
     "cellMetadata": {
      "byteLimit": 2048000,
      "rowLimit": 10000
     },
     "inputWidgets": {},
     "nuid": "326171a1-2064-41dc-9fb2-74dc207705f4",
     "showTitle": false,
     "title": ""
    }
   },
   "outputs": [
    {
     "output_type": "stream",
     "name": "stdout",
     "output_type": "stream",
     "text": [
      "+--------------+\n|max(ARR_DELAY)|\n+--------------+\n|            30|\n+--------------+\n\n"
     ]
    }
   ],
   "source": [
    "#Find the minimum and maximum delay** for all flights:\n",
    "df.agg({\"ARR_DELAY\": \"min\", \"ARR_DELAY\": \"max\"}).show()"
   ]
  },
  {
   "cell_type": "markdown",
   "metadata": {
    "application/vnd.databricks.v1+cell": {
     "cellMetadata": {},
     "inputWidgets": {},
     "nuid": "dd29d273-57b2-43b5-ba0d-ff2c7ab0f350",
     "showTitle": false,
     "title": ""
    }
   },
   "source": [
    "**Visualizing the Data**"
   ]
  },
  {
   "cell_type": "code",
   "execution_count": 0,
   "metadata": {
    "application/vnd.databricks.v1+cell": {
     "cellMetadata": {
      "byteLimit": 2048000,
      "rowLimit": 10000
     },
     "inputWidgets": {},
     "nuid": "2dfa6290-6a5a-4109-a379-60afd90ccb2f",
     "showTitle": false,
     "title": ""
    }
   },
   "outputs": [
    {
     "output_type": "display_data",
     "data": {
      "text/html": [
       "<style scoped>\n",
       "  .table-result-container {\n",
       "    max-height: 300px;\n",
       "    overflow: auto;\n",
       "  }\n",
       "  table, th, td {\n",
       "    border: 1px solid black;\n",
       "    border-collapse: collapse;\n",
       "  }\n",
       "  th, td {\n",
       "    padding: 5px;\n",
       "  }\n",
       "  th {\n",
       "    text-align: left;\n",
       "  }\n",
       "</style><div class='table-result-container'><table class='table-result'><thead style='background-color: white'><tr><th>CARRIER</th><th>avg(ARR_DELAY)</th></tr></thead><tbody><tr><td>UA</td><td>2.0</td></tr><tr><td>AA</td><td>8.4</td></tr><tr><td>DL</td><td>15.0</td></tr></tbody></table></div>"
      ]
     },
     "metadata": {
      "application/vnd.databricks.v1+output": {
       "addedWidgets": {},
       "aggData": [],
       "aggError": "",
       "aggOverflow": false,
       "aggSchema": [],
       "aggSeriesLimitReached": false,
       "aggType": "",
       "arguments": {},
       "columnCustomDisplayInfos": {},
       "data": [
        [
         "UA",
         2.0
        ],
        [
         "AA",
         8.4
        ],
        [
         "DL",
         15.0
        ]
       ],
       "datasetInfos": [],
       "dbfsResultPath": null,
       "isJsonSchema": true,
       "metadata": {},
       "overflow": false,
       "plotOptions": {
        "customPlotOptions": {},
        "displayType": "table",
        "pivotAggregation": null,
        "pivotColumns": null,
        "xColumns": null,
        "yColumns": null
       },
       "removedWidgets": [],
       "schema": [
        {
         "metadata": "{}",
         "name": "CARRIER",
         "type": "\"string\""
        },
        {
         "metadata": "{}",
         "name": "avg(ARR_DELAY)",
         "type": "\"double\""
        }
       ],
       "type": "table"
      }
     },
     "output_type": "display_data"
    }
   ],
   "source": [
    "# Plot the average delay per airline** using Databricks’ built-in visualization tools:\n",
    "\n",
    "display(df.groupBy(\"CARRIER\").agg({\"ARR_DELAY\": \"avg\"}))"
   ]
  },
  {
   "cell_type": "code",
   "execution_count": 0,
   "metadata": {
    "application/vnd.databricks.v1+cell": {
     "cellMetadata": {
      "byteLimit": 2048000,
      "rowLimit": 10000
     },
     "inputWidgets": {},
     "nuid": "d0d421cf-72f5-4ffb-8f4f-3987828fd936",
     "showTitle": false,
     "title": ""
    }
   },
   "outputs": [
    {
     "output_type": "display_data",
     "data": {
      "text/html": [
       "<style scoped>\n",
       "  .table-result-container {\n",
       "    max-height: 300px;\n",
       "    overflow: auto;\n",
       "  }\n",
       "  table, th, td {\n",
       "    border: 1px solid black;\n",
       "    border-collapse: collapse;\n",
       "  }\n",
       "  th, td {\n",
       "    padding: 5px;\n",
       "  }\n",
       "  th {\n",
       "    text-align: left;\n",
       "  }\n",
       "</style><div class='table-result-container'><table class='table-result'><thead style='background-color: white'><tr><th>CARRIER</th><th>count</th></tr></thead><tbody><tr><td>UA</td><td>5</td></tr><tr><td>AA</td><td>5</td></tr><tr><td>DL</td><td>5</td></tr></tbody></table></div>"
      ]
     },
     "metadata": {
      "application/vnd.databricks.v1+output": {
       "addedWidgets": {},
       "aggData": [],
       "aggError": "",
       "aggOverflow": false,
       "aggSchema": [],
       "aggSeriesLimitReached": false,
       "aggType": "",
       "arguments": {},
       "columnCustomDisplayInfos": {},
       "data": [
        [
         "UA",
         5
        ],
        [
         "AA",
         5
        ],
        [
         "DL",
         5
        ]
       ],
       "datasetInfos": [],
       "dbfsResultPath": null,
       "isJsonSchema": true,
       "metadata": {},
       "overflow": false,
       "plotOptions": {
        "customPlotOptions": {},
        "displayType": "table",
        "pivotAggregation": null,
        "pivotColumns": null,
        "xColumns": null,
        "yColumns": null
       },
       "removedWidgets": [],
       "schema": [
        {
         "metadata": "{}",
         "name": "CARRIER",
         "type": "\"string\""
        },
        {
         "metadata": "{}",
         "name": "count",
         "type": "\"long\""
        }
       ],
       "type": "table"
      }
     },
     "output_type": "display_data"
    }
   ],
   "source": [
    "# Visualize flight count by airline** using a bar chart:\n",
    "  \n",
    "display(df.groupBy(\"CARRIER\").count())\n",
    " \n",
    "\n"
   ]
  },
  {
   "cell_type": "code",
   "execution_count": 0,
   "metadata": {
    "application/vnd.databricks.v1+cell": {
     "cellMetadata": {
      "byteLimit": 2048000,
      "rowLimit": 10000
     },
     "inputWidgets": {},
     "nuid": "fe3d13e6-9a64-494a-9e91-acf269a437fb",
     "showTitle": false,
     "title": ""
    }
   },
   "outputs": [
    {
     "output_type": "display_data",
     "data": {
      "text/html": [
       "<style scoped>\n",
       "  .table-result-container {\n",
       "    max-height: 300px;\n",
       "    overflow: auto;\n",
       "  }\n",
       "  table, th, td {\n",
       "    border: 1px solid black;\n",
       "    border-collapse: collapse;\n",
       "  }\n",
       "  th, td {\n",
       "    padding: 5px;\n",
       "  }\n",
       "  th {\n",
       "    text-align: left;\n",
       "  }\n",
       "</style><div class='table-result-container'><table class='table-result'><thead style='background-color: white'><tr><th>ARR_DELAY</th><th>count</th></tr></thead><tbody><tr><td>15</td><td>2</td></tr><tr><td>30</td><td>1</td></tr><tr><td>0</td><td>4</td></tr><tr><td>-10</td><td>2</td></tr><tr><td>25</td><td>2</td></tr><tr><td>20</td><td>1</td></tr><tr><td>10</td><td>1</td></tr><tr><td>12</td><td>1</td></tr><tr><td>-5</td><td>1</td></tr></tbody></table></div>"
      ]
     },
     "metadata": {
      "application/vnd.databricks.v1+output": {
       "addedWidgets": {},
       "aggData": [],
       "aggError": "",
       "aggOverflow": false,
       "aggSchema": [],
       "aggSeriesLimitReached": false,
       "aggType": "",
       "arguments": {},
       "columnCustomDisplayInfos": {},
       "data": [
        [
         "15",
         2
        ],
        [
         "30",
         1
        ],
        [
         "0",
         4
        ],
        [
         "-10",
         2
        ],
        [
         "25",
         2
        ],
        [
         "20",
         1
        ],
        [
         "10",
         1
        ],
        [
         "12",
         1
        ],
        [
         "-5",
         1
        ]
       ],
       "datasetInfos": [],
       "dbfsResultPath": null,
       "isJsonSchema": true,
       "metadata": {},
       "overflow": false,
       "plotOptions": {
        "customPlotOptions": {},
        "displayType": "table",
        "pivotAggregation": null,
        "pivotColumns": null,
        "xColumns": null,
        "yColumns": null
       },
       "removedWidgets": [],
       "schema": [
        {
         "metadata": "{}",
         "name": "ARR_DELAY",
         "type": "\"string\""
        },
        {
         "metadata": "{}",
         "name": "count",
         "type": "\"long\""
        }
       ],
       "type": "table"
      }
     },
     "output_type": "display_data"
    }
   ],
   "source": [
    "# Plot the distribution of arrival delays** using a histogram:\n",
    "  \n",
    "display(df.groupBy(\"ARR_DELAY\").count())"
   ]
  }
 ],
 "metadata": {
  "application/vnd.databricks.v1+notebook": {
   "dashboards": [],
   "environmentMetadata": {
    "base_environment": "",
    "client": "1"
   },
   "language": "python",
   "notebookMetadata": {
    "pythonIndentUnit": 4
   },
   "notebookName": "Untitled Notebook 2024-09-11 16:22:23",
   "widgets": {}
  }
 },
 "nbformat": 4,
 "nbformat_minor": 0
}
